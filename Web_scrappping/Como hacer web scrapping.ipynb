{
 "cells": [
  {
   "cell_type": "markdown",
   "metadata": {},
   "source": [
    "# Como hacer Web_Scrapping."
   ]
  },
  {
   "cell_type": "markdown",
   "metadata": {},
   "source": [
    "### Introduccion a HTML\n",
    "HTML(HyperTextMarkup Language) es el lenguaje estandar para creaar y diseñar paginas web.Una pagina web esta estructurada en un documento HTML que contiene una serie de elementos(etiquetas) que definen su contenido y estructura."
   ]
  },
  {
   "cell_type": "markdown",
   "metadata": {},
   "source": [
    "### Estructura basica de un documento HTML\n",
    "un documento HTML tipico tiene la siguiente estructura.\n",
    "```html\n",
    "<!DOCTYPE html>\n",
    "<html>\n",
    "<head>\n",
    "    <title>Título de la Página</title>\n",
    "</head>\n",
    "<body>\n",
    "    <header>\n",
    "        <!-- Contenido del encabezado -->\n",
    "    </header>\n",
    "    <nav>\n",
    "        <!-- Menú de navegación -->\n",
    "    </nav>\n",
    "    <main>\n",
    "        <!-- Contenido principal -->\n",
    "    </main>\n",
    "    <footer>\n",
    "        <!-- Pie de página -->\n",
    "    </footer>\n",
    "</body>\n",
    "</html>\n",
    "\n"
   ]
  },
  {
   "cell_type": "markdown",
   "metadata": {},
   "source": [
    "### Elementos y atributos\n",
    "\n"
   ]
  },
  {
   "cell_type": "markdown",
   "metadata": {},
   "source": [
    "```html\n",
    "Elementos: Los elementos HTML están representados por etiquetas. Cada etiqueta tiene un inicio <etiqueta> y un cierre </etiqueta>, aunque algunas etiquetas no tienen cierre y se autocierran (como <img />)."
   ]
  },
  {
   "cell_type": "markdown",
   "metadata": {},
   "source": [
    "```html\n",
    "Atributos: Los atributos proporcionan información adicional sobre los elementos. Se colocan dentro de la etiqueta de inicio. Por ejemplo, en <img src=\"imagen.jpg\" alt=\"Descripción de la imagen\" />, src y alt son atributos."
   ]
  },
  {
   "cell_type": "markdown",
   "metadata": {},
   "source": [
    "### Etiquetas comunes en HTML."
   ]
  },
  {
   "cell_type": "markdown",
   "metadata": {},
   "source": [
    "```html\n",
    "<html>: El contenedor principal de un documento HTML.\n",
    "<head>: Contiene metadatos sobre el documento, como <title>, <meta>, <link>, <style>\n",
    "<body>: Contiene el contenido visible de la pagina.\n",
    "<header>: Seccion introductoria de la pagina, generalmente contiene el logotipo y la nevagacion principal.\n",
    "<nav>: Contiene enlaces de navegacion.\n",
    "<main>: Contenido principal del documento.\n",
    "<footer>: Pie de pagina.\n",
    "<div>: Division generica para agrupar contenido.\n",
    "<span>: Contenedor en linea para agrupar texto o elementos.\n",
    "<h1> a <h6>: Encabezados de nivel 1 a 6.\n",
    "<p>: Parrafo.\n",
    "<a>: Contenedor en linea para agrupar texto o elementos.\n",
    "<img>: imagen.\n",
    "<ul>: Lista desordenada.\n",
    "<ol>: Lista ordenada.\n",
    "<li>: Elemento de lista."
   ]
  },
  {
   "cell_type": "markdown",
   "metadata": {},
   "source": [
    "### Clases e IDs"
   ]
  },
  {
   "cell_type": "markdown",
   "metadata": {},
   "source": [
    "__Clase(class):__ Se utiliza para aplicar estilos CSS o para seleccionar multiples elementos con el mismo nombre de clase. \n",
    "Ejemplo:\n",
    "```html\n",
    "<div class=\"mi-clase\">Contenido</div>\n",
    "\n"
   ]
  },
  {
   "cell_type": "markdown",
   "metadata": {},
   "source": [
    "__ID (id):__ Se utiliza para identificar un único elemento. Los IDs deben ser únicos dentro de una página. \n",
    "Ejemplo:\n",
    "```html\n",
    "<div id=\"mi-id\">Contenido</div>."
   ]
  },
  {
   "cell_type": "markdown",
   "metadata": {},
   "source": [
    "### Selectores en Web Scraping"
   ]
  },
  {
   "cell_type": "markdown",
   "metadata": {},
   "source": [
    "Cuando se realiza web scrapping, se utilizan selectores para identificar y extraer datos de los elementos HTML.Los selectores se basan en las etiquetas, clases, IDs y otros atributos."
   ]
  },
  {
   "cell_type": "markdown",
   "metadata": {},
   "source": [
    "__Por etiqueta:__ \n",
    "```python\n",
    "Para seleccionar todos los parrafos: soup.find_all(\"p\")\n"
   ]
  },
  {
   "cell_type": "markdown",
   "metadata": {},
   "source": [
    "__Por clase:__ \n",
    "```python\n",
    "Para seleccionar todos los elementos con la clase 'mi-clase': soup.find_all(class_=\"mi-clase\")\n"
   ]
  },
  {
   "cell_type": "markdown",
   "metadata": {},
   "source": [
    "__ID:__ \n",
    "```python\n",
    "Para seleccionar el elemento con el ID 'mi-id:' soup.find(id=\"mi-id\")\n"
   ]
  },
  {
   "cell_type": "markdown",
   "metadata": {},
   "source": [
    "__Por atributo:__ \n",
    "```python\n",
    "Para seleccionar todos los enlaces con href=\"https://example.com\": soup.find_all(\"a\", href=\"https://example.com\")\n"
   ]
  },
  {
   "cell_type": "markdown",
   "metadata": {},
   "source": [
    "## Selenium"
   ]
  },
  {
   "cell_type": "markdown",
   "metadata": {},
   "source": [
    "### Empezando\n",
    "__Que es selenium?__\n",
    "\n",
    "Selenium es una herramienta de automatizacion de navegadores web que permite a los desarrolladores y testers para automatizar las interacciones con aplicaciones web atraves de diferentes navegadores.\n",
    "\n",
    "__Características Principales de Selenium__\n",
    "\n",
    "1. __Compatibilidad multinavegador:__\n",
    " Selenium soporta varios navegadores web, incluyendo Google Chorome, Mozilla Firefox, Safari, Internet Explorer y Microsoft Edge.\n",
    "2. __Soporte multiplataforma:__\n",
    " Selenium se puede ejecutar en varios sistemas operativos como Windows, macOS y Linux.\n",
    "3. __Automatizacion de interacciones:__\n",
    " Selenium ofrece soporte para varios lenguajes de programacion como java, python, c#, etc.\n",
    "4. __Automatizacion de interacciones:__\n",
    " Con selenium, puedes automatizar casi cualquier interaccion que un usuario puede tener con una aplicacion web, como hacer click en botones, llenar formularios, navegar entre paginas y mucho mas.\n",
    "5. __selenium WebDriver:__\n",
    "Es el componente principal de selenium que interactua directamente con el navegador. WebDriver permite controlar el navegador de manera programatica.\n",
    "6. __Selenium IDE:__\n",
    "Una herramienta de grabacion y reproduccion que permite a los usuarios grabar sus interacciones con el navegador y luego reproducirlas para la automatizacion de pruebas sin necesidad de escribir codigo.\n",
    "7. __Selenium Grid:__ Permite ejecutar pruebas en multiples maquinas y navegadores de manera concurrente, facilitando las pruebas distribuidas y paralelas."
   ]
  },
  {
   "cell_type": "markdown",
   "metadata": {},
   "source": [
    "### Ocho componentes basicos."
   ]
  },
  {
   "cell_type": "markdown",
   "metadata": {},
   "source": [
    "#### 1. Secciones de conduccion\n",
    "\n",
    "Iniciar y detener una sesion sirve para abrir y cerrar un navegador.\n",
    "\n",
    "__Creando sesiones__\n",
    "La creacion de una nueva sesion se corresponde con el comando W3C para nueva sesion.\n",
    "La sesion se crea automaticamente inicializando un nuevo objeto de clase Driver.\n"
   ]
  },
  {
   "cell_type": "markdown",
   "metadata": {},
   "source": [
    "1. __Iniciar seccion:__\n",
    "```python\n",
    "     driver = webdriver.Chrome()"
   ]
  },
  {
   "cell_type": "markdown",
   "metadata": {},
   "source": [
    "#### 2. Navegacion del navegador."
   ]
  },
  {
   "cell_type": "markdown",
   "metadata": {},
   "source": [
    "\n",
    "\n",
    "Una vez que se inicia el navegador es necesario abrir el sitio web a visitar.\n",
    "2. __Navegacion__\n",
    "```python\n",
    "     driver.get(\"https://www.selenium.dev/selenium/web/web-form.html\")"
   ]
  },
  {
   "cell_type": "markdown",
   "metadata": {},
   "source": [
    "ademas tambien tenemos algunos comandos que nos serviran en algunas funciones.\n",
    "\n",
    "__1.ATRAS__\n",
    "Presionando el boton Atras del navegador.\n",
    "\n",
    "driver.back()\n",
    "\n",
    "__2.ADELANTE__\n",
    "Presionando el boton de avnace del navegador.\n",
    "\n",
    "driver.forward()\n",
    "\n",
    "__3.Actualizar__\n",
    "actualizar la pagina.\n",
    "\n",
    "driver.refresh()"
   ]
  },
  {
   "cell_type": "markdown",
   "metadata": {},
   "source": [
    "#### 3. Obtener informacion del navegador."
   ]
  },
  {
   "cell_type": "markdown",
   "metadata": {},
   "source": [
    "- Obtener informacion del navegador.\n",
    "Puedes leer el titulo de la pagina actual del navegador.\n",
    "\n",
    "title = driver.title\n",
    "\n",
    "- Se pueder leer la url actual desde la barra de direcciones del navegador usando:\n",
    "\n",
    "url = driver.current_url"
   ]
  },
  {
   "cell_type": "markdown",
   "metadata": {},
   "source": [
    "#### 4. Establecer una estrategia de espera\n",
    "\n",
    "Básicamente, debes asegurarte de que el elemento esté en la página antes de intentar localizarlo y de que el elemento esté en un estado interactuable antes de intentar interactuar con él.\n",
    "```python\n",
    "driver.implicitly_wait(0.5)"
   ]
  },
  {
   "cell_type": "markdown",
   "metadata": {},
   "source": [
    "#### 5. Encontrar un elemento."
   ]
  },
  {
   "cell_type": "markdown",
   "metadata": {},
   "source": [
    "\n",
    "La mayoría de los comandos en la mayoría de las sesiones de Selenium están relacionados con elementos y no puedes interactuar con uno sin encontrar primero un elemento.\n",
    "```python\n",
    "text_box = driver.find_element(by=By.NAME, value=\"my-text\")\n",
    "submit_button = driver.find_element(by=By.CSS_SELECTOR, value=\"button\")"
   ]
  },
  {
   "cell_type": "markdown",
   "metadata": {},
   "source": [
    "#### 6. Tomar accion sobre el elemento\n",
    "\n",
    "__Hacer click:__ \n",
    "```python\n",
    "\tdriver.find_element(By.NAME, \"color_input\").click()"
   ]
  },
  {
   "cell_type": "markdown",
   "metadata": {},
   "source": [
    "__Enviar Claves:__\n",
    "\n",
    "Escribe las claves proporcionadas en un elemento editable.\n",
    "```python\n",
    "    # Clear field to empty it from any previous data\n",
    "\tdriver.find_element(By.NAME, \"email_input\").clear()\n",
    "\n",
    "\t# Enter Text\n",
    "\tdriver.find_element(By.NAME, \"email_input\").send_keys(\"admin@localhost.dev\" )"
   ]
  },
  {
   "cell_type": "markdown",
   "metadata": {},
   "source": [
    "#### 7. Solicitar informacion del elemento.\n",
    "```python\n",
    "message = driver.find_element(by=By.ID, value=\"message\")"
   ]
  },
  {
   "cell_type": "markdown",
   "metadata": {},
   "source": [
    "### Ejemplo Basico usando python.\n",
    "Aqui hay un ejemplo simple de como usar selenium con python para abrir una pagina web y buscar un elemento.\n",
    "Una espera implícita rara vez es la mejor solución, pero es la más fácil de demostrar aquí, así que la usaremos como marcador de posición."
   ]
  },
  {
   "cell_type": "code",
   "execution_count": 1,
   "metadata": {},
   "outputs": [],
   "source": [
    "\n"
   ]
  },
  {
   "cell_type": "markdown",
   "metadata": {},
   "source": [
    "### Web Driver"
   ]
  },
  {
   "cell_type": "markdown",
   "metadata": {},
   "source": [
    "Web driver controla un navegador de forma nativa, como lo haria un usuario, ya sea localmente o en una maquina remota utilizando el servidor selenium.\n"
   ]
  }
 ],
 "metadata": {
  "kernelspec": {
   "display_name": "Python 3",
   "language": "python",
   "name": "python3"
  },
  "language_info": {
   "codemirror_mode": {
    "name": "ipython",
    "version": 3
   },
   "file_extension": ".py",
   "mimetype": "text/x-python",
   "name": "python",
   "nbconvert_exporter": "python",
   "pygments_lexer": "ipython3",
   "version": "3.12.3"
  }
 },
 "nbformat": 4,
 "nbformat_minor": 2
}
