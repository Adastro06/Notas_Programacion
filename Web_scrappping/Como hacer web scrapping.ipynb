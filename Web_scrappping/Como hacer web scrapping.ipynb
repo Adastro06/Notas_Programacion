{
 "cells": [
  {
   "cell_type": "markdown",
   "metadata": {},
   "source": [
    "# Como hacer Web_Scrapping."
   ]
  },
  {
   "cell_type": "markdown",
   "metadata": {},
   "source": [
    "## Introduccion a HTML\n",
    "HTML(HyperTextMarkup Language) es el lenguaje estandar para creaar y diseñar paginas web.Una pagina web esta estructurada en un documento HTML que contiene una serie de elementos(etiquetas) que definen su contenido y estructura."
   ]
  },
  {
   "cell_type": "markdown",
   "metadata": {},
   "source": [
    "### Estructura basica de un documento HTML\n",
    "un documento HTML tipico tiene la siguiente estructura.\n",
    "```html\n",
    "<!DOCTYPE html>\n",
    "<html>\n",
    "<head>\n",
    "    <title>Título de la Página</title>\n",
    "</head>\n",
    "<body>\n",
    "    <header>\n",
    "        <!-- Contenido del encabezado -->\n",
    "    </header>\n",
    "    <nav>\n",
    "        <!-- Menú de navegación -->\n",
    "    </nav>\n",
    "    <main>\n",
    "        <!-- Contenido principal -->\n",
    "    </main>\n",
    "    <footer>\n",
    "        <!-- Pie de página -->\n",
    "    </footer>\n",
    "</body>\n",
    "</html>\n",
    "\n"
   ]
  },
  {
   "cell_type": "markdown",
   "metadata": {},
   "source": [
    "### Elementos y atributos\n",
    "__1.- Elemetos:__ Los elementos HTML estan represnetados por etiquetas. Cada etiqueta tienen un inicio __'<etiqueta>'__ y un cierre __'</etiqueta>'__, aun que algunas etiquetas no tienen cierre y se autocierran (como __'img />'__) "
   ]
  }
 ],
 "metadata": {
  "language_info": {
   "name": "python"
  }
 },
 "nbformat": 4,
 "nbformat_minor": 2
}
