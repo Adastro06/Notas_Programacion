{
 "cells": [
  {
   "cell_type": "markdown",
   "id": "307d36c4-55d7-4792-9dff-17a6af0556ef",
   "metadata": {},
   "source": [
    "# PYTHON desde cero\n"
   ]
  },
  {
   "cell_type": "markdown",
   "id": "b493897e-ae58-44de-a723-7642a3dcee01",
   "metadata": {},
   "source": [
    "## Primer acercamiento a python\n"
   ]
  },
  {
   "cell_type": "markdown",
   "id": "c7ff3c8c",
   "metadata": {},
   "source": [
    "Python es un lenguaje de programación de alto nivel, interpretado, interactivo y orientado a objetos. Fue creado a finales de los años 80 por Guido van Rossum y ha ganado mucha popularidad debido a su sintaxis clara y legible, que hace que sea fácil de aprender y entender. Python es utilizado en una amplia variedad de aplicaciones, como desarrollo web, análisis de datos, inteligencia artificial, automatización de tareas, entre otros. Es conocido por su filosofía de legibilidad y su enfoque en la simplicidad y la elegancia del código.\n"
   ]
  },
  {
   "cell_type": "markdown",
   "id": "fb23b9c1",
   "metadata": {},
   "source": [
    "## Funciones integradas\n"
   ]
  },
  {
   "cell_type": "markdown",
   "id": "8cf631a5",
   "metadata": {},
   "source": [
    "En python tenemos muchas funciones integradas. Las cuales estan disponibles globalmente para su uso, lo que significa que se pueden usar sin importarlas o configurarlas.\n",
    "\n",
    "algunas de las mas utilizadas son:\n"
   ]
  },
  {
   "cell_type": "markdown",
   "id": "53faf240",
   "metadata": {},
   "source": [
    "1.- print(): Esta función se utiliza para imprimir mensajes en la consola.\n"
   ]
  },
  {
   "cell_type": "code",
   "execution_count": 19,
   "id": "391b5b0b",
   "metadata": {},
   "outputs": [
    {
     "name": "stdout",
     "output_type": "stream",
     "text": [
      "Hola, mundo!\n"
     ]
    }
   ],
   "source": [
    "print(\"Hola, mundo!\")"
   ]
  },
  {
   "cell_type": "markdown",
   "id": "07e197c9",
   "metadata": {},
   "source": [
    "2- len(): Devuelve la longitud (número de elementos) de un objeto, como una cadena de texto, una lista o una tupla.\n"
   ]
  },
  {
   "cell_type": "code",
   "execution_count": 20,
   "id": "b732e29e",
   "metadata": {},
   "outputs": [
    {
     "name": "stdout",
     "output_type": "stream",
     "text": [
      "4\n"
     ]
    }
   ],
   "source": [
    "nombre = \"Juan\"\n",
    "print(len(nombre))"
   ]
  },
  {
   "cell_type": "markdown",
   "id": "14cb9e2c",
   "metadata": {},
   "source": [
    "3- type(): Devuelve el tipo de un objeto.\n"
   ]
  },
  {
   "cell_type": "code",
   "execution_count": 21,
   "id": "fcd1c53e",
   "metadata": {},
   "outputs": [
    {
     "name": "stdout",
     "output_type": "stream",
     "text": [
      "<class 'int'>\n"
     ]
    }
   ],
   "source": [
    "x = 5\n",
    "print(type(x))"
   ]
  },
  {
   "cell_type": "markdown",
   "id": "5bd4773f",
   "metadata": {},
   "source": [
    "4- int(): Convierte un valor en un entero.\n"
   ]
  },
  {
   "cell_type": "code",
   "execution_count": 22,
   "id": "43b0ddfd",
   "metadata": {},
   "outputs": [
    {
     "name": "stdout",
     "output_type": "stream",
     "text": [
      "10\n"
     ]
    }
   ],
   "source": [
    "x = int(\"10\")\n",
    "print(x)"
   ]
  },
  {
   "cell_type": "markdown",
   "id": "54533f47",
   "metadata": {},
   "source": [
    "5- float(): Convierte un valor en un número de punto flotante.\n"
   ]
  },
  {
   "cell_type": "code",
   "execution_count": 23,
   "id": "37685206",
   "metadata": {},
   "outputs": [
    {
     "name": "stdout",
     "output_type": "stream",
     "text": [
      "3.14\n"
     ]
    }
   ],
   "source": [
    "x = float(\"3.14\")\n",
    "print(x)\n"
   ]
  },
  {
   "cell_type": "markdown",
   "id": "7b3d8f60",
   "metadata": {},
   "source": [
    "6- str(): Convierte un valor en una cadena de texto.\n"
   ]
  },
  {
   "cell_type": "code",
   "execution_count": 24,
   "id": "168a9ecf",
   "metadata": {},
   "outputs": [
    {
     "name": "stdout",
     "output_type": "stream",
     "text": [
      "123\n"
     ]
    }
   ],
   "source": [
    "x = str(123)\n",
    "print(x)"
   ]
  },
  {
   "cell_type": "markdown",
   "id": "33881365",
   "metadata": {},
   "source": [
    "7- input(): Permite al usuario ingresar datos desde la consola.\n"
   ]
  },
  {
   "cell_type": "code",
   "execution_count": 28,
   "id": "e1356f9a",
   "metadata": {},
   "outputs": [
    {
     "name": "stdout",
     "output_type": "stream",
     "text": [
      "Hola, enrique\n"
     ]
    }
   ],
   "source": [
    "nombre = input(\"Ingrese su nombre: \")\n",
    "print(\"Hola,\", nombre)"
   ]
  },
  {
   "cell_type": "markdown",
   "id": "35aacbd4",
   "metadata": {},
   "source": [
    "8- list(): Crea una lista a partir de un iterable.\n"
   ]
  },
  {
   "cell_type": "code",
   "execution_count": null,
   "id": "e5b9f011",
   "metadata": {},
   "outputs": [
    {
     "name": "stdout",
     "output_type": "stream",
     "text": [
      "[0, 1, 2, 3, 4]\n"
     ]
    }
   ],
   "source": [
    "numeros = list(range(5))\n",
    "print(numeros)  "
   ]
  },
  {
   "cell_type": "markdown",
   "id": "e708d5e1",
   "metadata": {},
   "source": [
    "9- dict(): Crea un diccionario a partir de argumentos clave-valor.\n"
   ]
  },
  {
   "cell_type": "code",
   "execution_count": null,
   "id": "95de9b95",
   "metadata": {},
   "outputs": [
    {
     "name": "stdout",
     "output_type": "stream",
     "text": [
      "{'a': 1, 'b': 2, 'c': 3}\n"
     ]
    }
   ],
   "source": [
    "d = dict(a=1, b=2, c=3)\n",
    "print(d)  "
   ]
  },
  {
   "cell_type": "markdown",
   "id": "ef4ccdf7",
   "metadata": {},
   "source": [
    "10- min(): Devuelve el elemento más pequeño de un iterable.\n"
   ]
  },
  {
   "cell_type": "code",
   "execution_count": null,
   "id": "1a9edfae",
   "metadata": {},
   "outputs": [
    {
     "name": "stdout",
     "output_type": "stream",
     "text": [
      "1\n"
     ]
    }
   ],
   "source": [
    "numeros = [5, 2, 8, 1, 9]\n",
    "print(min(numeros))  "
   ]
  },
  {
   "cell_type": "markdown",
   "id": "12172965",
   "metadata": {},
   "source": [
    "11- max(): Devuelve el elemento más grande de un iterable.\n"
   ]
  },
  {
   "cell_type": "code",
   "execution_count": null,
   "id": "de11e20d",
   "metadata": {},
   "outputs": [
    {
     "name": "stdout",
     "output_type": "stream",
     "text": [
      "9\n"
     ]
    }
   ],
   "source": [
    "numeros = [5, 2, 8, 1, 9]\n",
    "print(max(numeros))"
   ]
  },
  {
   "cell_type": "markdown",
   "id": "6023422e",
   "metadata": {},
   "source": [
    "12- sum(): Devuelve la suma de todos los elementos de un iterable.\n"
   ]
  },
  {
   "cell_type": "code",
   "execution_count": null,
   "id": "cf7dbb63",
   "metadata": {},
   "outputs": [
    {
     "name": "stdout",
     "output_type": "stream",
     "text": [
      "15\n"
     ]
    }
   ],
   "source": [
    "numeros = [1, 2, 3, 4, 5]\n",
    "print(sum(numeros))"
   ]
  },
  {
   "cell_type": "markdown",
   "id": "88e66695",
   "metadata": {},
   "source": [
    "13- sorted(): Devuelve una lista ordenada a partir de los elementos de un iterable.\n"
   ]
  },
  {
   "cell_type": "code",
   "execution_count": null,
   "id": "863b4ec2",
   "metadata": {},
   "outputs": [
    {
     "name": "stdout",
     "output_type": "stream",
     "text": [
      "[1, 2, 5, 8, 9]\n"
     ]
    }
   ],
   "source": [
    "numeros = [5, 2, 8, 1, 9]\n",
    "print(sorted(numeros)) "
   ]
  },
  {
   "cell_type": "markdown",
   "id": "2167da53",
   "metadata": {},
   "source": [
    "14- open(): Abre un archivo en modo lectura, escritura o ambos, según el modo especificado.\n"
   ]
  },
  {
   "cell_type": "code",
   "execution_count": null,
   "id": "d4e01a29",
   "metadata": {},
   "outputs": [],
   "source": [
    "with open(\"archivo.txt\", \"r\") as f:\n",
    "    contenido = f.read()\n",
    "    print(contenido)"
   ]
  },
  {
   "cell_type": "markdown",
   "id": "0743b791",
   "metadata": {},
   "source": [
    "15- dir(): Muestra una lista de los atributos y métodos de un objeto.\n"
   ]
  },
  {
   "cell_type": "code",
   "execution_count": null,
   "id": "30286811",
   "metadata": {},
   "outputs": [
    {
     "name": "stdout",
     "output_type": "stream",
     "text": [
      "['__add__', '__class__', '__class_getitem__', '__contains__', '__delattr__', '__delitem__', '__dir__', '__doc__', '__eq__', '__format__', '__ge__', '__getattribute__', '__getitem__', '__getstate__', '__gt__', '__hash__', '__iadd__', '__imul__', '__init__', '__init_subclass__', '__iter__', '__le__', '__len__', '__lt__', '__mul__', '__ne__', '__new__', '__reduce__', '__reduce_ex__', '__repr__', '__reversed__', '__rmul__', '__setattr__', '__setitem__', '__sizeof__', '__str__', '__subclasshook__', 'append', 'clear', 'copy', 'count', 'extend', 'index', 'insert', 'pop', 'remove', 'reverse', 'sort']\n"
     ]
    }
   ],
   "source": [
    "numeros = [1, 2, 3]\n",
    "print(dir(numeros))"
   ]
  },
  {
   "cell_type": "markdown",
   "id": "3a28ef08",
   "metadata": {},
   "source": [
    "## Variables en python\n"
   ]
  },
  {
   "cell_type": "markdown",
   "id": "30f65c75",
   "metadata": {},
   "source": [
    "Las variables almacenan almacenan datos en la computadora. Se recomienda el uso nemonicas, estas son variables que se pueden recordar y asociar facilamente.\n",
    "Una varible se refiere a una direccion de memoria en la que se almacenan los datos.\n",
    "\n",
    "Una variable puede tener un nombre corto (como x, y, z), pero se recomienda encarecidamente un nombre más descriptivo (nombre, apellido, edad, país).\n",
    "\n",
    "El nombre de una variable debe comenzar con una letra o un carácter de subrayado.\n",
    "El nombre de una variable no puede comenzar con un número\n",
    "El nombre de una variable solo puede contener caracteres alfanuméricos y guiones bajos (Az, 0-9 y \\_).\n",
    "Los nombres de las variables distinguen entre mayúsculas y minúsculas (nombre, nombre, nombre y NOMBRE) son variables diferentes\n",
    "\n",
    "Se pueden declarar multiples variables de una linea:\n"
   ]
  },
  {
   "cell_type": "code",
   "execution_count": null,
   "id": "4211de9a",
   "metadata": {},
   "outputs": [
    {
     "name": "stdout",
     "output_type": "stream",
     "text": [
      "Asabeneh Yetayeh Finland 250 True\n",
      "First name: Asabeneh\n",
      "Last name:  Yetayeh\n",
      "Country:  Finland\n",
      "Age:  250\n",
      "Married:  True\n"
     ]
    }
   ],
   "source": [
    "# Variables in Python\n",
    "first_name = 'Asabeneh' #String\n",
    "last_name = 'Yetayeh'  #String\n",
    "country = 'Finland'  #String\n",
    "city = 'Helsinki'   #String\n",
    "age = 250    #int\n",
    "is_married = True  #Boleano\n",
    "skills = ['HTML', 'CSS', 'JS', 'React', 'Python'] #Listas\n",
    "person_info = {\n",
    "   'firstname':'Asabeneh',\n",
    "   'lastname':'Yetayeh',\n",
    "   'country':'Finland',\n",
    "   'city':'Helsinki'\n",
    "   }  #Diccionario\n",
    "print(first_name, last_name, country, age, is_married)\n",
    "print('First name:', first_name)\n",
    "print('Last name: ', last_name)\n",
    "print('Country: ', country)\n",
    "print('Age: ', age)\n",
    "print('Married: ', is_married)"
   ]
  },
  {
   "cell_type": "markdown",
   "id": "b7ea84ec-ad13-4a0e-836b-1bf1637ecc86",
   "metadata": {},
   "source": [
    "## Operaciones en python\n"
   ]
  },
  {
   "cell_type": "markdown",
   "id": "bba60e7e",
   "metadata": {},
   "source": [
    "### Operadores de asignacion.\n"
   ]
  },
  {
   "cell_type": "markdown",
   "id": "36506b2b",
   "metadata": {},
   "source": [
    "Los operadores de asignacion se utilizan para asignar valores a variables. Tomemos (\"=') como ejemplo. El signo igual en matematicas muestra que dos valores son iguales; sin embargo el signo de = en python indica que estamos almacenando un valor a una determinada variable. y lo llamamos asignacion o asignacion de de valor a una variable.\n"
   ]
  },
  {
   "cell_type": "markdown",
   "id": "49d9836a",
   "metadata": {},
   "source": [
    "### Operadores aritmeticos\n"
   ]
  },
  {
   "cell_type": "code",
   "execution_count": null,
   "id": "4b0e562f-64d7-42f0-99c7-af326a702089",
   "metadata": {
    "tags": []
   },
   "outputs": [
    {
     "name": "stdout",
     "output_type": "stream",
     "text": [
      "5\n",
      "2\n",
      "6\n",
      "1.5\n",
      "9\n",
      "1\n",
      "1\n"
     ]
    }
   ],
   "source": [
    "print(2 + 3)   # adicion(+)\n",
    "print(3 - 1)   # sustraccion(-)\n",
    "print(2 * 3)   # multiplicacion(*)\n",
    "print(3 / 2)   # division(/)\n",
    "print(3 ** 2)  # exponential(**)\n",
    "print(3 % 2)   # reciduo de la division(%)\n",
    "print(3 // 2)  # Operador de División Entera, solo entrega el entero de la division(//)\n"
   ]
  },
  {
   "cell_type": "markdown",
   "id": "ee1f2129",
   "metadata": {},
   "source": [
    "### Operadores de comparacion.\n"
   ]
  },
  {
   "cell_type": "markdown",
   "id": "54423d8d",
   "metadata": {},
   "source": [
    "En programacion comparamos valores, usamos operadores de comparacion para comparar dos valores. Comprobamos si un valor es mayor, menol o igual a otro valor.\n"
   ]
  },
  {
   "cell_type": "markdown",
   "id": "912f7314",
   "metadata": {},
   "source": [
    "1.- == Igual\n",
    "\n",
    "2.- != No igual\n",
    "\n",
    "3.- > Mayor que\n",
    "\n",
    "4.- < Menor que\n",
    "\n",
    "5.- >= Mayor o igual que\n",
    "\n",
    "6.- <= Menor o igual que\n"
   ]
  },
  {
   "cell_type": "markdown",
   "id": "b0ea1063",
   "metadata": {},
   "source": [
    "### Operadores Logicos\n"
   ]
  },
  {
   "cell_type": "markdown",
   "id": "afc0d92f",
   "metadata": {},
   "source": [
    "Python a diferencia de otros lenguajes utiliza las palabras clave and, or, not para operadores logicos.Los operadores logicos se utilizan para combinar declaraciones condicionales.\n",
    "\n",
    "AND\n",
    "| Entrada 1 | Entrada 2 | Salida |\n",
    "|--------------|--------------|--------------|\n",
    "| False |False | False |\n",
    "| False |True | False |\n",
    "|True |False | False |\n",
    "|True |True |True |\n",
    "\n",
    "OR\n",
    "| Entrada 1 | Entrada 2 | Salida |\n",
    "|--------------|--------------|--------------|\n",
    "| False |False | False |\n",
    "| False |True | True |\n",
    "|True |False | True |\n",
    "|True |True |True |\n",
    "\n",
    "NOT\n",
    "| Entrada 1 | Salida |\n",
    "|--------------|--------------|\n",
    "| False |True|\n",
    "| True |False |\n"
   ]
  },
  {
   "cell_type": "markdown",
   "id": "733bfcdc-412c-49cf-b8c1-e73e848fad6a",
   "metadata": {},
   "source": [
    "## Tipos de datos\n"
   ]
  },
  {
   "cell_type": "code",
   "execution_count": null,
   "id": "49325fe5-3352-4731-9e74-b84a76492855",
   "metadata": {
    "tags": []
   },
   "outputs": [
    {
     "name": "stdout",
     "output_type": "stream",
     "text": [
      "<class 'int'>\n",
      "<class 'float'>\n",
      "<class 'complex'>\n",
      "<class 'str'>\n",
      "<class 'list'>\n",
      "<class 'dict'>\n",
      "<class 'set'>\n",
      "<class 'tuple'>\n",
      "<class 'bool'>\n"
     ]
    }
   ],
   "source": [
    "print(type(10))                  # Int\n",
    "print(type(3.14))                # Float\n",
    "print(type(1 + 3j))              # Complex\n",
    "print(type('Asabeneh'))          # String\n",
    "print(type([1, 2, 3]))           # List\n",
    "print(type({'name':'Asabeneh'})) # Dictionary\n",
    "print(type({9.8, 3.14, 2.7}))    # Set\n",
    "print(type((9.8, 3.14, 2.7)))    # Tuple\n",
    "print(type((True)))               # Booleanos\n",
    "# todo valor es igual a True a menos que sea 0, False o Null."
   ]
  },
  {
   "cell_type": "markdown",
   "id": "eda9dd42",
   "metadata": {},
   "source": [
    "### Strings\n"
   ]
  },
  {
   "cell_type": "markdown",
   "id": "42f3fa27",
   "metadata": {},
   "source": [
    "Los strings son datos de tipos cadena, cualquier tipo de datos escrito como texto es un string.\n",
    "Existen diferentes metodos de cadena y funciones integradas para manejar tipos de datos de cadena.\n"
   ]
  },
  {
   "cell_type": "markdown",
   "id": "31eb4304",
   "metadata": {},
   "source": [
    "#### Creando un string\n"
   ]
  },
  {
   "cell_type": "code",
   "execution_count": 1,
   "id": "758ea186",
   "metadata": {},
   "outputs": [
    {
     "name": "stdout",
     "output_type": "stream",
     "text": [
      "P\n",
      "1\n",
      "Hello, World!\n",
      "13\n",
      "Espero que estés disfrutando de 30 días de Python Challenge\n"
     ]
    }
   ],
   "source": [
    "letra = 'P'                \n",
    "print(letra)               \n",
    "print(len(letra))          \n",
    "\n",
    "greeting = 'Hello, World!'  \n",
    "print(greeting)             \n",
    "print(len(greeting))        \n",
    "sentence = \"Espero que estés disfrutando de 30 días de Python Challenge\"\n",
    "print(sentence)"
   ]
  },
  {
   "cell_type": "markdown",
   "id": "b90acef5",
   "metadata": {},
   "source": [
    "#### Secuencias de escape en Strings\n"
   ]
  },
  {
   "cell_type": "markdown",
   "id": "5d54d3dd",
   "metadata": {},
   "source": [
    "En Python y otros lenguajes de programación, \\ seguido de un carácter es una secuencia de escape. Veamos los caracteres de escape más comunes:\n",
    "\n",
    "\\n: nueva línea\n",
    "\n",
    "\\t: Tabulador significa (8 espacios)\n",
    "\n",
    "\\\\: barra invertida\n",
    "\n",
    "\\': Una frase (')\n",
    "\n",
    "\\\": comillas dobles (\")\n"
   ]
  },
  {
   "cell_type": "markdown",
   "id": "a0fe4448",
   "metadata": {},
   "source": [
    "#### Interpolación de cadenas/cadenas f (Python 3.6+)\n"
   ]
  },
  {
   "cell_type": "markdown",
   "id": "4f880e91",
   "metadata": {},
   "source": [
    "para interpolar cadenats tenemos las f-strings. Las cadenas comienzan con f y podemos inyectar los datos en sus posiciones correspondientes.\n"
   ]
  },
  {
   "cell_type": "code",
   "execution_count": null,
   "id": "16ab436f",
   "metadata": {},
   "outputs": [
    {
     "name": "stdout",
     "output_type": "stream",
     "text": [
      "4 + 3 = 7\n",
      "4 - 3 = 1\n",
      "4 * 3 = 12\n",
      "4 / 3 = 1.33\n",
      "4 % 3 = 1\n",
      "4 // 3 = 1\n",
      "4 ** 3 = 64\n"
     ]
    }
   ],
   "source": [
    "a = 4\n",
    "b = 3\n",
    "print(f'{a} + {b} = {a +b}')\n",
    "print(f'{a} - {b} = {a - b}')\n",
    "print(f'{a} * {b} = {a * b}')\n",
    "print(f'{a} / {b} = {a / b:.2f}')\n",
    "print(f'{a} % {b} = {a % b}')\n",
    "print(f'{a} // {b} = {a // b}')\n",
    "print(f'{a} ** {b} = {a ** b}')"
   ]
  },
  {
   "cell_type": "markdown",
   "id": "404ea086",
   "metadata": {},
   "source": [
    "#### Strings de Python como secuencias de caracteres\n"
   ]
  },
  {
   "cell_type": "markdown",
   "id": "2470830c",
   "metadata": {},
   "source": [
    "las cadenas de python son secuencias de caracteres y compartesn sus metodos basicos de acceso con otras secuencias ordenadas de objetos de python: listas y tuplas. La forma mas sencilla de extraer caracteres individuales de cadenas (y miembros individuales de cualquier secuencia) es descomprimirlo en las variables correspondientes.\n"
   ]
  },
  {
   "cell_type": "code",
   "execution_count": null,
   "id": "fb7a4c2b",
   "metadata": {},
   "outputs": [
    {
     "name": "stdout",
     "output_type": "stream",
     "text": [
      "P\n",
      "y\n",
      "t\n",
      "h\n",
      "o\n",
      "n\n"
     ]
    }
   ],
   "source": [
    "language = 'Python'\n",
    "a,b,c,d,e,f = language \n",
    "print(a) \n",
    "print(b) \n",
    "print(c) \n",
    "print(d) \n",
    "print(e) \n",
    "print(f)"
   ]
  },
  {
   "cell_type": "markdown",
   "id": "1b9e37e4",
   "metadata": {},
   "source": [
    "#### Accediendo a caracteres en Strings por índice\n"
   ]
  },
  {
   "attachments": {
    "image.png": {
     "image/png": "[encoded data removed]"
    }
   },
   "cell_type": "markdown",
   "id": "59d2c66d",
   "metadata": {},
   "source": [
    "Los strings al igual que las listas se pueden acceder por indices, en programacion se cuenta desde cero entonces la ultima letra de una cadena es la longitud de una cadena menos uno.\n",
    "![image.png](attachment:image.png)\n"
   ]
  },
  {
   "cell_type": "code",
   "execution_count": null,
   "id": "0ce7a0ef",
   "metadata": {},
   "outputs": [
    {
     "name": "stdout",
     "output_type": "stream",
     "text": [
      "P\n",
      "y\n",
      "n\n"
     ]
    }
   ],
   "source": [
    "language = 'Python'\n",
    "first_letter = language[0]\n",
    "print(first_letter)\n",
    "second_letter = language[1]\n",
    "print(second_letter) \n",
    "last_index = len(language) - 1\n",
    "last_letter = language[last_index]\n",
    "print(last_letter) "
   ]
  },
  {
   "cell_type": "markdown",
   "id": "1460c584",
   "metadata": {},
   "source": [
    "Si queremos comenzar desde el extremo derecho, podemos usar indexacion negativa. -1 es el ultimo indice.\n"
   ]
  },
  {
   "cell_type": "code",
   "execution_count": null,
   "id": "dfc7b00a",
   "metadata": {},
   "outputs": [
    {
     "name": "stdout",
     "output_type": "stream",
     "text": [
      "n\n",
      "o\n"
     ]
    }
   ],
   "source": [
    "language = 'Python'\n",
    "last_letter = language[-1]\n",
    "print(last_letter)\n",
    "second_last = language[-2]\n",
    "print(second_last) "
   ]
  },
  {
   "cell_type": "markdown",
   "id": "a4e38bfe",
   "metadata": {},
   "source": [
    "#### Cortar Strings en python\n"
   ]
  },
  {
   "cell_type": "markdown",
   "id": "0f593f5b",
   "metadata": {},
   "source": [
    "En python podemos dividir strings en sub-strings.\n",
    "Hay que tener en cuenta que al hacer un slice(rebanada) se incluye el primer indicie pero el ultimo no como se muestra en el ejemplo siguiente.\n",
    "ejemplo: languaje[inicio:final]\n"
   ]
  },
  {
   "cell_type": "code",
   "execution_count": null,
   "id": "2829ab8e",
   "metadata": {},
   "outputs": [
    {
     "name": "stdout",
     "output_type": "stream",
     "text": [
      "Pyt\n",
      "hon\n",
      "hon\n",
      "hon\n"
     ]
    }
   ],
   "source": [
    "language = 'Python'\n",
    "first_three = language[0:3]\n",
    "# [inicio:fin]\n",
    "print(first_three)\n",
    "last_three = language[3:6]\n",
    "print(last_three) \n",
    "last_three = language[-3:]\n",
    "#[al ser -3 busca los ultimos 3 digitos]\n",
    "print(last_three)   \n",
    "last_three = language[3:]\n",
    "#al marcar solo el inicio o el final este recorrera el resto de la cadena \n",
    "print(last_three)   "
   ]
  },
  {
   "cell_type": "markdown",
   "id": "3b41511b",
   "metadata": {},
   "source": [
    "#### Invertir strings\n"
   ]
  },
  {
   "cell_type": "markdown",
   "id": "196f49c2",
   "metadata": {},
   "source": [
    "podemos invertir strings facilmente\n"
   ]
  },
  {
   "cell_type": "code",
   "execution_count": 1,
   "id": "a62c6106",
   "metadata": {},
   "outputs": [
    {
     "name": "stdout",
     "output_type": "stream",
     "text": [
      "!dlroW ,olleH\n"
     ]
    }
   ],
   "source": [
    "greeting = 'Hello, World!'\n",
    "print(greeting[::-1])\n",
    "# Tenemos que [indica donde inicia,indica donde termina,indica que por ser -1 se recorre de derecha a izquierda]"
   ]
  },
  {
   "cell_type": "markdown",
   "id": "c8c99407",
   "metadata": {},
   "source": [
    "#### Saltar caracteres mientras se corta\n"
   ]
  },
  {
   "cell_type": "markdown",
   "id": "5937acb1",
   "metadata": {},
   "source": [
    "Es posible omitir caracteres mientras se corta pasando el argumento del paso al metodo de corte.\n"
   ]
  },
  {
   "cell_type": "code",
   "execution_count": null,
   "id": "1deb2656",
   "metadata": {},
   "outputs": [
    {
     "name": "stdout",
     "output_type": "stream",
     "text": [
      "Pto\n"
     ]
    }
   ],
   "source": [
    "language = 'Python'\n",
    "pto = language[0:6:2]\n",
    "print(pto) \n",
    "#Tenemos que [0 es el inicio, 6 es el final, y 2 indica que se saltara cada 2]"
   ]
  },
  {
   "cell_type": "markdown",
   "id": "bea9eb67",
   "metadata": {},
   "source": [
    "#### Metodos en cadenas\n"
   ]
  },
  {
   "cell_type": "markdown",
   "id": "a3983c77",
   "metadata": {},
   "source": [
    "**1.-Capitalize():** convierte el primer caracter de la cadena en mayusculas.\n"
   ]
  },
  {
   "cell_type": "code",
   "execution_count": 27,
   "id": "821cc470",
   "metadata": {},
   "outputs": [
    {
     "name": "stdout",
     "output_type": "stream",
     "text": [
      "Thirty days of python\n"
     ]
    }
   ],
   "source": [
    "challenge = 'thirty days of python'\n",
    "print(challenge.capitalize())"
   ]
  },
  {
   "cell_type": "markdown",
   "id": "83565b7f",
   "metadata": {},
   "source": [
    "**2.-str.upper() y str.lower():** Deevuelven copias de la cadena en mayusculas y minusculas, respectivamente.\n"
   ]
  },
  {
   "cell_type": "code",
   "execution_count": 46,
   "id": "6fe5d9a4",
   "metadata": {},
   "outputs": [
    {
     "name": "stdout",
     "output_type": "stream",
     "text": [
      "HOLA MUNDO\n",
      "hola mundo\n"
     ]
    }
   ],
   "source": [
    "s = \"Hola Mundo\"\n",
    "print(s.upper())  # Salida: \"HOLA MUNDO\"\n",
    "print(s.lower())  # Salida: \"hola mundo\""
   ]
  },
  {
   "cell_type": "markdown",
   "id": "91eccaa9",
   "metadata": {},
   "source": [
    "**3.-count():** Devuelve apariciones de una subcadena en otra cadena\n"
   ]
  },
  {
   "cell_type": "code",
   "execution_count": 36,
   "id": "446db3b3",
   "metadata": {},
   "outputs": [
    {
     "name": "stdout",
     "output_type": "stream",
     "text": [
      "3\n",
      "1\n",
      "2\n"
     ]
    }
   ],
   "source": [
    "challenge = 'thirty days of python'\n",
    "print(challenge.count('y')) \n",
    "print(challenge.count('y', 7, 14)) \n",
    "print(challenge.count('th')) "
   ]
  },
  {
   "cell_type": "markdown",
   "id": "87fdbb45",
   "metadata": {},
   "source": [
    "**4.-expandtabs():** remplaza el caracter de tabulacion con especios, el tamaño de tabulacion predeterminado es 8. toma el argumento de tamaño de tabulacion.\n"
   ]
  },
  {
   "cell_type": "code",
   "execution_count": 33,
   "id": "55bd3cf9",
   "metadata": {},
   "outputs": [
    {
     "name": "stdout",
     "output_type": "stream",
     "text": [
      "thirty  days    of      python\n",
      "thirty    days      of        python\n"
     ]
    }
   ],
   "source": [
    "challenge = 'thirty\\tdays\\tof\\tpython'\n",
    "print(challenge.expandtabs())  \n",
    "print(challenge.expandtabs(10))"
   ]
  },
  {
   "cell_type": "markdown",
   "id": "330bbca7",
   "metadata": {},
   "source": [
    "**5.-str.replace(old,new):** devuelve una copia de la cadena donde todas las ocurrencias de 'old' son reemplazadas por 'new'.\n"
   ]
  },
  {
   "cell_type": "code",
   "execution_count": 45,
   "id": "c3e8a361",
   "metadata": {},
   "outputs": [
    {
     "name": "stdout",
     "output_type": "stream",
     "text": [
      "Adiós Mundo\n"
     ]
    }
   ],
   "source": [
    "s = \"Hola Mundo\"\n",
    "print(s.replace(\"Hola\", \"Adiós\"))"
   ]
  },
  {
   "cell_type": "markdown",
   "id": "313bb35d",
   "metadata": {},
   "source": [
    "**6.-str.split(separator):** devuelve una lista de subcadenas separadas por **'separator'**\n"
   ]
  },
  {
   "cell_type": "code",
   "execution_count": 48,
   "id": "de451fb8",
   "metadata": {},
   "outputs": [
    {
     "name": "stdout",
     "output_type": "stream",
     "text": [
      "['Hola', 'Mundo']\n"
     ]
    }
   ],
   "source": [
    "s = \"Hola,Mundo\"\n",
    "print(s.split(\",\"))"
   ]
  },
  {
   "cell_type": "markdown",
   "id": "29a407df",
   "metadata": {},
   "source": [
    "**7.-str.join(iterable):** Une las cadenas en **'iterable'** utilizando la cadena como separador.\n"
   ]
  },
  {
   "cell_type": "code",
   "execution_count": 47,
   "id": "66aa5865",
   "metadata": {},
   "outputs": [
    {
     "name": "stdout",
     "output_type": "stream",
     "text": [
      "Hola Mundo\n"
     ]
    }
   ],
   "source": [
    "words = [\"Hola\", \"Mundo\"]\n",
    "print(\" \".join(words))"
   ]
  },
  {
   "cell_type": "markdown",
   "id": "1ac11b0e",
   "metadata": {},
   "source": [
    "**8.-str.startswith(prefix) y str.endswith(suffix):** verifican si la cadena comienza o termina con el prefijo o sufijo especificado, respectivamente\n"
   ]
  },
  {
   "cell_type": "code",
   "execution_count": 49,
   "id": "02762eba",
   "metadata": {},
   "outputs": [
    {
     "name": "stdout",
     "output_type": "stream",
     "text": [
      "True\n",
      "True\n"
     ]
    }
   ],
   "source": [
    "s = \"Hola Mundo\"\n",
    "print(s.startswith(\"Hola\"))  # Salida: True\n",
    "print(s.endswith(\"Mundo\"))  # Salida: True"
   ]
  },
  {
   "cell_type": "markdown",
   "id": "b2606df0",
   "metadata": {},
   "source": [
    "**9.-str.find(substring) y str.rfind(substring):** Encuentran la primera (o última) aparición de substring en la cadena y devuelven su índice (o -1 si no se encuentra).\n"
   ]
  },
  {
   "cell_type": "code",
   "execution_count": 50,
   "id": "011b2d70",
   "metadata": {},
   "outputs": [
    {
     "name": "stdout",
     "output_type": "stream",
     "text": [
      "5\n",
      "9\n"
     ]
    }
   ],
   "source": [
    "s = \"Hola Mundo\"\n",
    "print(s.find(\"Mundo\"))  # Salida: 5\n",
    "print(s.rfind(\"o\"))     # Salida: 7"
   ]
  },
  {
   "cell_type": "markdown",
   "id": "579b010a-34bf-4acb-8ee3-5b98a2744a3d",
   "metadata": {},
   "source": [
    "### Complejos\n"
   ]
  },
  {
   "cell_type": "markdown",
   "id": "a872aa8b-6a14-4786-8756-fc2a728d1c8d",
   "metadata": {},
   "source": [
    "Los números complejos se representan utilizando la notación a + bj, donde a es la parte real, b es la parte imaginaria, y j es la unidad imaginaria.\n"
   ]
  },
  {
   "cell_type": "code",
   "execution_count": null,
   "id": "9acbcd4c-db42-4aa0-873c-29471cdd499c",
   "metadata": {
    "tags": []
   },
   "outputs": [
    {
     "name": "stdout",
     "output_type": "stream",
     "text": [
      "(3+1j)\n",
      "(8+4j)\n"
     ]
    }
   ],
   "source": [
    "# Crear números complejos\n",
    "z1 = 1 + 3j\n",
    "z2 = 2 - 2j\n",
    "\n",
    "# Suma de números complejos\n",
    "suma = z1 + z2\n",
    "print(suma)  # Salida: (3+1j)\n",
    "\n",
    "# Producto de números complejos\n",
    "producto = z1 * z2\n",
    "print(producto) "
   ]
  },
  {
   "cell_type": "markdown",
   "id": "4d5222f9-2f9a-4705-90c7-82814c214ede",
   "metadata": {},
   "source": [
    "### Listas\n"
   ]
  },
  {
   "attachments": {
    "image.png": {
     "image/png": "[encoded data removed]"
    }
   },
   "cell_type": "markdown",
   "id": "d3ba1e38-ea3a-42ff-908a-4f110292a2bd",
   "metadata": {},
   "source": [
    "Las listas son estructuras o colecciones de datos que almacena elementos ordenados y mutables se definen utilizando corchetes '[ ]'.\n",
    "estas permiten almacenar diferentes tipos de datos en una sola estructura. Estos elementos de la lista estan indexados y puedes acceder a ellos mediente sus indices estos se construyen por corchetes y sus variables se separan por comas.\n",
    "\n",
    "Cuando una lista este vacia su valor booleano de esta sera false.\n",
    "\n",
    "![image.png](attachment:image.png)\n"
   ]
  },
  {
   "cell_type": "code",
   "execution_count": null,
   "id": "ab11aa58-eb69-460f-abb7-acde72914fb2",
   "metadata": {
    "tags": []
   },
   "outputs": [
    {
     "name": "stdout",
     "output_type": "stream",
     "text": [
      "1\n",
      "cuatro\n",
      "[1, 'dos', 3, 'cuatro', 5.0]\n",
      "[1, 'dos', 3, 'cuatro', 5.0, 6]\n",
      "6\n",
      "[1, 'dos', 3, 5.0, 6]\n"
     ]
    }
   ],
   "source": [
    "# Crear una lista\n",
    "mi_lista = [1, 2, 3, 'cuatro', 5.0]\n",
    "\n",
    "# Acceder a elementos de la lista por índice\n",
    "print(mi_lista[0])  # Salida: 1\n",
    "print(mi_lista[3])  # Salida: cuatro\n",
    "\n",
    "# Acceder a elementos de la lista por índice negativo\n",
    "print(mi_lista[-1])  # se inicia desde el ultimo elemento\n",
    "print(mi_lista[-2])  # esto seria la penultima posicion\n",
    "\n",
    "# Modificar elementos de la lista\n",
    "mi_lista[1] = 'dos'\n",
    "print(mi_lista)  # Salida: [1, 'dos', 3, 'cuatro', 5.0]\n",
    "\n",
    "# Añadir elementos a la lista\n",
    "mi_lista.append(6)\n",
    "print(mi_lista)  # Salida: [1, 'dos', 3, 'cuatro', 5.0, 6]\n",
    "\n",
    "# Longitud de la lista\n",
    "print(len(mi_lista))  # Salida: 6\n",
    "\n",
    "# Eliminar elementos de la lista\n",
    "mi_lista.remove('cuatro')\n",
    "print(mi_lista)  # Salida: [1, 'dos', 3, 5.0, 6]"
   ]
  },
  {
   "cell_type": "markdown",
   "id": "6e6693cf",
   "metadata": {},
   "source": [
    "#### cortar elementos de una lista\n"
   ]
  },
  {
   "cell_type": "markdown",
   "id": "f7242e2c",
   "metadata": {},
   "source": [
    "indexacion positiva : podemos especificar un rango de indices positivos especificando el inicio, el final y el paso, el valor de retorno sera una nueva listas. valores predeterminados[inicio:(0):fin(len(lst)-1):paso=1]\n"
   ]
  },
  {
   "cell_type": "code",
   "execution_count": 4,
   "id": "26174f84",
   "metadata": {},
   "outputs": [
    {
     "name": "stdout",
     "output_type": "stream",
     "text": [
      "['banana', 'orange', 'mango', 'lemon']\n",
      "['orange', 'mango']\n",
      "['orange', 'mango', 'lemon']\n",
      "['banana', 'mango']\n"
     ]
    }
   ],
   "source": [
    "fruits = ['banana', 'orange', 'mango', 'lemon']\n",
    "all_fruits = fruits[0:4] # Devuelve todas las frutas\n",
    "all_fruits = fruits[0:] # Si no establecemos dónde parar, se recorrera todo lo demás\n",
    "# esto también dará el mismo resultado que el anterior\n",
    "orange_and_mango = fruits[1:3] # No incluye el primer índice\n",
    "orange_mango_lemon = fruits[1:]\n",
    "orange_and_lemon = fruits[::2] # Aquí usamos un tercer argumento, step. Se necesitará cada 2º elemento - ['plátano', 'mango']\n",
    "print(all_fruits)\n",
    "print(orange_and_mango)\n",
    "print(orange_mango_lemon)\n",
    "print(orange_and_lemon) "
   ]
  },
  {
   "cell_type": "markdown",
   "id": "4f4b8def",
   "metadata": {},
   "source": [
    "Indexacion negativa : podemos especificar un rango de indices negativos especificando el inicio y el final y el paso, el valor de retorno sera una nueva lista.\n"
   ]
  },
  {
   "cell_type": "code",
   "execution_count": 8,
   "id": "41554cea",
   "metadata": {},
   "outputs": [
    {
     "name": "stdout",
     "output_type": "stream",
     "text": [
      "['banana', 'orange', 'mango', 'lemon']\n",
      "['orange', 'mango']\n",
      "['orange', 'mango', 'lemon']\n",
      "['lemon', 'mango', 'orange', 'banana']\n"
     ]
    }
   ],
   "source": [
    "fruits = ['banana', 'orange', 'mango', 'lemon']\n",
    "all_fruits = fruits[-4:] # Devuelve todas las frutas\n",
    "orange_and_mango = fruits[-3:-1] # No incluye el último índice\n",
    "orange_mango_lemon = fruits[-3:] # esto dará desde -3 hasta el fina\n",
    "reverse_fruits = fruits[::-1] # Un paso negativo tomará la lista en orden inverso]\n",
    "print(all_fruits) \n",
    "print(orange_and_mango)  \n",
    "print(orange_mango_lemon)\n",
    "print(reverse_fruits)"
   ]
  },
  {
   "cell_type": "markdown",
   "id": "24cc024f",
   "metadata": {},
   "source": [
    "#### Modificar listas\n"
   ]
  },
  {
   "cell_type": "markdown",
   "id": "074b1a41",
   "metadata": {},
   "source": [
    "una lista es una coleccion ordenada de elementos mutables o modificables. modifiquemos el ejemplo anterior.\n"
   ]
  },
  {
   "cell_type": "markdown",
   "id": "b9bca8e4",
   "metadata": {},
   "source": [
    "se puede cambiar el valor de una lista solo con la lista y su indice lst[0] = valor.\n"
   ]
  },
  {
   "cell_type": "code",
   "execution_count": 9,
   "id": "f687cb91",
   "metadata": {},
   "outputs": [
    {
     "name": "stdout",
     "output_type": "stream",
     "text": [
      "['avocado', 'orange', 'mango', 'lemon']\n",
      "['avocado', 'apple', 'mango', 'lemon']\n",
      "['avocado', 'apple', 'mango', 'lime']\n"
     ]
    }
   ],
   "source": [
    "fruits = ['banana', 'orange', 'mango', 'lemon']\n",
    "fruits[0] = 'avocado'\n",
    "print(fruits)       \n",
    "fruits[1] = 'apple'\n",
    "print(fruits)       \n",
    "last_index = len(fruits) - 1\n",
    "fruits[last_index] = 'lime'\n",
    "print(fruits)        "
   ]
  },
  {
   "cell_type": "markdown",
   "id": "793227fc",
   "metadata": {},
   "source": [
    "#### Comprobacion de elementos en una lista.\n"
   ]
  },
  {
   "cell_type": "markdown",
   "id": "10d7199d",
   "metadata": {},
   "source": [
    "verificar un elemento si es miembro de ua lista usando el operador **in**.\n"
   ]
  },
  {
   "cell_type": "code",
   "execution_count": 11,
   "id": "444a97ab",
   "metadata": {},
   "outputs": [
    {
     "name": "stdout",
     "output_type": "stream",
     "text": [
      "True\n",
      "False\n"
     ]
    }
   ],
   "source": [
    "fruits = ['banana', 'orange', 'mango', 'lemon']\n",
    "does_exist = 'banana' in fruits\n",
    "print(does_exist) \n",
    "does_exist = 'lime' in fruits\n",
    "print(does_exist) "
   ]
  },
  {
   "cell_type": "markdown",
   "id": "c16fbb15-a0ea-4a13-bb18-d807ae9d5c9f",
   "metadata": {},
   "source": [
    "#### Metodos en las listas\n"
   ]
  },
  {
   "cell_type": "markdown",
   "id": "4ba731e7",
   "metadata": {},
   "source": [
    "**index**: Encontrar el indice de un elemnto de la lista:\n"
   ]
  },
  {
   "cell_type": "code",
   "execution_count": 10,
   "id": "272a7f97",
   "metadata": {},
   "outputs": [
    {
     "data": {
      "text/plain": [
       "0"
      ]
     },
     "execution_count": 10,
     "metadata": {},
     "output_type": "execute_result"
    }
   ],
   "source": [
    "# syntax\n",
    "lst = ['item1', 'item2']\n",
    "lst.index('item1')"
   ]
  },
  {
   "cell_type": "markdown",
   "id": "ffc6d59b-bcb0-4a8d-b518-6bf7dd3b06ba",
   "metadata": {
    "tags": []
   },
   "source": [
    "**append(elemento)**: Añade un elemento al final de la lista.\n"
   ]
  },
  {
   "cell_type": "code",
   "execution_count": null,
   "id": "6f1f2e01-d2df-4153-b15d-a3738d050e0f",
   "metadata": {
    "tags": []
   },
   "outputs": [
    {
     "name": "stdout",
     "output_type": "stream",
     "text": [
      "[1, 2, 3, 4]\n"
     ]
    }
   ],
   "source": [
    "mi_lista = [1, 2, 3]\n",
    "mi_lista.append(4)\n",
    "print(mi_lista)"
   ]
  },
  {
   "cell_type": "markdown",
   "id": "fb15deb0-9b29-4959-8e29-14b7fc8153d7",
   "metadata": {},
   "source": [
    "**remove(elemento)**: elimina elementos de una lista\n"
   ]
  },
  {
   "cell_type": "code",
   "execution_count": null,
   "id": "16e16f05-c862-44f3-ab21-62104ced3df5",
   "metadata": {
    "tags": []
   },
   "outputs": [
    {
     "name": "stdout",
     "output_type": "stream",
     "text": [
      "[1, 2, 3, 5.0]\n"
     ]
    }
   ],
   "source": [
    "mi_lista = [1, 2, 3, 'cuatro', 5.0]\n",
    "mi_lista.remove('cuatro')\n",
    "print(mi_lista)"
   ]
  },
  {
   "cell_type": "markdown",
   "id": "d4fd0e1f",
   "metadata": {},
   "source": [
    "**del(posicion)** : elimina el indice especificado o para eliminar elementos dentro de un rango especificado.\n"
   ]
  },
  {
   "cell_type": "code",
   "execution_count": 6,
   "id": "794648b0",
   "metadata": {},
   "outputs": [
    {
     "name": "stdout",
     "output_type": "stream",
     "text": [
      "['item1']\n"
     ]
    }
   ],
   "source": [
    "# syntax\n",
    "lst = ['item1', 'item2']\n",
    "del lst[1] # only a single item\n",
    "print(lst)\n",
    "del lst        # to delete the list completely"
   ]
  },
  {
   "cell_type": "code",
   "execution_count": 7,
   "id": "50cfbc62",
   "metadata": {},
   "outputs": [
    {
     "name": "stdout",
     "output_type": "stream",
     "text": [
      "['orange', 'mango', 'lemon', 'kiwi', 'lime']\n",
      "['orange', 'lemon', 'kiwi', 'lime']\n",
      "['orange', 'lime']\n"
     ]
    }
   ],
   "source": [
    "fruits = ['banana', 'orange', 'mango', 'lemon', 'kiwi', 'lime']\n",
    "del fruits[0]\n",
    "print(fruits)       \n",
    "del fruits[1]\n",
    "print(fruits)       \n",
    "del fruits[1:3]    \n",
    "print(fruits)       \n",
    "del fruits\n",
    "#print(fruits)       # This should give: NameError: name 'fruits' is not defined"
   ]
  },
  {
   "cell_type": "markdown",
   "id": "e09a1bdf-c54e-4791-a0a2-ada5b343a146",
   "metadata": {},
   "source": [
    "**extend(iterable)**: Extiende la lista añadiendo elementos desde un iterable.\n"
   ]
  },
  {
   "cell_type": "code",
   "execution_count": null,
   "id": "b0432515-a308-4150-a747-ec287f694c23",
   "metadata": {
    "tags": []
   },
   "outputs": [
    {
     "name": "stdout",
     "output_type": "stream",
     "text": [
      "[1, 2, 3, 4, 5, 6]\n"
     ]
    }
   ],
   "source": [
    "mi_lista = [1, 2, 3]\n",
    "mi_lista.extend([4, 5, 6])\n",
    "print(mi_lista)"
   ]
  },
  {
   "cell_type": "markdown",
   "id": "92c39edd-cf8b-4ffa-b622-66d79c9283f7",
   "metadata": {},
   "source": [
    "**insert(posición, elemento)**: Inserta un elemento en una posición específica de la lista.\n"
   ]
  },
  {
   "cell_type": "code",
   "execution_count": null,
   "id": "b6608438-ebda-400c-b8c5-a56bf2f2fcea",
   "metadata": {
    "tags": []
   },
   "outputs": [
    {
     "name": "stdout",
     "output_type": "stream",
     "text": [
      "[1, 4, 2, 3]\n"
     ]
    }
   ],
   "source": [
    "mi_lista = [1, 2, 3]\n",
    "mi_lista.insert(1, 4)\n",
    "print(mi_lista)"
   ]
  },
  {
   "cell_type": "markdown",
   "id": "db526882-98b0-4c59-a4ff-1d0758b6e8ed",
   "metadata": {},
   "source": [
    "**remove(elemento)**: Elimina el primer elemento con el valor dado.\n"
   ]
  },
  {
   "cell_type": "code",
   "execution_count": null,
   "id": "63553f24-4257-4145-9f98-b701aa94a959",
   "metadata": {
    "tags": []
   },
   "outputs": [
    {
     "name": "stdout",
     "output_type": "stream",
     "text": [
      "[1, 3, 2]\n"
     ]
    }
   ],
   "source": [
    "mi_lista = [1, 2, 3, 2]\n",
    "mi_lista.remove(2)\n",
    "print(mi_lista)"
   ]
  },
  {
   "cell_type": "markdown",
   "id": "7a634287-5ad7-4c59-8938-5589804fba12",
   "metadata": {},
   "source": [
    "**pop(índice)**: Elimina y devuelve el elemento en la posición dada, o el último elemento si no se proporciona índice.\n"
   ]
  },
  {
   "cell_type": "code",
   "execution_count": null,
   "id": "6d7d1026-b510-4442-8d86-7c2e3a29c2a6",
   "metadata": {
    "tags": []
   },
   "outputs": [
    {
     "name": "stdout",
     "output_type": "stream",
     "text": [
      "2\n",
      "[1, 3]\n"
     ]
    }
   ],
   "source": [
    "mi_lista = [1, 2, 3]\n",
    "elemento_eliminado = mi_lista.pop(1)\n",
    "print(elemento_eliminado)\n",
    "print(mi_lista)"
   ]
  },
  {
   "cell_type": "markdown",
   "id": "19e241ea",
   "metadata": {},
   "source": [
    "**clear**: Vacia la lista\n"
   ]
  },
  {
   "cell_type": "code",
   "execution_count": 8,
   "id": "8c4be56b",
   "metadata": {},
   "outputs": [
    {
     "name": "stdout",
     "output_type": "stream",
     "text": [
      "['item1', 'item2']\n",
      "[]\n"
     ]
    }
   ],
   "source": [
    "# syntax\n",
    "lst = ['item1', 'item2']\n",
    "print(lst)\n",
    "lst.clear()\n",
    "print(lst)"
   ]
  },
  {
   "cell_type": "markdown",
   "id": "d89358e8-c00f-4c61-9428-a375ca4858e0",
   "metadata": {},
   "source": [
    "**lista.index(elemento[, inicio[, fin]])**: Devuelve el índice del primer elemento con el valor dado.\n",
    "la estructura de este es:\n",
    "'elemento': elemento cuyo indice se desea encontrar\n",
    "'inicio'(opcional): el indice de inicio de la busqueda, si no se coloca la busqueda inicia al principio de la lista.\n",
    "'final'(opcional): el indice de fin de la busqueda, si no se coloca la busqueda termina al final de la lista.\n"
   ]
  },
  {
   "cell_type": "code",
   "execution_count": 4,
   "id": "e124e51a-f8eb-4340-8535-ec0400fd041b",
   "metadata": {
    "tags": []
   },
   "outputs": [
    {
     "name": "stdout",
     "output_type": "stream",
     "text": [
      "2\n"
     ]
    }
   ],
   "source": [
    "mi_lista = [1, 2, 3, 2]\n",
    "indice = mi_lista.index(3)\n",
    "print(indice)"
   ]
  },
  {
   "cell_type": "markdown",
   "id": "7595e689-3b21-4428-9b2e-5dcf551eaa7d",
   "metadata": {},
   "source": [
    "**count(elemento)**: Devuelve el número de veces que aparece el elemento en la lista.\n"
   ]
  },
  {
   "cell_type": "code",
   "execution_count": null,
   "id": "3744d8c8-2817-4eb2-8316-3b522fee6aa1",
   "metadata": {
    "tags": []
   },
   "outputs": [
    {
     "name": "stdout",
     "output_type": "stream",
     "text": [
      "2\n"
     ]
    }
   ],
   "source": [
    "mi_lista = [1, 2, 3, 2]\n",
    "conteo = mi_lista.count(2)\n",
    "print(conteo)"
   ]
  },
  {
   "cell_type": "markdown",
   "id": "33433110-6832-4062-b18b-2fb21f71e26b",
   "metadata": {},
   "source": [
    "**len(Lista)** devuelve el número de elementos en un objeto iterable, como una lista.\n"
   ]
  },
  {
   "cell_type": "code",
   "execution_count": null,
   "id": "203293ea-5dae-4878-bddf-8aecfe327b9a",
   "metadata": {
    "tags": []
   },
   "outputs": [
    {
     "name": "stdout",
     "output_type": "stream",
     "text": [
      "5\n"
     ]
    }
   ],
   "source": [
    "mi_lista = [1, 2, 3, 4, 5]\n",
    "\n",
    "# Obtener la longitud de la lista\n",
    "longitud = len(mi_lista)\n",
    "\n",
    "print(longitud)  # Salida: 5"
   ]
  },
  {
   "cell_type": "markdown",
   "id": "5cb4ac12-7777-4d72-a407-ad62cf253aeb",
   "metadata": {},
   "source": [
    "**sort(reverse=False)**: Ordena la lista (modifica la lista original) de menor a mayor. Se puede especificar reverse=True para ordenar de mayor a menor.\n"
   ]
  },
  {
   "cell_type": "code",
   "execution_count": 12,
   "id": "d3d1025c-c485-451b-b069-0f86a76a4a4f",
   "metadata": {
    "tags": []
   },
   "outputs": [
    {
     "name": "stdout",
     "output_type": "stream",
     "text": [
      "[1, 1, 2, 3, 4, 5, 9]\n"
     ]
    }
   ],
   "source": [
    "mi_lista = [3, 1, 4, 1, 5, 9, 2]\n",
    "mi_lista.sort(reverse = False)\n",
    "print(mi_lista)"
   ]
  },
  {
   "cell_type": "markdown",
   "id": "2e42fc51-8af0-4001-b24d-7ab7d629ed73",
   "metadata": {},
   "source": [
    "**reverse()**: Invierte el orden de los elementos de la lista original\n"
   ]
  },
  {
   "cell_type": "code",
   "execution_count": null,
   "id": "b8a8c0f9-5187-4db8-a4b7-d59552e07bfe",
   "metadata": {
    "tags": []
   },
   "outputs": [
    {
     "name": "stdout",
     "output_type": "stream",
     "text": [
      "[3, 2, 1]\n"
     ]
    }
   ],
   "source": [
    "mi_lista = [1, 2, 3]\n",
    "mi_lista.reverse()\n",
    "print(mi_lista)"
   ]
  },
  {
   "cell_type": "markdown",
   "id": "344dc35e",
   "metadata": {},
   "source": [
    "### Tuplas\n"
   ]
  },
  {
   "cell_type": "markdown",
   "id": "59e2ab80",
   "metadata": {},
   "source": [
    "Una tupla es una coleccion de diferentes tipos de datos que esta ordenada y es inmutable. Las tuplas se escriben entre paréntesis, separadas por coma.\n",
    "Una vez creada una tupla esta no pueden ser cambiados sus valores. No podemos usar metodos agregar, Insertar, y eliminar en una tupla por que no es modificable.\n",
    "A diferencia de la lista tiene pocos metodos.\n",
    "\n",
    "tuple(): para crear una tupla vacía\n",
    "count(): para contar el número de un elemento específico en una tupla\n",
    "index(): para encontrar el índice de un elemento específico en una tuplae\n",
    "operator: para unir dos o más tuplas y crear una nueva tupla\n",
    "\n",
    "Al igual que las listas existe la indexacion negativa y positiva.\n"
   ]
  },
  {
   "cell_type": "markdown",
   "id": "9444229d",
   "metadata": {},
   "source": [
    "#### Cortar tuplas\n"
   ]
  },
  {
   "cell_type": "markdown",
   "id": "8bb8fdb7",
   "metadata": {},
   "source": [
    "Podemos dividir una subtupla especificando un rango de índices donde comenzar y dónde terminar en la tupla; el valor de retorno será una nueva tupla con los elementos especificados.\n",
    "aun que el rango se especifica en corchetes como en las listas la variable seguira conteniendo un dato tipo tupla.\n"
   ]
  },
  {
   "cell_type": "code",
   "execution_count": 13,
   "id": "f3664d56",
   "metadata": {},
   "outputs": [
    {
     "name": "stdout",
     "output_type": "stream",
     "text": [
      "('item1', 'item2', 'item3', 'item4')\n",
      "('item2', 'item3')\n"
     ]
    }
   ],
   "source": [
    "# Syntax\n",
    "tpl = ('item1', 'item2', 'item3','item4')\n",
    "all_items = tpl[0:4]         # all items\n",
    "all_items = tpl[0:]         # all items\n",
    "middle_two_items = tpl[1:3]  # does not include item at index 3\n",
    "print(all_items)\n",
    "print(middle_two_items)"
   ]
  },
  {
   "cell_type": "markdown",
   "id": "4e3d9228",
   "metadata": {},
   "source": [
    "#### Cambiar tuplas a listas\n"
   ]
  },
  {
   "cell_type": "markdown",
   "id": "23b547de",
   "metadata": {},
   "source": [
    "Podemos cambiar tuplas a listas y listas a tuplas. La tupla es inmutable, si queremos modificar una tupla debemos cambiarla a una lista.\n"
   ]
  },
  {
   "cell_type": "code",
   "execution_count": 16,
   "id": "84e09ca1",
   "metadata": {},
   "outputs": [
    {
     "name": "stdout",
     "output_type": "stream",
     "text": [
      "['item1', 'item2', 'item3', 'item4']\n",
      "<class 'list'>\n"
     ]
    }
   ],
   "source": [
    "# Syntax\n",
    "tpl = ('item1', 'item2', 'item3','item4')\n",
    "lst = list(tpl)\n",
    "print(lst)\n",
    "print(type(lst))"
   ]
  },
  {
   "cell_type": "code",
   "execution_count": 18,
   "id": "d61e5df9",
   "metadata": {},
   "outputs": [
    {
     "name": "stdout",
     "output_type": "stream",
     "text": [
      "<class 'list'>\n",
      "['apple', 'orange', 'mango', 'lemon']\n",
      "<class 'tuple'>\n",
      "('apple', 'orange', 'mango', 'lemon')\n"
     ]
    }
   ],
   "source": [
    "fruits = ('banana', 'orange', 'mango', 'lemon')\n",
    "fruits = list(fruits)\n",
    "fruits[0] = 'apple'\n",
    "print(type(fruits))\n",
    "print(fruits)     # ['apple', 'orange', 'mango', 'lemon']\n",
    "fruits = tuple(fruits)\n",
    "print(type(fruits))\n",
    "print(fruits)     # ('apple', 'orange', 'mango', 'lemon')"
   ]
  },
  {
   "cell_type": "markdown",
   "id": "d680aa2c",
   "metadata": {},
   "source": [
    "### Conjuntos\n"
   ]
  },
  {
   "cell_type": "markdown",
   "id": "989e631b",
   "metadata": {},
   "source": [
    "Un conjunto es una coleccion de elementos.\n",
    "La definicion matematica de un conjunto tambien se pude aplicar en python.\n",
    "un conjunto es una coleccion de elemntos distintos desordenados y no indexados.Los conjuntos se ocupan para almacear elemntos unicos y es posible encontrar la union, la interseccion, la diferencia, la diferencia simetrica, el subconjunto, el superconjunto y el conjunto disjunto entre conjuntos.\n"
   ]
  },
  {
   "cell_type": "markdown",
   "id": "7fb8ce9d",
   "metadata": {},
   "source": [
    "#### Creando un conjunto\n"
   ]
  },
  {
   "cell_type": "code",
   "execution_count": 2,
   "id": "30ab78e9",
   "metadata": {},
   "outputs": [
    {
     "name": "stdout",
     "output_type": "stream",
     "text": [
      "set()\n"
     ]
    }
   ],
   "source": [
    "st = set()\n",
    "print(st)"
   ]
  },
  {
   "cell_type": "markdown",
   "id": "e0ed2607",
   "metadata": {},
   "source": [
    "Creando un conjunto con elementos iniciales\n"
   ]
  },
  {
   "cell_type": "code",
   "execution_count": 4,
   "id": "d7e8bffe",
   "metadata": {},
   "outputs": [
    {
     "name": "stdout",
     "output_type": "stream",
     "text": [
      "{'item4', 'item2', 'item1', 'item3'}\n"
     ]
    }
   ],
   "source": [
    "# syntax\n",
    "st = {'item1', 'item2', 'item3', 'item4'}\n",
    "print(st)\n"
   ]
  },
  {
   "cell_type": "markdown",
   "id": "da96ad87",
   "metadata": {},
   "source": [
    "#### comprobar la existencia de un articulo\n",
    "\n",
    "se puede verificar si un elemento se encuentra en el conjunto usando **in**\n"
   ]
  },
  {
   "cell_type": "code",
   "execution_count": 5,
   "id": "734fa0ac",
   "metadata": {},
   "outputs": [
    {
     "name": "stdout",
     "output_type": "stream",
     "text": [
      "Does set st contain item3?  True\n"
     ]
    }
   ],
   "source": [
    "# syntax\n",
    "st = {'item1', 'item2', 'item3', 'item4'}\n",
    "print(\"Does set st contain item3? \", 'item3' in st)"
   ]
  },
  {
   "cell_type": "markdown",
   "id": "341c1441",
   "metadata": {},
   "source": [
    "#### Agregar elementos a un conjunto.\n"
   ]
  },
  {
   "cell_type": "markdown",
   "id": "12aa63d7",
   "metadata": {},
   "source": [
    "Una vez creado un conjunto no se puede cambiar ningun elemento pero se pueden agregar nuevos con: **add()**\n"
   ]
  },
  {
   "cell_type": "code",
   "execution_count": 6,
   "id": "7c65479e",
   "metadata": {},
   "outputs": [
    {
     "name": "stdout",
     "output_type": "stream",
     "text": [
      "{'item4', 'item2', 'item1', 'item3'}\n",
      "{'item3', 'item1', 'item5', 'item2', 'item4'}\n"
     ]
    }
   ],
   "source": [
    "# syntax\n",
    "st = {'item1', 'item2', 'item3', 'item4'}\n",
    "print(st)\n",
    "st.add('item5')\n",
    "print(st)"
   ]
  },
  {
   "cell_type": "markdown",
   "id": "b773431c",
   "metadata": {},
   "source": [
    "al igual se pueden agregar varios elementos usando **update()**. tomando como argumento una lista.\n"
   ]
  },
  {
   "cell_type": "code",
   "execution_count": 8,
   "id": "6845200e",
   "metadata": {},
   "outputs": [
    {
     "name": "stdout",
     "output_type": "stream",
     "text": [
      "{'item6', 'item3', 'item1', 'item5', 'item7', 'item2', 'item4'}\n"
     ]
    }
   ],
   "source": [
    "# syntax\n",
    "st = {'item1', 'item2', 'item3', 'item4'}\n",
    "st.update(['item5','item6','item7'])\n",
    "print(st)"
   ]
  },
  {
   "cell_type": "markdown",
   "id": "71f6094e",
   "metadata": {},
   "source": [
    "#### Remover elementos de un conjunto\n",
    "\n",
    "Podemos eliminar un elemento de un conjunto usando **remove()**. Si no se encuentra el elemento, el metodo generara errores, por lo que es bueno verificar si el elemento existe en el conjunto dado.\n"
   ]
  },
  {
   "cell_type": "code",
   "execution_count": 9,
   "id": "4ec442c9",
   "metadata": {},
   "outputs": [
    {
     "name": "stdout",
     "output_type": "stream",
     "text": [
      "{'item4', 'item2', 'item1', 'item3'}\n",
      "{'item4', 'item1', 'item3'}\n"
     ]
    }
   ],
   "source": [
    "# syntax\n",
    "st = {'item1', 'item2', 'item3', 'item4'}\n",
    "print(st)\n",
    "st.remove('item2')\n",
    "print(st)"
   ]
  },
  {
   "cell_type": "markdown",
   "id": "6bc948d3",
   "metadata": {},
   "source": [
    "#### Borrar Elementos de un conjunto.\n"
   ]
  },
  {
   "cell_type": "markdown",
   "id": "72546fde",
   "metadata": {},
   "source": [
    "Si queremos borrar o vaciar el conjunto se puede usar el metodo clear.\n"
   ]
  },
  {
   "cell_type": "code",
   "execution_count": 11,
   "id": "ecf74fe4",
   "metadata": {},
   "outputs": [
    {
     "name": "stdout",
     "output_type": "stream",
     "text": [
      "{'item2', 'item4', 'item1', 'item3'}\n",
      "set()\n"
     ]
    }
   ],
   "source": [
    "# syntax\n",
    "st = {'item1', 'item2', 'item3', 'item4'}\n",
    "print(st)\n",
    "st.clear()\n",
    "print(st)"
   ]
  },
  {
   "cell_type": "markdown",
   "id": "b56879d9",
   "metadata": {},
   "source": [
    "#### Eliminar un conjunto.\n"
   ]
  },
  {
   "cell_type": "markdown",
   "id": "e5d11d47",
   "metadata": {},
   "source": [
    "Si queremos elimininar un conjunto usamos el operador **del**.\n"
   ]
  },
  {
   "cell_type": "code",
   "execution_count": 12,
   "id": "dde10e06",
   "metadata": {},
   "outputs": [],
   "source": [
    "# syntax\n",
    "st = {'item1', 'item2', 'item3', 'item4'}\n",
    "del st"
   ]
  },
  {
   "cell_type": "markdown",
   "id": "723def10-83d0-4b62-aed4-10f0a38ea3c5",
   "metadata": {},
   "source": [
    "### Diccionarios\n"
   ]
  },
  {
   "cell_type": "markdown",
   "id": "94c1eafe-2706-4dda-903d-d218769fd040",
   "metadata": {},
   "source": [
    "Los diccionarios son estructuras de datos que permite almacenar una coleccion no ordenada de pares clave-valor. a cada elemnto de un diccionario se accede a traves de su clave, y las claves son unicas dentro de un diccionario. Los diccionarios se definen utilizando llaves \"{}. Los diccionarios son mutables permitiendo añadir o eliminar ellementos.\n",
    "\n",
    "En los diccionarios se pueden acceder a sus valores mediante su clave.\n"
   ]
  },
  {
   "cell_type": "code",
   "execution_count": null,
   "id": "c276b8e1-ab99-4b48-b053-9581ae2c5352",
   "metadata": {
    "tags": []
   },
   "outputs": [
    {
     "name": "stdout",
     "output_type": "stream",
     "text": [
      "Juan\n",
      "25\n",
      "{'nombre': 'Juan', 'edad': 26, 'ciudad': 'Ejemplo'}\n",
      "{'nombre': 'Juan', 'edad': 26, 'ciudad': 'Ejemplo', 'trabajo': 'Programador'}\n",
      "{'nombre': 'Juan', 'edad': 26, 'trabajo': 'Programador'}\n"
     ]
    }
   ],
   "source": [
    "# Crear un diccionario\n",
    "mi_diccionario = {'nombre': 'Juan', 'edad': 25, 'ciudad': 'Ejemplo'}\n",
    "\n",
    "# Acceder a elementos del diccionario por clave\n",
    "print(mi_diccionario['nombre'])  # Salida: Juan\n",
    "print(mi_diccionario['edad'])    # Salida: 25\n",
    "\n",
    "# Modificar elementos del diccionario\n",
    "mi_diccionario['edad'] = 26\n",
    "print(mi_diccionario)  # Salida: {'nombre': 'Juan', 'edad': 26, 'ciudad': 'Ejemplo'}\n",
    "\n",
    "# Añadir nuevos elementos al diccionario\n",
    "mi_diccionario['trabajo'] = 'Programador'\n",
    "print(mi_diccionario)  # Salida: {'nombre': 'Juan', 'edad': 26, 'ciudad': 'Ejemplo', 'trabajo': 'Programador'}\n",
    "\n",
    "# Eliminar elementos del diccionario por clave\n",
    "del mi_diccionario['ciudad']\n",
    "print(mi_diccionario)  # Salida: {'nombre': 'Juan', 'edad': 26, 'trabajo': 'Programador'}\n"
   ]
  },
  {
   "cell_type": "markdown",
   "id": "af7b4835-db7e-4115-bb62-7a239311a189",
   "metadata": {},
   "source": [
    "#### Metodos en diccionarios\n"
   ]
  },
  {
   "cell_type": "markdown",
   "id": "9d892dff-f984-4dde-8cea-5f25e095b126",
   "metadata": {},
   "source": [
    "**clear()**: Elimina todos los elementos del diccionario.\n"
   ]
  },
  {
   "cell_type": "code",
   "execution_count": null,
   "id": "6508f4cf-1210-479d-bfa1-c45c13cf2cdf",
   "metadata": {
    "tags": []
   },
   "outputs": [
    {
     "name": "stdout",
     "output_type": "stream",
     "text": [
      "{}\n"
     ]
    }
   ],
   "source": [
    "mi_diccionario = {'a': 1, 'b': 2, 'c': 3}\n",
    "mi_diccionario.clear()\n",
    "print(mi_diccionario)"
   ]
  },
  {
   "cell_type": "markdown",
   "id": "1d096559-f076-4f8a-aa1c-054225d7b844",
   "metadata": {},
   "source": [
    "**copy()**: Devuelve una copia superficial del diccionario.\n"
   ]
  },
  {
   "cell_type": "code",
   "execution_count": null,
   "id": "5658b3bc-f397-4c93-b162-b3d68bc7dfc3",
   "metadata": {
    "tags": []
   },
   "outputs": [
    {
     "name": "stdout",
     "output_type": "stream",
     "text": [
      "{'a': 1, 'b': 2, 'c': 3}\n"
     ]
    }
   ],
   "source": [
    "mi_diccionario = {'a': 1, 'b': 2, 'c': 3}\n",
    "copia_diccionario = mi_diccionario.copy()\n",
    "print(copia_diccionario)"
   ]
  },
  {
   "cell_type": "markdown",
   "id": "43b236a5-d007-4c0b-9109-6a36d49208f4",
   "metadata": {},
   "source": [
    "**fromkeys(iterable[, valor])**: Crea un nuevo diccionario con claves del iterable y valores establecidos opcionalmente.\n"
   ]
  },
  {
   "cell_type": "code",
   "execution_count": null,
   "id": "36b6e31a-e0aa-4192-8588-198f39dc656c",
   "metadata": {
    "tags": []
   },
   "outputs": [
    {
     "name": "stdout",
     "output_type": "stream",
     "text": [
      "{'a': 0, 'b': 0, 'c': 0}\n"
     ]
    }
   ],
   "source": [
    "claves = ['a', 'b', 'c']\n",
    "valores = 0\n",
    "nuevo_diccionario = dict.fromkeys(claves, valores)\n",
    "print(nuevo_diccionario)"
   ]
  },
  {
   "cell_type": "markdown",
   "id": "81835a38-8239-4688-9cd6-d4e6db14270a",
   "metadata": {
    "tags": []
   },
   "source": [
    "**get(clave[, valor_default])**: Devuelve el valor asociado a la clave, o un valor predeterminado si la clave no está presente\n"
   ]
  },
  {
   "cell_type": "code",
   "execution_count": 3,
   "id": "cde9def2-fd66-452a-a3ea-d8aab90660a7",
   "metadata": {
    "tags": []
   },
   "outputs": [
    {
     "name": "stdout",
     "output_type": "stream",
     "text": [
      "2\n"
     ]
    }
   ],
   "source": [
    "mi_diccionario = {'a': 1, 'b': 2, 'c': 3}\n",
    "valor = mi_diccionario.get('b', 0)\n",
    "print(valor)"
   ]
  },
  {
   "cell_type": "markdown",
   "id": "d652cc1a-a9bd-44e1-aed1-8ff23e28b250",
   "metadata": {},
   "source": [
    "**items()**: Devuelve una vista de tuplas (clave, valor) de todos los elementos en el diccionario.\n"
   ]
  },
  {
   "cell_type": "code",
   "execution_count": null,
   "id": "7df3d16e-638f-41b7-88d7-aab79d6fffa8",
   "metadata": {
    "tags": []
   },
   "outputs": [
    {
     "name": "stdout",
     "output_type": "stream",
     "text": [
      "dict_items([('a', 1), ('b', 2), ('c', 3)])\n"
     ]
    }
   ],
   "source": [
    "mi_diccionario = {'a': 1, 'b': 2, 'c': 3}\n",
    "items = mi_diccionario.items()\n",
    "print(items)"
   ]
  },
  {
   "cell_type": "markdown",
   "id": "0647435a-ff83-495d-895e-21e6a03c7de9",
   "metadata": {},
   "source": [
    "**keys()**: Devuelve una vista de las claves en el diccionario\n"
   ]
  },
  {
   "cell_type": "code",
   "execution_count": null,
   "id": "0092a825-d10f-4947-8ebf-005d1998de25",
   "metadata": {
    "tags": []
   },
   "outputs": [
    {
     "name": "stdout",
     "output_type": "stream",
     "text": [
      "dict_keys(['a', 'b', 'c'])\n"
     ]
    }
   ],
   "source": [
    "mi_diccionario = {'a': 1, 'b': 2, 'c': 3}\n",
    "claves = mi_diccionario.keys()\n",
    "print(claves)"
   ]
  },
  {
   "cell_type": "markdown",
   "id": "b431bcb1-e3ad-4e61-a298-3498dfdae430",
   "metadata": {},
   "source": [
    "**values()**: Devuelve una Lista de los valores en el diccionario.\n"
   ]
  },
  {
   "cell_type": "code",
   "execution_count": null,
   "id": "bf17a286-2c45-409c-880f-586363520c11",
   "metadata": {
    "tags": []
   },
   "outputs": [
    {
     "name": "stdout",
     "output_type": "stream",
     "text": [
      "dict_values([1, 2, 3])\n"
     ]
    }
   ],
   "source": [
    "mi_diccionario = {'a': 1, 'b': 2, 'c': 3}\n",
    "valores = mi_diccionario.values()\n",
    "print(valores)"
   ]
  },
  {
   "cell_type": "markdown",
   "id": "a53d5ec7-8474-46e6-a4b2-5be1107dba3e",
   "metadata": {},
   "source": [
    "**pop(clave[, valor_default])**: Elimina la clave del diccionario y devuelve su valor. Si la clave no está presente, devuelve un valor predeterminado si se proporciona, de lo contrario, se produce un error KeyError.\n"
   ]
  },
  {
   "cell_type": "code",
   "execution_count": null,
   "id": "9f824526-60a7-465f-a3d7-35cf4e457767",
   "metadata": {
    "tags": []
   },
   "outputs": [
    {
     "name": "stdout",
     "output_type": "stream",
     "text": [
      "2\n",
      "{'a': 1, 'c': 3}\n"
     ]
    }
   ],
   "source": [
    "mi_diccionario = {'a': 1, 'b': 2, 'c': 3}\n",
    "valor = mi_diccionario.pop('b')\n",
    "print(valor)\n",
    "print(mi_diccionario)"
   ]
  },
  {
   "cell_type": "markdown",
   "id": "0627977a-ca0e-4bfc-93e0-e18013facb6f",
   "metadata": {},
   "source": [
    "**popitem()**: Elimina y devuelve el par clave-valor más recientemente agregado al diccionario como una tupla. Si el diccionario está vacío, se produce un error KeyError.\n"
   ]
  },
  {
   "cell_type": "code",
   "execution_count": null,
   "id": "b722a231-efc1-4852-85b6-7aca6a39a442",
   "metadata": {
    "tags": []
   },
   "outputs": [
    {
     "name": "stdout",
     "output_type": "stream",
     "text": [
      "('c', 3)\n",
      "{'a': 1, 'b': 2}\n"
     ]
    }
   ],
   "source": [
    "mi_diccionario = {'a': 1, 'b': 2, 'c': 3}\n",
    "item = mi_diccionario.popitem()\n",
    "print(item)\n",
    "print(mi_diccionario)"
   ]
  },
  {
   "cell_type": "markdown",
   "id": "07732eb7-7dad-4f3e-a021-4383c6c4c0be",
   "metadata": {},
   "source": [
    "**update(iterable)**: Actualiza el diccionario con elementos de otro iterable (diccionario o pares clave-valor).\n"
   ]
  },
  {
   "cell_type": "code",
   "execution_count": null,
   "id": "6f0c06ab-7c77-43dd-9878-886bd4a82dac",
   "metadata": {
    "tags": []
   },
   "outputs": [
    {
     "name": "stdout",
     "output_type": "stream",
     "text": [
      "{'a': 1, 'b': 3, 'c': 4}\n"
     ]
    }
   ],
   "source": [
    "mi_diccionario = {'a': 1, 'b': 2}\n",
    "mi_diccionario.update({'b': 3, 'c': 4})\n",
    "print(mi_diccionario)"
   ]
  },
  {
   "cell_type": "markdown",
   "id": "5656a999-737e-468c-aac0-11d075725eae",
   "metadata": {},
   "source": [
    "**setdefault(clave[, valor_default])**: Devuelve el valor asociado a la clave. Si la clave no está presente, inserta la clave con un valor predeterminado y devuelve ese valor.\n"
   ]
  },
  {
   "cell_type": "code",
   "execution_count": null,
   "id": "b56b8825-286c-4d06-8895-e46af796eaa6",
   "metadata": {
    "tags": []
   },
   "outputs": [
    {
     "name": "stdout",
     "output_type": "stream",
     "text": [
      "3\n",
      "{'a': 1, 'b': 2, 'c': 3}\n"
     ]
    }
   ],
   "source": [
    "mi_diccionario = {'a': 1, 'b': 2}\n",
    "valor = mi_diccionario.setdefault('c', 3)\n",
    "print(valor)\n",
    "print(mi_diccionario)"
   ]
  },
  {
   "cell_type": "markdown",
   "id": "b663711d-d03e-43fa-b0a3-1f0bfca1a4b0",
   "metadata": {},
   "source": [
    "**del diccionario[clave]**: Elimina la clave y su valor asociado del diccionario.\n"
   ]
  },
  {
   "cell_type": "code",
   "execution_count": null,
   "id": "361726bb-6106-48ac-858c-d5ba42a471e1",
   "metadata": {
    "tags": []
   },
   "outputs": [
    {
     "name": "stdout",
     "output_type": "stream",
     "text": [
      "{'a': 1, 'c': 3}\n"
     ]
    }
   ],
   "source": [
    "mi_diccionario = {'a': 1, 'b': 2, 'c': 3}\n",
    "del mi_diccionario['b']\n",
    "print(mi_diccionario)"
   ]
  },
  {
   "cell_type": "markdown",
   "id": "5f4a0ed6",
   "metadata": {},
   "source": [
    "## CONDICIONANTES\n"
   ]
  },
  {
   "cell_type": "markdown",
   "id": "9ebe01fe",
   "metadata": {},
   "source": [
    "### if - else\n"
   ]
  },
  {
   "cell_type": "markdown",
   "id": "5ddcbdd3",
   "metadata": {},
   "source": [
    "el python y en otros lenguajes de programacion la palabra **if** se usa para verificar si una condicion es verdadera y ejecutar el codigo de bloque.\n"
   ]
  },
  {
   "cell_type": "code",
   "execution_count": 2,
   "id": "e606655a",
   "metadata": {},
   "outputs": [
    {
     "name": "stdout",
     "output_type": "stream",
     "text": [
      "A is a positive number\n"
     ]
    }
   ],
   "source": [
    "a = 3\n",
    "if a > 0:\n",
    "    print('A is a positive number')"
   ]
  },
  {
   "cell_type": "markdown",
   "id": "0e4983f2",
   "metadata": {},
   "source": [
    "### Elif\n"
   ]
  },
  {
   "cell_type": "markdown",
   "id": "70f573fa",
   "metadata": {},
   "source": [
    "aveces es necesario comprobar no una o dos si no multiples condiciones para lo cual se utiliza **elif** con la siguiente estructura. en caso de que no se cumpla ninguna condicion se podra poner else al final.\n"
   ]
  },
  {
   "cell_type": "markdown",
   "id": "ba07a531",
   "metadata": {},
   "source": [
    "```python\n",
    "if condition:\n",
    "    code\n",
    "elif condition:\n",
    "    code\n",
    "elif condition:\n",
    "    code\n",
    "else:\n",
    "    code\n",
    "```\n"
   ]
  },
  {
   "cell_type": "code",
   "execution_count": 1,
   "id": "23dd7e0a",
   "metadata": {},
   "outputs": [
    {
     "name": "stdout",
     "output_type": "stream",
     "text": [
      "A is zero\n"
     ]
    }
   ],
   "source": [
    "a = 0\n",
    "if a > 0:\n",
    "    print('A is a positive number')\n",
    "elif a < 0:\n",
    "    print('A is a negative number')\n",
    "else:\n",
    "    print('A is zero')"
   ]
  },
  {
   "cell_type": "markdown",
   "id": "a83446e8",
   "metadata": {},
   "source": [
    "### Condicionates anidados.\n"
   ]
  },
  {
   "cell_type": "markdown",
   "id": "87fd7c25",
   "metadata": {},
   "source": [
    "Las condiciones se pueden anidar.\n"
   ]
  },
  {
   "cell_type": "markdown",
   "id": "03409c71",
   "metadata": {},
   "source": [
    "```python\n",
    "if condition:\n",
    "    code\n",
    "    if condition:\n",
    "    code\n",
    "```\n"
   ]
  },
  {
   "cell_type": "code",
   "execution_count": 3,
   "id": "66af2bbc",
   "metadata": {},
   "outputs": [
    {
     "name": "stdout",
     "output_type": "stream",
     "text": [
      "A is zero\n"
     ]
    }
   ],
   "source": [
    "a = 0\n",
    "if a > 0:\n",
    "    if a % 2 == 0:\n",
    "        print('A is a positive and even integer')\n",
    "    else:\n",
    "        print('A is a positive number')\n",
    "elif a == 0:\n",
    "    print('A is zero')\n",
    "else:\n",
    "    print('A is a negative number')\n"
   ]
  },
  {
   "cell_type": "markdown",
   "id": "9812ce80",
   "metadata": {},
   "source": [
    "En ocasiones se podra evitar usar condiciones anidadas usando operadores logicos.\n"
   ]
  },
  {
   "cell_type": "markdown",
   "id": "5a5b5929",
   "metadata": {},
   "source": [
    "### Condicionentes y operadores logicos.\n"
   ]
  },
  {
   "cell_type": "markdown",
   "id": "27bedbdd",
   "metadata": {},
   "source": [
    "**condicional y and**\n",
    "\n",
    "```python\n",
    "if condition and condition:\n",
    "    code\n",
    "```\n"
   ]
  },
  {
   "cell_type": "code",
   "execution_count": 5,
   "id": "96cae4b6",
   "metadata": {},
   "outputs": [
    {
     "name": "stdout",
     "output_type": "stream",
     "text": [
      "A is a positive integer\n"
     ]
    }
   ],
   "source": [
    "a = 1\n",
    "if a > 0 and a % 2 == 0:\n",
    "        print('A is an even and positive integer')\n",
    "elif a > 0 and a % 2 !=  0:\n",
    "     print('A is a positive integer')\n",
    "elif a == 0:\n",
    "    print('A is zero')\n",
    "else:\n",
    "    print('A is negative')"
   ]
  },
  {
   "cell_type": "markdown",
   "id": "8165a2af",
   "metadata": {},
   "source": [
    "**Condicional y OR**\n",
    "\n",
    "```python\n",
    "if condition or condition:\n",
    "    code\n",
    "```\n"
   ]
  },
  {
   "cell_type": "code",
   "execution_count": 6,
   "id": "c73e5cdb",
   "metadata": {},
   "outputs": [
    {
     "name": "stdout",
     "output_type": "stream",
     "text": [
      "Access denied!\n"
     ]
    }
   ],
   "source": [
    "user = 'James'\n",
    "access_level = 3\n",
    "if user == 'admin' or access_level >= 4:\n",
    "        print('Access granted!')\n",
    "else:\n",
    "    print('Access denied!')"
   ]
  },
  {
   "cell_type": "markdown",
   "id": "017a8eea",
   "metadata": {},
   "source": [
    "### match case\n"
   ]
  },
  {
   "cell_type": "code",
   "execution_count": null,
   "id": "3802d4c4",
   "metadata": {},
   "outputs": [
    {
     "name": "stdout",
     "output_type": "stream",
     "text": [
      "es uno\n"
     ]
    }
   ],
   "source": [
    "variable = \"1\"\n",
    "match variable:\n",
    "    case \"1\":\n",
    "        print(\"es uno\")\n",
    "    case \"2\":\n",
    "        print(\"es dos\")\n",
    "    "
   ]
  },
  {
   "cell_type": "markdown",
   "id": "558c5aa7",
   "metadata": {},
   "source": [
    "## BUCLES Y CICLOS\n"
   ]
  },
  {
   "cell_type": "markdown",
   "id": "e849fbc4",
   "metadata": {},
   "source": [
    "La vida está llena de rutinas. En programación también hacemos muchas tareas repetitivas. Para manejar tareas repetitivas, los lenguajes de programación utilizan bucles. El lenguaje de programación Python también proporciona los siguientes tipos de dos bucles:\n",
    "\n",
    "1.- while loop\n",
    "\n",
    "2.- for loop\n"
   ]
  },
  {
   "cell_type": "markdown",
   "id": "08e5616a",
   "metadata": {},
   "source": [
    "### While Loop\n"
   ]
  },
  {
   "cell_type": "markdown",
   "id": "7340146f",
   "metadata": {},
   "source": [
    "Se usa la palabra reservada **while** un bucle while. se utiliza para ejecutar un bloque de declaraciones repetidamente hasta que se cumpla una condicion determinada. Cuenado la condicion se vuelve falsa, las lineas de codigo despues del bucle continuaran ejecutandose.\n",
    "\n",
    "```python\n",
    "while condition:\n",
    "    code goes here\n",
    "```\n"
   ]
  },
  {
   "cell_type": "code",
   "execution_count": 5,
   "id": "e44f75ae",
   "metadata": {},
   "outputs": [
    {
     "name": "stdout",
     "output_type": "stream",
     "text": [
      "0\n",
      "1\n",
      "2\n",
      "3\n",
      "4\n",
      "5\n",
      "despues del ciclo while el valor de count es 6\n"
     ]
    }
   ],
   "source": [
    "count = 0\n",
    "while count <= 5:\n",
    "    print(count)\n",
    "    count = count + 1\n",
    "print(f'despues del ciclo while el valor de count es {count}')"
   ]
  },
  {
   "cell_type": "markdown",
   "id": "08fe1fdf",
   "metadata": {},
   "source": [
    "Como se puede observar en el ejemplo anterior la condicion se vuleve falsa cuando count alacanza un valor de 6.\n"
   ]
  },
  {
   "cell_type": "markdown",
   "id": "c344383f",
   "metadata": {},
   "source": [
    "#### Break and continue - Parte 1\n"
   ]
  },
  {
   "cell_type": "markdown",
   "id": "f9f3d252",
   "metadata": {},
   "source": [
    "**Break**: Usamos break cuando queremos salir o detener le ciclo.\n"
   ]
  },
  {
   "cell_type": "markdown",
   "id": "db40221c",
   "metadata": {},
   "source": [
    "```python\n",
    "while condition:\n",
    "    code goes here\n",
    "    if another_condition:\n",
    "        break\n",
    "```\n"
   ]
  },
  {
   "cell_type": "code",
   "execution_count": 6,
   "id": "882186c5",
   "metadata": {},
   "outputs": [
    {
     "name": "stdout",
     "output_type": "stream",
     "text": [
      "0\n",
      "1\n",
      "2\n"
     ]
    }
   ],
   "source": [
    "count = 0\n",
    "while count < 5:\n",
    "    print(count)\n",
    "    count = count + 1\n",
    "    if count == 3:\n",
    "        break"
   ]
  },
  {
   "cell_type": "markdown",
   "id": "9a7610f0",
   "metadata": {},
   "source": [
    "El ciclo while anterior solo imprime 0,1,2, pero cuando llega a 3 se detiene.\n",
    "\n",
    "- Continuar: Con la instruccion continuar podemos omitir la iteracion actual y continuar con la siguiente.\n",
    "\n",
    "```python\n",
    "while condition:\n",
    "    code goes here\n",
    "    if another_condition:\n",
    "        continue\n",
    "```\n"
   ]
  },
  {
   "cell_type": "code",
   "execution_count": 7,
   "id": "a56bbbea",
   "metadata": {},
   "outputs": [
    {
     "name": "stdout",
     "output_type": "stream",
     "text": [
      "0\n",
      "1\n",
      "2\n",
      "4\n"
     ]
    }
   ],
   "source": [
    "count = 0\n",
    "while count < 5:\n",
    "    if count == 3:\n",
    "        count = count + 1\n",
    "        continue\n",
    "    print(count)\n",
    "    count = count + 1"
   ]
  },
  {
   "cell_type": "markdown",
   "id": "21bcd690",
   "metadata": {},
   "source": [
    "### CIclo for\n"
   ]
  },
  {
   "cell_type": "markdown",
   "id": "36034275",
   "metadata": {},
   "source": [
    "La palabra clave for se utiliza para crear un bucle for, similar a otros lenguajes de programacion.\n",
    "Ciclo que ejecuta codigo n veces segun lo indicado\n",
    "\"para cada valor de la variable\" - \"inicio\" - \"Incremento\" - \" Condicion de stop\"\n",
    "\n",
    "for i=0, i++,i.n: codigo\n",
    "\n",
    "el ciclo for en python es para recorrer colecciones (listas, tuplas, strings, diccionarios) o iteradores.\n",
    "\n",
    "el iterador por default es el objeto range(inicio, final, incremento)\n",
    "El for con el iterador range queda:\n"
   ]
  },
  {
   "cell_type": "code",
   "execution_count": null,
   "id": "8ba77381",
   "metadata": {},
   "outputs": [
    {
     "name": "stdout",
     "output_type": "stream",
     "text": [
      "0\n",
      "1\n",
      "2\n",
      "3\n",
      "4\n",
      "5\n",
      "6\n",
      "7\n",
      "8\n",
      "9\n"
     ]
    }
   ],
   "source": [
    "for i in range(0,10,1):\n",
    " print(i)"
   ]
  },
  {
   "cell_type": "markdown",
   "id": "1f4eecf2",
   "metadata": {},
   "source": [
    "Range crea una secuencia de numeros\n",
    "\n",
    "Range nunca toma el ultimo valor\n",
    "el parametro final de range es la condicion N-1\n"
   ]
  },
  {
   "cell_type": "markdown",
   "id": "40eb7ba8",
   "metadata": {},
   "source": [
    "El ciclo for puede ser usado para iterar sobre una lista:\n",
    "\n",
    "```python\n",
    "for iterator in lst:\n",
    "    code goes here\n",
    "```\n"
   ]
  },
  {
   "cell_type": "markdown",
   "id": "b1b895cd",
   "metadata": {},
   "source": [
    "Nota: para usar condicionantes sobre el tipo de variable usamos instance para condicionar el tipo de variable\n"
   ]
  },
  {
   "cell_type": "code",
   "execution_count": null,
   "id": "5827659f",
   "metadata": {},
   "outputs": [
    {
     "name": "stdout",
     "output_type": "stream",
     "text": [
      "[1, 2, 3]\n",
      "fin de la operacion\n"
     ]
    }
   ],
   "source": [
    "list1 = [1,2,3,'s','sd',True,False,[1,2,3]]\n",
    "\n",
    "for i in list1:\n",
    "    if isinstance(i,list):\n",
    "        print(i)\n",
    "else:\n",
    "    print(\"fin de la operacion\")"
   ]
  },
  {
   "cell_type": "markdown",
   "id": "4d72de68",
   "metadata": {},
   "source": [
    "tambien para recorrer strings.\n"
   ]
  },
  {
   "cell_type": "code",
   "execution_count": 8,
   "id": "04ad8434",
   "metadata": {},
   "outputs": [
    {
     "name": "stdout",
     "output_type": "stream",
     "text": [
      "P\n",
      "y\n",
      "t\n",
      "h\n",
      "o\n",
      "n\n",
      "P\n",
      "y\n",
      "t\n",
      "h\n",
      "o\n",
      "n\n"
     ]
    }
   ],
   "source": [
    "language = 'Python'\n",
    "for letter in language:\n",
    "    print(letter)\n",
    "\n",
    "\n",
    "for i in range(len(language)):\n",
    "    print(language[i])"
   ]
  },
  {
   "cell_type": "markdown",
   "id": "a7d34dd1",
   "metadata": {},
   "source": [
    "al igual que puede ser usado en tuplas y diccionarios:\n"
   ]
  },
  {
   "cell_type": "code",
   "execution_count": 9,
   "id": "ec40fefe",
   "metadata": {},
   "outputs": [
    {
     "name": "stdout",
     "output_type": "stream",
     "text": [
      "0\n",
      "1\n",
      "2\n",
      "3\n",
      "4\n",
      "5\n",
      "first_name\n",
      "last_name\n",
      "age\n",
      "country\n",
      "is_marred\n",
      "skills\n",
      "address\n",
      "first_name Asabeneh\n",
      "last_name Yetayeh\n",
      "age 250\n",
      "country Finland\n",
      "is_marred True\n",
      "skills ['JavaScript', 'React', 'Node', 'MongoDB', 'Python']\n",
      "address {'street': 'Space street', 'zipcode': '02210'}\n"
     ]
    }
   ],
   "source": [
    "numbers = (0, 1, 2, 3, 4, 5)\n",
    "for number in numbers:\n",
    "    print(number)\n",
    "\n",
    "\n",
    "person = {\n",
    "    'first_name':'Asabeneh',\n",
    "    'last_name':'Yetayeh',\n",
    "    'age':250,\n",
    "    'country':'Finland',\n",
    "    'is_marred':True,\n",
    "    'skills':['JavaScript', 'React', 'Node', 'MongoDB', 'Python'],\n",
    "    'address':{\n",
    "        'street':'Space street',\n",
    "        'zipcode':'02210'\n",
    "    }\n",
    "}\n",
    "for key in person:\n",
    "    print(key)\n",
    "\n",
    "for key, value in person.items():\n",
    "    print(key, value) # this way we get both keys and values printed out"
   ]
  },
  {
   "cell_type": "markdown",
   "id": "9aefc54c",
   "metadata": {},
   "source": [
    "#### Break and continue - Parte 2\n"
   ]
  },
  {
   "cell_type": "markdown",
   "id": "5aaf2a68",
   "metadata": {},
   "source": [
    "De igual manera que el ciclo while se puede parar o continuar la ejecucion de un ciclo **for**.\n"
   ]
  },
  {
   "cell_type": "markdown",
   "id": "51db2c85",
   "metadata": {},
   "source": [
    "```python\n",
    "for iterator in sequence:\n",
    "    code goes here\n",
    "    if condition:\n",
    "        break\n",
    "```\n"
   ]
  },
  {
   "cell_type": "code",
   "execution_count": 10,
   "id": "50a022b3",
   "metadata": {},
   "outputs": [
    {
     "name": "stdout",
     "output_type": "stream",
     "text": [
      "0\n",
      "1\n",
      "2\n",
      "3\n"
     ]
    }
   ],
   "source": [
    "numbers = (0,1,2,3,4,5)\n",
    "for number in numbers:\n",
    "    print(number)\n",
    "    if number == 3:\n",
    "        break"
   ]
  },
  {
   "cell_type": "markdown",
   "id": "9c2467a6",
   "metadata": {},
   "source": [
    "```python\n",
    "for iterator in sequence:\n",
    "    code goes here\n",
    "    if condition:\n",
    "        continue\n",
    "```\n"
   ]
  },
  {
   "cell_type": "code",
   "execution_count": 13,
   "id": "2f3bea4e",
   "metadata": {},
   "outputs": [
    {
     "name": "stdout",
     "output_type": "stream",
     "text": [
      "0\n",
      "Next number should be  1\n",
      "1\n",
      "Next number should be  2\n",
      "2\n",
      "Next number should be  3\n",
      "3\n",
      "4\n",
      "Next number should be  5\n",
      "5\n",
      "loop's end\n",
      "outside the loop\n"
     ]
    }
   ],
   "source": [
    "numbers = (0,1,2,3,4,5)\n",
    "for number in numbers:\n",
    "    print(number)\n",
    "    if number == 3:\n",
    "        continue\n",
    "    print('Next number should be ', number + 1) if number != 5 else print(\"loop's end\") # for short hand conditions need both if and else statements\n",
    "print('outside the loop')"
   ]
  },
  {
   "cell_type": "markdown",
   "id": "12d803ac",
   "metadata": {},
   "source": [
    "Podemos usar **else** para poder agregar una accion que se requiera realizar al terminar el bucle.\n"
   ]
  },
  {
   "cell_type": "markdown",
   "id": "c35bfd0f",
   "metadata": {},
   "source": [
    "## Funciones\n"
   ]
  },
  {
   "cell_type": "markdown",
   "id": "a1faf38c",
   "metadata": {},
   "source": [
    "Hasta ahora hemos visto muchas funciones integradas en python.En esta seccion, nos centraremos en las funciones personalizadas.\n",
    "\n",
    "Una funcion es un bloque reutilizable de codigo o declaraciones de programacion diseñadas para realizar una determinada tarea.Para definir o declarar una funcion, python proporciona la palabra clave **def**.\n",
    "\n",
    "Cuando creamos una funcion, la mandamos a llamar o invocar una funcion.La funcion se puede declarar con o sin parametros.\n",
    "\n",
    "```python\n",
    "def function_name():\n",
    "    codes\n",
    "    codes\n",
    "function_name()\n",
    "```\n"
   ]
  },
  {
   "cell_type": "markdown",
   "id": "6d757d2e",
   "metadata": {},
   "source": [
    "### Funcion sin parametros.\n",
    "\n",
    "las funciones se pueden declarar sin parametros.\n"
   ]
  },
  {
   "cell_type": "code",
   "execution_count": 1,
   "id": "22c058cb",
   "metadata": {},
   "outputs": [
    {
     "name": "stdout",
     "output_type": "stream",
     "text": [
      "Asabeneh Yetayeh\n",
      "5\n"
     ]
    }
   ],
   "source": [
    "def generate_full_name ():\n",
    "    first_name = 'Asabeneh'\n",
    "    last_name = 'Yetayeh'\n",
    "    space = ' '\n",
    "    full_name = first_name + space + last_name\n",
    "    print(full_name)\n",
    "generate_full_name () # calling a function\n",
    "\n",
    "def add_two_numbers ():\n",
    "    num_one = 2\n",
    "    num_two = 3\n",
    "    total = num_one + num_two\n",
    "    print(total)\n",
    "add_two_numbers()"
   ]
  },
  {
   "cell_type": "markdown",
   "id": "51a0cbc2",
   "metadata": {},
   "source": [
    "### Funcion que devuelve un valor - Parte 1\n",
    "\n",
    "La funcion tambien puede devolver valores; si una funcion no tiene una declaracion de devolucion, el valor de la funcion es ninguno.\n"
   ]
  },
  {
   "cell_type": "code",
   "execution_count": 2,
   "id": "45889636",
   "metadata": {},
   "outputs": [
    {
     "name": "stdout",
     "output_type": "stream",
     "text": [
      "Asabeneh Yetayeh\n",
      "5\n"
     ]
    }
   ],
   "source": [
    "def generate_full_name ():\n",
    "    first_name = 'Asabeneh'\n",
    "    last_name = 'Yetayeh'\n",
    "    space = ' '\n",
    "    full_name = first_name + space + last_name\n",
    "    return full_name\n",
    "print(generate_full_name())\n",
    "\n",
    "def add_two_numbers ():\n",
    "    num_one = 2\n",
    "    num_two = 3\n",
    "    \n",
    "    total = num_one + num_two\n",
    "    return total\n",
    "print(add_two_numbers())"
   ]
  },
  {
   "cell_type": "markdown",
   "id": "87532599",
   "metadata": {},
   "source": [
    "### Funcion con parametros.\n"
   ]
  },
  {
   "cell_type": "markdown",
   "id": "21d36d19",
   "metadata": {},
   "source": [
    "En una funcion podemos pasar diferentes tipos de datos(numero,cadena,booleano,lista,tupla,diccionario o conjunto) como parametro.\n",
    "-Parametro unico: si nuestra funcion toma un parametro, debemos llamar a nuestra funcion con un argumento.\n"
   ]
  },
  {
   "cell_type": "markdown",
   "id": "e96e26f6",
   "metadata": {},
   "source": [
    "```python\n",
    "  def function_name(parameter):\n",
    "    codes\n",
    "    codes\n",
    "\n",
    "  print(function_name(argument))\n",
    "```\n"
   ]
  },
  {
   "cell_type": "code",
   "execution_count": 3,
   "id": "b024b0d4",
   "metadata": {},
   "outputs": [
    {
     "name": "stdout",
     "output_type": "stream",
     "text": [
      "Asabeneh, welcome to Python for Everyone!\n",
      "100\n",
      "4\n",
      "314.0\n",
      "55\n",
      "None\n",
      "5050\n",
      "None\n"
     ]
    }
   ],
   "source": [
    "def greetings (name):\n",
    "    message = name + ', welcome to Python for Everyone!'\n",
    "    return message\n",
    "\n",
    "print(greetings('Asabeneh'))\n",
    "\n",
    "def add_ten(num):\n",
    "    ten = 10\n",
    "    return num + ten\n",
    "print(add_ten(90))\n",
    "\n",
    "def square_number(x):\n",
    "    return x * x\n",
    "print(square_number(2))\n",
    "\n",
    "def area_of_circle (r):\n",
    "    PI = 3.14\n",
    "    area = PI * r ** 2\n",
    "    return area\n",
    "print(area_of_circle(10))\n",
    "\n",
    "def sum_of_numbers(n):\n",
    "    total = 0\n",
    "    for i in range(n+1):\n",
    "        total+=i\n",
    "    print(total)\n",
    "print(sum_of_numbers(10)) # 55\n",
    "print(sum_of_numbers(100)) # 5050"
   ]
  },
  {
   "cell_type": "markdown",
   "id": "544d7277",
   "metadata": {},
   "source": [
    "**Dos parametros**: Una funcion puede tener o no un parametro o parametros.Una funcion tambien puede tener dos o mas parametros, Si nuestra funcion toma parametros,deberiamos llamarla con argumentos.Comprobenmos una funcion con dos parametros:\n",
    "\n",
    "```python\n",
    "  def function_name(para1, para2):\n",
    "    codes\n",
    "    codes\n",
    "  print(function_name(arg1, arg2))\n",
    "```\n"
   ]
  },
  {
   "cell_type": "code",
   "execution_count": 2,
   "id": "327eae84",
   "metadata": {},
   "outputs": [
    {
     "name": "stdout",
     "output_type": "stream",
     "text": [
      "Full Name:  Asabeneh Yetayeh\n",
      "Sum of two numbers:  10\n",
      "Age:  202\n",
      "Weight of an object in Newtons:  981.0 N\n"
     ]
    }
   ],
   "source": [
    "def generate_full_name (first_name, last_name):\n",
    "    space = ' '\n",
    "    full_name = first_name + space + last_name\n",
    "    return full_name\n",
    "print('Full Name: ', generate_full_name('Asabeneh','Yetayeh'))\n",
    "\n",
    "def sum_two_numbers (num_one, num_two):\n",
    "    sum = num_one + num_two\n",
    "    return sum\n",
    "print('Sum of two numbers: ', sum_two_numbers(1, 9))\n",
    "\n",
    "def calculate_age (current_year, birth_year):\n",
    "    age = current_year - birth_year\n",
    "    return age;\n",
    "\n",
    "print('Age: ', calculate_age(2021, 1819))\n",
    "\n",
    "def weight_of_object (mass, gravity):\n",
    "    weight = str(mass * gravity)+ ' N' # the value has to be changed to a string first\n",
    "    return weight\n",
    "print('Weight of an object in Newtons: ', weight_of_object(100, 9.81))"
   ]
  },
  {
   "cell_type": "markdown",
   "id": "758b844b",
   "metadata": {},
   "source": [
    "### Pasar argumentos con clave y valor.\n"
   ]
  },
  {
   "cell_type": "markdown",
   "id": "df8d6fb9",
   "metadata": {},
   "source": [
    "Si pasamos los argumentos con clave y valor, el orden de los argumentos no importa.\n",
    "\n",
    "```python\n",
    "def function_name(para1, para2):\n",
    "    codes\n",
    "    codes\n",
    "print(function_name(para1 = 'John', para2 = 'Doe')) # the order of arguments does not matter here\n",
    "```\n"
   ]
  },
  {
   "cell_type": "code",
   "execution_count": 7,
   "id": "828de651",
   "metadata": {},
   "outputs": [
    {
     "name": "stdout",
     "output_type": "stream",
     "text": [
      "Asabeneh Yetayeh\n",
      "None\n",
      "5\n",
      "None\n"
     ]
    }
   ],
   "source": [
    "def print_fullname(firstname, lastname):\n",
    "    space = ' '\n",
    "    full_name = firstname  + space + lastname\n",
    "    print(full_name)\n",
    "print(print_fullname(firstname = 'Asabeneh', lastname = 'Yetayeh'))\n",
    "\n",
    "def add_two_numbers (num1, num2):\n",
    "    total = num1 + num2\n",
    "    print(total)\n",
    "print(add_two_numbers(num2 = 3, num1 = 2)) # Order does not matter"
   ]
  },
  {
   "cell_type": "markdown",
   "id": "8c3be40f",
   "metadata": {},
   "source": [
    "En la funcion anterior tenemos en dos resultados none ya que a funcion no devuelve ningun valor pero se imprime despues por lo dado de alto en la funcion.\n"
   ]
  },
  {
   "cell_type": "markdown",
   "id": "f1b541d8",
   "metadata": {},
   "source": [
    "### Funcion que devuelve un valor - parte 2\n"
   ]
  },
  {
   "cell_type": "markdown",
   "id": "eb5e5648",
   "metadata": {},
   "source": [
    "Si no devolvemos un valor con una funcion, entonces nuestra funcion devuelve **none** de forma determinada. para devolver un valor con una funcion usamos la palabra clave **return** seguida de la variable que estamos devolciendo.Podemos devolver cualquier tipo de datos desde una funcion.\n"
   ]
  },
  {
   "cell_type": "markdown",
   "id": "f1586ff4",
   "metadata": {},
   "source": [
    "-Devolviendo una cadena: Ejemplo:\n"
   ]
  },
  {
   "cell_type": "code",
   "execution_count": 8,
   "id": "5c0f4fad",
   "metadata": {},
   "outputs": [
    {
     "data": {
      "text/plain": [
       "'Asabeneh Yetayeh'"
      ]
     },
     "execution_count": 8,
     "metadata": {},
     "output_type": "execute_result"
    }
   ],
   "source": [
    "def print_name(firstname):\n",
    "    return firstname\n",
    "print_name('Asabeneh') # Asabeneh\n",
    "\n",
    "def print_full_name(firstname, lastname):\n",
    "    space = ' '\n",
    "    full_name = firstname  + space + lastname\n",
    "    return full_name\n",
    "print_full_name(firstname='Asabeneh', lastname='Yetayeh')"
   ]
  },
  {
   "cell_type": "markdown",
   "id": "47a1fd94",
   "metadata": {},
   "source": [
    "-Devolver un numero:\n"
   ]
  },
  {
   "cell_type": "code",
   "execution_count": 9,
   "id": "81ad86d3",
   "metadata": {},
   "outputs": [
    {
     "name": "stdout",
     "output_type": "stream",
     "text": [
      "5\n",
      "Age:  200\n"
     ]
    }
   ],
   "source": [
    "def add_two_numbers (num1, num2):\n",
    "    total = num1 + num2\n",
    "    return total\n",
    "print(add_two_numbers(2, 3))\n",
    "\n",
    "def calculate_age (current_year, birth_year):\n",
    "    age = current_year - birth_year\n",
    "    return age;\n",
    "print('Age: ', calculate_age(2019, 1819))"
   ]
  },
  {
   "cell_type": "markdown",
   "id": "bd2266c8",
   "metadata": {},
   "source": [
    "## Modulos\n"
   ]
  },
  {
   "cell_type": "markdown",
   "id": "9464640f",
   "metadata": {},
   "source": [
    "**Que es un modulo?**\n",
    "Un modulo es un archivo que contiene un conjunto de codigos o un conjunto de funciones que se pueden incluir en una aplicacion. Un modulo podria ser un archivo que contenga una sola variable, una funcion o gran base de codigo.\n"
   ]
  },
  {
   "cell_type": "markdown",
   "id": "994599f8",
   "metadata": {},
   "source": [
    "### Creando un modulo\n",
    "\n",
    "Para crear un modulo escribimos nuestros codigos de un scrips de python y lo guardamos como un archivo.py. Cree un archivo llamado mymodule.py dentro de la carpeta de su proyecto. Escribamos algo de codigo en este archivo.\n"
   ]
  },
  {
   "cell_type": "code",
   "execution_count": 3,
   "id": "b6c2f8a2",
   "metadata": {},
   "outputs": [],
   "source": [
    "# mymodule.py file\n",
    "def generate_full_name(firstname, lastname):\n",
    "    return firstname + ' ' + lastname"
   ]
  },
  {
   "cell_type": "markdown",
   "id": "e5fe02ea",
   "metadata": {},
   "source": [
    "Cree el archivo main.py en el directorio de su proyecto e importe al archivo mymodule.py\n"
   ]
  },
  {
   "cell_type": "markdown",
   "id": "7bad815f",
   "metadata": {},
   "source": [
    "### Importar un modulo.\n"
   ]
  },
  {
   "cell_type": "markdown",
   "id": "09762e24",
   "metadata": {},
   "source": [
    "Para importar el archivo utilizamos la palabra clave **Import** y el nombre del archivo unicamente.\n"
   ]
  },
  {
   "cell_type": "markdown",
   "id": "0d1bcaa1",
   "metadata": {
    "notebookRunGroups": {
     "groupValue": "2"
    }
   },
   "source": [
    "```python\n",
    "'main.py file'\n",
    "import mymodule\n",
    "print(mymodule.generate_full_name('Asabeneh', 'Yetayeh'))\n",
    "```\n"
   ]
  },
  {
   "cell_type": "markdown",
   "id": "409c5e42",
   "metadata": {},
   "source": [
    "### Importar funciones desde un módulo\n",
    "\n",
    "Podemos tener muchas funciones en un archivo y podemos importar todas las funciones de manera diferente.\n"
   ]
  },
  {
   "cell_type": "markdown",
   "id": "59b38ce0",
   "metadata": {},
   "source": [
    "```python\n",
    "'# main.py file'\n",
    "from mymodule import generate_full_name, sum_two_nums, person, gravity\n",
    "print(generate_full_name('Asabneh','Yetayeh'))\n",
    "print(sum_two_nums(1,9))\n",
    "mass = 100;\n",
    "weight = mass * gravity\n",
    "print(weight)\n",
    "print(person['firstname'])\n",
    "```\n"
   ]
  },
  {
   "cell_type": "markdown",
   "id": "788d5f06",
   "metadata": {},
   "source": [
    "### Importar funciones desde un módulo y cambiarle el nombre\n",
    "\n",
    "Durante la importación podemos cambiar el nombre del módulo.\n"
   ]
  },
  {
   "cell_type": "markdown",
   "id": "557ec54b",
   "metadata": {},
   "source": [
    "```python\n",
    "'# main.py file'\n",
    "from mymodule import generate_full_name as fullname, sum_two_nums as total, person as p, gravity as g\n",
    "print(fullname('Asabneh','Yetayeh'))\n",
    "print(total(1, 9))\n",
    "mass = 100;\n",
    "weight = mass * g\n",
    "print(weight)\n",
    "print(p)\n",
    "print(p['firstname'])\n",
    "```\n"
   ]
  },
  {
   "cell_type": "markdown",
   "id": "71da98c3",
   "metadata": {},
   "source": [
    "### Importar modulos integrados.\n"
   ]
  },
  {
   "cell_type": "markdown",
   "id": "aefb2604",
   "metadata": {},
   "source": [
    "Al igual que otros lenguajes de programacion, tambien podemos importar modulos importando el archivo/ funcion usando la palabra clave **import**. importemos el modulo comun que usaremos la mayor parte del tiempo.Algunos de los modulos integrados comunes: **math, datetime, os, sys, random, stats, collections,json, re.**\n"
   ]
  },
  {
   "cell_type": "markdown",
   "id": "77f2d297",
   "metadata": {},
   "source": [
    "### Modulo de sistema operativo\n"
   ]
  },
  {
   "cell_type": "markdown",
   "id": "980ffb17",
   "metadata": {},
   "source": [
    "ando el modulo python **os** es posible realizar automaticamente muchas tareas del sistema operativo. El modulo del sistema operativo en python proporciona funciones para crear, cambiar el directorio de trabajo actual y eliminar un directorio (carpeta), recuperar su contenido, cambiar e identificar el directorio actual.\n"
   ]
  },
  {
   "cell_type": "markdown",
   "id": "0f84d16e",
   "metadata": {},
   "source": [
    "```python\n",
    "'# import the module'\n",
    "import os\n",
    "'# Creating a directory'\n",
    "os.mkdir('directory_name')\n",
    "'# Changing the current directory'\n",
    "os.chdir('path')\n",
    "'# Getting current working directory'\n",
    "os.getcwd()\n",
    "'# Removing directory'\n",
    "os.rmdir()\n",
    "```\n"
   ]
  },
  {
   "cell_type": "markdown",
   "id": "bfa6588a",
   "metadata": {},
   "source": [
    "### Modulo de sistema\n"
   ]
  },
  {
   "cell_type": "markdown",
   "id": "7f8ae8b3",
   "metadata": {},
   "source": [
    "El modulo **sys** proporciona funciones y variables que se utilizan para manipular diferentes partes del entorno de ejecucion de python.La funcion sys.argv devuelve una lista de argumentos de la linea de comando pasados a un script de python.El elemnto en el indice 0 de esta lista es siempre el nombre del script, en el indice 1 esta el argumento pasado desde la linea de comando.\n"
   ]
  },
  {
   "cell_type": "markdown",
   "id": "8d6f066e",
   "metadata": {},
   "source": [
    "## Revisar y complementar\n"
   ]
  },
  {
   "cell_type": "markdown",
   "id": "0a572f8e",
   "metadata": {},
   "source": [
    "### Modulo de estadisticas.\n"
   ]
  },
  {
   "cell_type": "markdown",
   "id": "5baa1b4a",
   "metadata": {},
   "source": [
    "El modulo de estadisticas proporciona funciones para estadisticasmatematicas de datos numericos, Las funciones estadisticas populares que se definen en este modulo: **media, mediana, moda, stdev,etc.**\n"
   ]
  },
  {
   "cell_type": "code",
   "execution_count": 6,
   "id": "75cac081",
   "metadata": {},
   "outputs": [
    {
     "name": "stdout",
     "output_type": "stream",
     "text": [
      "21.09090909090909\n",
      "22\n",
      "20\n",
      "6.106628291529549\n"
     ]
    }
   ],
   "source": [
    "from statistics import * # importing all the statistics modules\n",
    "ages = [20, 20, 4, 24, 25, 22, 26, 20, 23, 22, 26]\n",
    "print(mean(ages))       # ~22.9\n",
    "print(median(ages))     # 23\n",
    "print(mode(ages))       # 20\n",
    "print(stdev(ages))      # ~2.3"
   ]
  },
  {
   "cell_type": "markdown",
   "id": "0e278958",
   "metadata": {},
   "source": [
    "### Modulo de matematicas\n",
    "\n",
    "Modulo que contiene muchas operaciones matematicas y constantes.\n"
   ]
  },
  {
   "cell_type": "code",
   "execution_count": 8,
   "id": "aae6e37a",
   "metadata": {},
   "outputs": [
    {
     "name": "stdout",
     "output_type": "stream",
     "text": [
      "3.141592653589793\n",
      "1.4142135623730951\n",
      "8.0\n",
      "9\n",
      "10\n",
      "2.0\n"
     ]
    }
   ],
   "source": [
    "import math\n",
    "print(math.pi)           # 3.141592653589793, pi constant\n",
    "print(math.sqrt(2))      # 1.4142135623730951, square root\n",
    "print(math.pow(2, 3))    # 8.0, exponential function\n",
    "print(math.floor(9.81))  # 9, rounding to the lowest\n",
    "print(math.ceil(9.81))   # 10, rounding to the highest\n",
    "print(math.log10(100))   # 2, logarithm with 10 as base"
   ]
  },
  {
   "cell_type": "markdown",
   "id": "9fd6de7a",
   "metadata": {},
   "source": [
    "Ahora, hemos importado el modulo matematico que contiene muchas funciones que pueden ayudarnos a realizar calculos matematicos.para comprobar que funciones tiene el modulo,podemos usar help(math) o dir(math).esto mostrara las funciones disponibles del modulo. Si queremos importar solo una funcion especifica del modulo,la importamos de la siguiente manera.\n"
   ]
  },
  {
   "cell_type": "code",
   "execution_count": 9,
   "id": "7ac6cccc",
   "metadata": {},
   "outputs": [
    {
     "name": "stdout",
     "output_type": "stream",
     "text": [
      "3.141592653589793\n"
     ]
    }
   ],
   "source": [
    "from math import pi\n",
    "print(pi)"
   ]
  },
  {
   "cell_type": "markdown",
   "id": "ebcf633d",
   "metadata": {},
   "source": [
    "Tambien es posible importar multiples funciones a la vez.\n"
   ]
  },
  {
   "cell_type": "code",
   "execution_count": 10,
   "id": "1b4e5dc9",
   "metadata": {},
   "outputs": [
    {
     "name": "stdout",
     "output_type": "stream",
     "text": [
      "3.141592653589793\n",
      "1.4142135623730951\n",
      "8.0\n",
      "9\n",
      "10\n",
      "2.0\n"
     ]
    }
   ],
   "source": [
    "\n",
    "from math import pi, sqrt, pow, floor, ceil, log10\n",
    "print(pi)                 # 3.141592653589793\n",
    "print(sqrt(2))            # 1.4142135623730951\n",
    "print(pow(2, 3))          # 8.0\n",
    "print(floor(9.81))        # 9\n",
    "print(ceil(9.81))         # 10\n",
    "print(math.log10(100))    # 2\n"
   ]
  },
  {
   "cell_type": "markdown",
   "id": "a6d2b24f",
   "metadata": {},
   "source": [
    "Pero si queremos importar todas las funciones en el modulo matematico podemos usar \"\\*\",\n"
   ]
  },
  {
   "cell_type": "code",
   "execution_count": 11,
   "id": "2b022bf5",
   "metadata": {},
   "outputs": [
    {
     "name": "stdout",
     "output_type": "stream",
     "text": [
      "3.141592653589793\n",
      "1.4142135623730951\n",
      "8.0\n",
      "9\n",
      "10\n",
      "2.0\n"
     ]
    }
   ],
   "source": [
    "from math import *\n",
    "print(pi)                  # 3.141592653589793, pi constant\n",
    "print(sqrt(2))             # 1.4142135623730951, square root\n",
    "print(pow(2, 3))           # 8.0, exponential\n",
    "print(floor(9.81))         # 9, rounding to the lowest\n",
    "print(ceil(9.81))          # 10, rounding to the highest\n",
    "print(math.log10(100))     # 2"
   ]
  },
  {
   "cell_type": "markdown",
   "id": "2f988be5",
   "metadata": {},
   "source": [
    "Cuando importamos tambien podemos cambiar el nombre de la funcion.\n"
   ]
  },
  {
   "cell_type": "code",
   "execution_count": 12,
   "id": "02406bbf",
   "metadata": {},
   "outputs": [
    {
     "name": "stdout",
     "output_type": "stream",
     "text": [
      "3.141592653589793\n"
     ]
    }
   ],
   "source": [
    "from math import pi as  PI\n",
    "print(PI) # 3.141592653589793"
   ]
  },
  {
   "cell_type": "markdown",
   "id": "597f47c6",
   "metadata": {},
   "source": [
    "### Modulo de cadena.\n"
   ]
  },
  {
   "cell_type": "markdown",
   "id": "b1b9148e",
   "metadata": {},
   "source": [
    "Un modulo de cadena es un modulo util para muchos propositos.El siguiente ejemplo muestra algun uso del modulo de cadena.\n"
   ]
  },
  {
   "cell_type": "code",
   "execution_count": 13,
   "id": "d2a7f52e",
   "metadata": {},
   "outputs": [
    {
     "name": "stdout",
     "output_type": "stream",
     "text": [
      "abcdefghijklmnopqrstuvwxyzABCDEFGHIJKLMNOPQRSTUVWXYZ\n",
      "0123456789\n",
      "!\"#$%&'()*+,-./:;<=>?@[\\]^_`{|}~\n"
     ]
    }
   ],
   "source": [
    "import string\n",
    "print(string.ascii_letters) # abcdefghijklmnopqrstuvwxyzABCDEFGHIJKLMNOPQRSTUVWXYZ\n",
    "print(string.digits)        # 0123456789\n",
    "print(string.punctuation)   # !\"#$%&'()*+,-./:;<=>?@[\\]^_`{|}~"
   ]
  },
  {
   "cell_type": "markdown",
   "id": "047702c2",
   "metadata": {},
   "source": [
    "### Modulo aleatorio\n",
    "\n",
    "Ahora ya está familiarizado con la importación de módulos. Hagamos una importación más para familiarizarnos con él. Importemos un módulo aleatorio que nos da un número aleatorio entre 0 y 0,9999.... El módulo aleatorio tiene muchas funciones, pero en esta sección solo usaremos random y randint .\n"
   ]
  },
  {
   "cell_type": "code",
   "execution_count": 14,
   "id": "f9f80074",
   "metadata": {},
   "outputs": [
    {
     "name": "stdout",
     "output_type": "stream",
     "text": [
      "0.31265886587768443\n",
      "12\n"
     ]
    }
   ],
   "source": [
    "from random import random, randint\n",
    "print(random())   # it doesn't take any arguments; it returns a value between 0 and 0.9999\n",
    "print(randint(5, 20)) # it returns a random integer number between [5, 20] inclusive"
   ]
  },
  {
   "cell_type": "markdown",
   "id": "545b9699",
   "metadata": {},
   "source": [
    "## Comprension de listas\n"
   ]
  },
  {
   "cell_type": "markdown",
   "id": "1161a7dc",
   "metadata": {},
   "source": [
    "La comprension de listas en python es una forma compacta de crear una lista a partir de una secuencia. Es una forma de crear una nueva lista.La comprension de listas es considerablemente mas rapida que procesar una lista usando bucle for.\n"
   ]
  },
  {
   "cell_type": "markdown",
   "id": "6fb6a2e5",
   "metadata": {},
   "source": [
    "```python\n",
    "'# syntax'\n",
    "[i for i in iterable if expression]\n",
    "```\n"
   ]
  },
  {
   "cell_type": "code",
   "execution_count": 16,
   "id": "0cf1422c",
   "metadata": {},
   "outputs": [
    {
     "name": "stdout",
     "output_type": "stream",
     "text": [
      "[4, 16]\n"
     ]
    }
   ],
   "source": [
    "numeros = [1, 2, 3, 4, 5]\n",
    "cuadrados_pares = [x**2 for x in numeros if x % 2 == 0]\n",
    "print(cuadrados_pares)  # Salida: [4, 16]"
   ]
  },
  {
   "cell_type": "markdown",
   "id": "eb4359ea",
   "metadata": {},
   "source": [
    "### Funcion lambda.\n"
   ]
  },
  {
   "cell_type": "markdown",
   "id": "b6b7e650",
   "metadata": {},
   "source": [
    "Una función lambda en Python es una función anónima y pequeña que se define utilizando la palabra clave lambda. A diferencia de las funciones normales que se definen con def y tienen un nombre, las funciones lambda se utilizan cuando necesitas una función rápida que realice una operación simple.\n"
   ]
  },
  {
   "cell_type": "code",
   "execution_count": 18,
   "id": "6ce63720",
   "metadata": {},
   "outputs": [
    {
     "name": "stdout",
     "output_type": "stream",
     "text": [
      "25\n",
      "9\n"
     ]
    }
   ],
   "source": [
    "cuadrado = lambda x: x**2\n",
    "print(cuadrado(5))  # Salida: 25\n",
    "print(cuadrado(3))"
   ]
  },
  {
   "cell_type": "markdown",
   "id": "2603a76c",
   "metadata": {},
   "source": [
    "## Funciones de orden superior.\n"
   ]
  },
  {
   "cell_type": "markdown",
   "id": "7b3b5d52",
   "metadata": {},
   "source": [
    "En python, las funciones se tratan como ciudadanos de primera clase, lo que permite realizar las siguientes operaciones en funciones:\n",
    "\n",
    "-Una funcion puede tomar una o mas funciones como parametros.\n",
    "\n",
    "-Una funcion puede ser devuelta como resultado de otra funcion.\n",
    "\n",
    "-Una funcion se puede modificar.\n",
    "\n",
    "-Se puede asignar una funcion a una variable.\n",
    "\n",
    "En esta seccion se cubrira:\n",
    "\n",
    "1.- Manejo de funciones como parametros.\n",
    "\n",
    "2.- devolver funciones como valor de retorno de otras funciones\n",
    "\n",
    "3.- Usando cierres y decoradores de python.\n"
   ]
  },
  {
   "cell_type": "markdown",
   "id": "c0f1576d",
   "metadata": {},
   "source": [
    "### Funcion como parametro\n"
   ]
  },
  {
   "cell_type": "code",
   "execution_count": 1,
   "id": "5be824f3",
   "metadata": {},
   "outputs": [
    {
     "name": "stdout",
     "output_type": "stream",
     "text": [
      "15\n"
     ]
    }
   ],
   "source": [
    "def sum_numbers(nums):  # normal function\n",
    "    return sum(nums)    # a sad function abusing the built-in sum function :<\n",
    "\n",
    "def higher_order_function(f, lst):  # function as a parameter\n",
    "    summation = f(lst)\n",
    "    return summation\n",
    "result = higher_order_function(sum_numbers, [1, 2, 3, 4, 5])\n",
    "print(result)       # 15"
   ]
  },
  {
   "cell_type": "markdown",
   "id": "87ecf5ba",
   "metadata": {},
   "source": [
    "Este código muestra cómo usar una función como un parámetro de otra función en Python. Aquí está la explicación paso a paso:\n",
    "\n",
    "1.-Se define una función **sum_numbers(nums)** que toma una lista de números (nums) y devuelve la suma de esos números utilizando la función sum() de Python.\n",
    "\n",
    "2.-Se define una función de orden superior higher_order_function(f, lst) que toma dos argumentos:\n",
    "f: Una función que se espera que tome una lista como argumento y devuelva algún resultado.\n",
    "lst: Una lista de números que se pasará como argumento a la función f.\n",
    "\n",
    "3.-Dentro de la función de orden superior, se llama a la función f con la lista lst como argumento y se guarda el resultado en la variable summation.\n",
    "\n",
    "4.-Finalmente, se devuelve el resultado de la función f en forma de summation.\n",
    "\n",
    "5.-Se llama a la función de orden superior higher_order_function pasando la función sum_numbers como argumento f y una lista [1, 2, 3, 4, 5] como argumento lst.\n",
    "\n",
    "6.-El resultado de la llamada a higher_order_function se asigna a la variable result y se imprime. En este caso, la función sum_numbers se aplica a la lista [1, 2, 3, 4, 5], devolviendo la suma de los números en esa lista, que es 15.\n"
   ]
  },
  {
   "cell_type": "markdown",
   "metadata": {},
   "source": [
    "### Funcion como valor de retorno.\n"
   ]
  },
  {
   "cell_type": "code",
   "execution_count": 6,
   "id": "e4e08e53",
   "metadata": {},
   "outputs": [
    {
     "name": "stdout",
     "output_type": "stream",
     "text": [
      "9\n",
      "27\n",
      "3\n"
     ]
    }
   ],
   "source": [
    "def square(x):          # a square function\n",
    "    return x ** 2\n",
    "\n",
    "def cube(x):            # a cube function\n",
    "    return x ** 3\n",
    " \n",
    "def absolute(x):        # an absolute value function\n",
    "    if x >= 0:\n",
    "        return x\n",
    "    else:\n",
    "        return -(x)\n",
    "\n",
    "def higher_order_function(type): # a higher order function returning a function\n",
    "    if type == 'square':\n",
    "        return square\n",
    "    elif type == 'cube':\n",
    "        return cube\n",
    "    elif type == 'absolute':\n",
    "        return absolute\n",
    "\n",
    "result = higher_order_function('square')\n",
    "print(result(3))       # 9\n",
    "result = higher_order_function('cube')\n",
    "print(result(3))       # 27\n",
    "result = higher_order_function('absolute')\n",
    "print(result(-3))      # 3"
   ]
  },
  {
   "cell_type": "markdown",
   "id": "a550bc17",
   "metadata": {},
   "source": [
    "1.- Se definen tres funciones simples: square(x) que devuelve el cuadrado de x, cube(x) que devuelve el cubo de x, y absolute(x) que devuelve el valor absoluto de x.\n",
    "\n",
    "2.- se define una función de orden superior higher_order_function(type) que toma un argumento type que especifica qué tipo de función se desea obtener ('square', 'cube' o 'absolute').\n",
    "\n",
    "3.- Dentro de la función de orden superior, se utiliza una estructura if-elif-else para determinar qué función debe devolverse según el tipo especificado. Si type es 'square', se devuelve la función square; si es 'cube', se devuelve la función cube; y si es 'absolute', se devuelve la función absolute.\n",
    "\n",
    "4.- Se asigna el resultado de llamar a higher_order_function con un tipo específico a la variable result.\n",
    "\n",
    "5.- Se imprime el resultado de llamar a la función devuelta (result) con un valor específico (3 o -3).\n"
   ]
  },
  {
   "cell_type": "markdown",
   "id": "358d6b82",
   "metadata": {},
   "source": [
    "### Cierres en python.\n"
   ]
  },
  {
   "cell_type": "markdown",
   "id": "529db430",
   "metadata": {},
   "source": [
    "Python permite que una funcion anidada acceda al alcace externo de la funcion adjunta. Esto se conoce como cierre.Echemos un vistazo a como funcionan los cierres en python.En python, El cierre se crea anidando una funcion dentro de otra funcion encapsuladora y luego devolviendo la funcion interna. Vea el ejemplo a continuacion.\n"
   ]
  },
  {
   "cell_type": "code",
   "execution_count": null,
   "id": "257fbfab",
   "metadata": {},
   "outputs": [],
   "source": [
    "def add_ten():\n",
    "    ten = 10\n",
    "    def add(num):\n",
    "        return num + ten\n",
    "    return add\n",
    "\n",
    "closure_result = add_ten()\n",
    "print(closure_result(5))  # 15\n",
    "print(closure_result(10))  # 20"
   ]
  },
  {
   "cell_type": "markdown",
   "id": "8d1b5dca",
   "metadata": {},
   "source": [
    "Los cierres son útiles cuando queremos crear funciones especializadas que dependen de ciertos valores en su entorno de definición. Son especialmente útiles en situaciones donde queremos generar múltiples funciones similares pero con diferentes configuraciones iniciales, ya que podemos usar la misma función de definición pero con diferentes argumentos de configuración.\n"
   ]
  },
  {
   "cell_type": "markdown",
   "id": "84e3b362",
   "metadata": {},
   "source": [
    "### Decoradores de python.\n"
   ]
  },
  {
   "cell_type": "markdown",
   "id": "af097abb",
   "metadata": {},
   "source": [
    "Un decorador es un patrón de diseño en Python que permite al usuario agregar nuevas funciones a un objeto existente sin modificar su estructura. Los decoradores generalmente se llaman antes de la definición de una función que desea decorar.\n"
   ]
  },
  {
   "cell_type": "markdown",
   "id": "807cec5e",
   "metadata": {},
   "source": [
    "#### Creando decoradores.\n"
   ]
  },
  {
   "cell_type": "markdown",
   "id": "18052881",
   "metadata": {},
   "source": [
    "Para crear una función decoradora, necesitamos una función externa con una función contenedora interna.\n"
   ]
  },
  {
   "cell_type": "code",
   "execution_count": 3,
   "id": "59ec4711",
   "metadata": {},
   "outputs": [
    {
     "name": "stdout",
     "output_type": "stream",
     "text": [
      "WELCOME TO PYTHON\n",
      "WELCOME TO PYTHON\n"
     ]
    }
   ],
   "source": [
    "# Normal function\n",
    "def greeting():\n",
    "    return 'Welcome to Python'\n",
    "def uppercase_decorator(function):\n",
    "    def wrapper():\n",
    "        func = function()\n",
    "        make_uppercase = func.upper()\n",
    "        return make_uppercase\n",
    "    return wrapper\n",
    "g = uppercase_decorator(greeting)\n",
    "print(g())          # WELCOME TO PYTHON\n",
    "\n",
    "## Let us implement the example above with a decorator\n",
    "\n",
    "'''This decorator function is a higher order function\n",
    "that takes a function as a parameter'''\n",
    "def uppercase_decorator(function):\n",
    "    def wrapper():\n",
    "        func = function()\n",
    "        make_uppercase = func.upper()\n",
    "        return make_uppercase\n",
    "    return wrapper\n",
    "@uppercase_decorator\n",
    "def greeting():\n",
    "    return 'Welcome to Python'\n",
    "print(greeting())   # WELCOME TO PYTHON"
   ]
  },
  {
   "cell_type": "markdown",
   "id": "ccc88c6d",
   "metadata": {},
   "source": [
    "#### Aplicar multiples decoradores a una sola funcion.\n"
   ]
  },
  {
   "cell_type": "code",
   "execution_count": 7,
   "id": "a1abda82",
   "metadata": {},
   "outputs": [
    {
     "name": "stdout",
     "output_type": "stream",
     "text": [
      "['WELCOME', 'TO', 'PYTHON']\n"
     ]
    }
   ],
   "source": [
    "\n",
    "'''These decorator functions are higher order functions\n",
    "that take functions as parameters'''\n",
    "\n",
    "# First Decorator\n",
    "def uppercase_decorator(function):\n",
    "    def wrapper():\n",
    "        func = function()\n",
    "        make_uppercase = func.upper()\n",
    "        return make_uppercase\n",
    "    return wrapper\n",
    "\n",
    "# Second decorator\n",
    "def split_string_decorator(function):\n",
    "    def wrapper():\n",
    "        func = function()\n",
    "        splitted_string = func.split()\n",
    "        return splitted_string\n",
    "\n",
    "    return wrapper\n",
    "\n",
    "@split_string_decorator\n",
    "@uppercase_decorator     # order with decorators is important in this case - .upper() function does not work with lists\n",
    "def greeting():\n",
    "    return 'Welcome to Python'\n",
    "print(greeting())   # WELCOME TO PYTHON\n"
   ]
  },
  {
   "cell_type": "markdown",
   "id": "dba0f088",
   "metadata": {},
   "source": [
    "#### Aceptar parametros en funciones decoradoras.\n"
   ]
  },
  {
   "cell_type": "markdown",
   "id": "4752749a",
   "metadata": {},
   "source": [
    "La mayoría de las veces necesitamos que nuestras funciones tomen parámetros, por lo que es posible que necesitemos definir un decorador que acepte parámetros.\n"
   ]
  },
  {
   "cell_type": "code",
   "execution_count": 8,
   "id": "b7562a90",
   "metadata": {},
   "outputs": [
    {
     "name": "stdout",
     "output_type": "stream",
     "text": [
      "I am Asabeneh Yetayeh. I love to teach.\n",
      "I live in Finland\n"
     ]
    }
   ],
   "source": [
    "def decorator_with_parameters(function):\n",
    "    def wrapper_accepting_parameters(para1, para2, para3):\n",
    "        function(para1, para2, para3)\n",
    "        print(\"I live in {}\".format(para3))\n",
    "    return wrapper_accepting_parameters\n",
    "\n",
    "@decorator_with_parameters\n",
    "def print_full_name(first_name, last_name, country):\n",
    "    print(\"I am {} {}. I love to teach.\".format(\n",
    "        first_name, last_name, country))\n",
    "\n",
    "print_full_name(\"Asabeneh\", \"Yetayeh\",'Finland')"
   ]
  },
  {
   "cell_type": "markdown",
   "id": "8bc7bf39",
   "metadata": {},
   "source": [
    "### Funciones integradas de orden superirior.\n"
   ]
  },
  {
   "cell_type": "markdown",
   "id": "dfbd44d9",
   "metadata": {},
   "source": [
    "Algunas de las funciones integradas de orden superior que cubrimos en esta parte son map(),filter y reduce. La funcion lamba se puede pasar como parametro y el mejor caso de uso de las funciones lambda es en funciones como mapear, filtrar y reducir.\n"
   ]
  },
  {
   "cell_type": "markdown",
   "id": "c751031c",
   "metadata": {},
   "source": [
    "#### Funcion **map**.\n"
   ]
  },
  {
   "cell_type": "markdown",
   "id": "de121509",
   "metadata": {},
   "source": [
    "La funcion **map()** es una funcion incorporada que toma una funcion y es iterable como parametros.\n",
    "\n",
    "```python\n",
    "        map(function, iterable)\n",
    "```\n"
   ]
  },
  {
   "cell_type": "code",
   "execution_count": 9,
   "id": "f3310e52",
   "metadata": {},
   "outputs": [
    {
     "name": "stdout",
     "output_type": "stream",
     "text": [
      "[1, 4, 9, 16, 25]\n",
      "[1, 4, 9, 16, 25]\n"
     ]
    }
   ],
   "source": [
    "numbers = [1, 2, 3, 4, 5] # iterable\n",
    "def square(x):\n",
    "    return x ** 2\n",
    "numbers_squared = map(square, numbers)\n",
    "print(list(numbers_squared))    # [1, 4, 9, 16, 25]\n",
    "# Lets apply it with a lambda function\n",
    "numbers_squared = map(lambda x : x ** 2, numbers)\n",
    "print(list(numbers_squared))    # [1, 4, 9, 16, 25]"
   ]
  },
  {
   "cell_type": "code",
   "execution_count": 10,
   "id": "81774531",
   "metadata": {},
   "outputs": [
    {
     "name": "stdout",
     "output_type": "stream",
     "text": [
      "[1, 2, 3, 4, 5]\n"
     ]
    }
   ],
   "source": [
    "numbers_str = ['1', '2', '3', '4', '5']  # iterable\n",
    "numbers_int = map(int, numbers_str)\n",
    "print(list(numbers_int))    # [1, 2, 3, 4, 5]"
   ]
  },
  {
   "cell_type": "code",
   "execution_count": 11,
   "id": "e6c6f983",
   "metadata": {},
   "outputs": [
    {
     "name": "stdout",
     "output_type": "stream",
     "text": [
      "['ASABENEH', 'LIDIYA', 'ERMIAS', 'ABRAHAM']\n",
      "['ASABENEH', 'LIDIYA', 'ERMIAS', 'ABRAHAM']\n"
     ]
    }
   ],
   "source": [
    "names = ['Asabeneh', 'Lidiya', 'Ermias', 'Abraham']  # iterable\n",
    "\n",
    "def change_to_upper(name):\n",
    "    return name.upper()\n",
    "\n",
    "names_upper_cased = map(change_to_upper, names)\n",
    "print(list(names_upper_cased))    # ['ASABENEH', 'LIDIYA', 'ERMIAS', 'ABRAHAM']\n",
    "\n",
    "# Let us apply it with a lambda function\n",
    "names_upper_cased = map(lambda name: name.upper(), names)\n",
    "print(list(names_upper_cased))    # ['ASABENEH', 'LIDIYA', 'ERMIAS', 'ABRAHAM']"
   ]
  },
  {
   "cell_type": "markdown",
   "id": "bb9b3b6d",
   "metadata": {},
   "source": [
    "Lo que hace el map es iterar sobre una lista.Por ejemplo, cambia los nombres a mayusculas y devuelve una nueva lista.\n"
   ]
  },
  {
   "cell_type": "markdown",
   "id": "c11b704a",
   "metadata": {},
   "source": [
    "#### Funcion **filtro**.\n"
   ]
  },
  {
   "cell_type": "markdown",
   "id": "aadc84ed",
   "metadata": {},
   "source": [
    "La funcion **filter()** llama la funcion especificada que devuelve un valor booleano para cada elemento del iterable (lista) especificado.Filtra los elementos que satisfacen los criterios de filtrado.\n"
   ]
  },
  {
   "cell_type": "markdown",
   "id": "e74b6a9b",
   "metadata": {},
   "source": [
    "```python\n",
    "    filter(function, iterable)\n",
    "```\n"
   ]
  },
  {
   "cell_type": "code",
   "execution_count": 12,
   "id": "e3d15cb8",
   "metadata": {},
   "outputs": [
    {
     "name": "stdout",
     "output_type": "stream",
     "text": [
      "[2, 4]\n"
     ]
    }
   ],
   "source": [
    "# Lets filter only even nubers\n",
    "numbers = [1, 2, 3, 4, 5]  # iterable\n",
    "\n",
    "def is_even(num):\n",
    "    if num % 2 == 0:\n",
    "        return True\n",
    "    return False\n",
    "\n",
    "even_numbers = filter(is_even, numbers)\n",
    "print(list(even_numbers))       # [2, 4]"
   ]
  },
  {
   "cell_type": "code",
   "execution_count": 1,
   "id": "acf9dae3",
   "metadata": {},
   "outputs": [
    {
     "name": "stdout",
     "output_type": "stream",
     "text": [
      "[1, 3, 5]\n"
     ]
    }
   ],
   "source": [
    "numbers = [1, 2, 3, 4, 5]  # iterable\n",
    "\n",
    "def is_odd(num):\n",
    "    if num % 2 != 0:\n",
    "        return True\n",
    "    return False\n",
    "\n",
    "odd_numbers = filter(is_odd, numbers)\n",
    "print(list(odd_numbers))       # [1, 3, 5]"
   ]
  },
  {
   "cell_type": "code",
   "execution_count": 2,
   "id": "920471a6",
   "metadata": {},
   "outputs": [
    {
     "name": "stdout",
     "output_type": "stream",
     "text": [
      "['Asabeneh']\n"
     ]
    }
   ],
   "source": [
    "# Filter long name\n",
    "names = ['Asabeneh', 'Lidiya', 'Ermias', 'Abraham']  # iterable\n",
    "def is_name_long(name):\n",
    "    if len(name) > 7:\n",
    "        return True\n",
    "    return False\n",
    "\n",
    "long_names = filter(is_name_long, names)\n",
    "print(list(long_names))         # ['Asabeneh']"
   ]
  },
  {
   "cell_type": "markdown",
   "id": "6e8c65f1",
   "metadata": {},
   "source": [
    "## Tipos de errores.\n"
   ]
  },
  {
   "cell_type": "markdown",
   "id": "990dd488",
   "metadata": {},
   "source": [
    "Cuando escribimos codigo es comun que cometamos algun error tipografico o algun otro error comun.Si nuestro codigo no se ejecuta, el interprete de python mostrara un mensaje que contiene comentarios con informacion sobre donde ocurre el poblema y el tipo de error.\n",
    "Aveces tambien nos da sugerencias sobre una posible solucion.Comprender los diferentes tipos de errores en los lenguajes de programacion nos ayudara a depurar nuestro codigo rapidamente y tambien nos hara mejores en lo que hacemos.\n"
   ]
  },
  {
   "cell_type": "markdown",
   "id": "fa19cda5",
   "metadata": {},
   "source": [
    "### Error de sintaxis.\n"
   ]
  },
  {
   "cell_type": "markdown",
   "id": "56b55ac9",
   "metadata": {},
   "source": [
    "```Python\n",
    "asabeneh@Asabeneh:~$ python\n",
    "Python 3.9.6 (default, Jun 28 2021, 15:26:21)\n",
    "[Clang 11.0.0 (clang-1100.0.33.8)] on darwin\n",
    "Type \"help\", \"copyright\", \"credits\" or \"license\" for more information.\n",
    ">>> print 'hello world'\n",
    "  File \"<stdin>\", line 1\n",
    "    print 'hello world'\n",
    "                      ^\n",
    "SyntaxError: Missing parentheses in call to 'print'. Did you mean print('hello world')?\n",
    ">>>\n",
    "```\n"
   ]
  },
  {
   "cell_type": "markdown",
   "id": "4f26a94c",
   "metadata": {},
   "source": [
    "Como se puede ver, Cometimos un error de sintaxis por que olvidamos encerrar la cadena entre parentesis y python ya sugiere la solucion.\n"
   ]
  },
  {
   "cell_type": "code",
   "execution_count": 3,
   "id": "490f1c45",
   "metadata": {},
   "outputs": [
    {
     "name": "stdout",
     "output_type": "stream",
     "text": [
      "hello world\n"
     ]
    }
   ],
   "source": [
    "print('hello world')"
   ]
  },
  {
   "cell_type": "markdown",
   "id": "cea2ba92",
   "metadata": {},
   "source": [
    "### NombreError.\n"
   ]
  },
  {
   "cell_type": "markdown",
   "id": "526a4bc0",
   "metadata": {},
   "source": [
    "```python\n",
    "asabeneh@Asabeneh:~$ python\n",
    "Python 3.9.6 (default, Jun 28 2021, 15:26:21)\n",
    "[Clang 11.0.0 (clang-1100.0.33.8)] on darwin\n",
    "Type \"help\", \"copyright\", \"credits\" or \"license\" for more information.\n",
    ">>> print(age)\n",
    "Traceback (most recent call last):\n",
    "  File \"<stdin>\", line 1, in <module>\n",
    "NameError: name 'age' is not defined\n",
    ">>>\n",
    "```\n"
   ]
  },
  {
   "cell_type": "markdown",
   "id": "f8f88662",
   "metadata": {},
   "source": [
    "Como se puede ver el mensaje anterior, la variable **\"age\"** no esta definida. Si es cierto que no definimos una variable de edad pero intentamos imprimirla como si la hubieramos declarado.\n"
   ]
  },
  {
   "cell_type": "code",
   "execution_count": 4,
   "id": "c93b10ca",
   "metadata": {},
   "outputs": [
    {
     "name": "stdout",
     "output_type": "stream",
     "text": [
      "25\n"
     ]
    }
   ],
   "source": [
    "age = 25\n",
    "print(age)"
   ]
  },
  {
   "cell_type": "markdown",
   "id": "fd5d1ee8",
   "metadata": {},
   "source": [
    "### Error de indice.\n"
   ]
  },
  {
   "cell_type": "markdown",
   "id": "f2c03541",
   "metadata": {},
   "source": [
    "```python\n",
    "asabeneh@Asabeneh:~$ python\n",
    "Python 3.9.6 (default, Jun 28 2021, 15:26:21)\n",
    "[Clang 11.0.0 (clang-1100.0.33.8)] on darwin\n",
    "Type \"help\", \"copyright\", \"credits\" or \"license\" for more information.\n",
    ">>> numbers = [1, 2, 3, 4, 5]\n",
    ">>> numbers[5]\n",
    "Traceback (most recent call last):\n",
    "  File \"<stdin>\", line 1, in <module>\n",
    "IndexError: list index out of range\n",
    ">>>\n",
    "```\n"
   ]
  },
  {
   "cell_type": "markdown",
   "id": "7225d647",
   "metadata": {},
   "source": [
    "En ejemplo anterior,python genero un **indexError**, porque la lista solo tiene indices de 0,4, por lo que estba fuera de rango.\n"
   ]
  },
  {
   "cell_type": "code",
   "execution_count": 1,
   "id": "762e9052",
   "metadata": {},
   "outputs": [
    {
     "name": "stdout",
     "output_type": "stream",
     "text": [
      "5\n"
     ]
    }
   ],
   "source": [
    "numbers = [1,2,3,4,5]\n",
    "print(numbers[4])"
   ]
  },
  {
   "cell_type": "markdown",
   "id": "2c59fe79",
   "metadata": {},
   "source": [
    "### Error de modulo no encontrado.\n"
   ]
  },
  {
   "cell_type": "markdown",
   "id": "46c4705e",
   "metadata": {},
   "source": [
    "```python\n",
    "asabeneh@Asabeneh:~$ python\n",
    "Python 3.9.6 (default, Jun 28 2021, 15:26:21)\n",
    "[Clang 11.0.0 (clang-1100.0.33.8)] on darwin\n",
    "Type \"help\", \"copyright\", \"credits\" or \"license\" for more information.\n",
    ">>> import maths\n",
    "Traceback (most recent call last):\n",
    "  File \"<stdin>\", line 1, in <module>\n",
    "ModuleNotFoundError: No module named 'maths'\n",
    ">>>\n",
    "```\n"
   ]
  },
  {
   "cell_type": "markdown",
   "id": "745a3ec8",
   "metadata": {},
   "source": [
    "En el ejemplo anterior, agregué deliberadamente una s adicional a las matemáticas y se generó ModuleNotFoundError . Arreglemoslo eliminando las s adicionales de las matemáticas.\n"
   ]
  },
  {
   "cell_type": "code",
   "execution_count": 2,
   "id": "42f804fa",
   "metadata": {},
   "outputs": [],
   "source": [
    "import math"
   ]
  },
  {
   "cell_type": "markdown",
   "id": "848b6e62",
   "metadata": {},
   "source": [
    "### Error de atributo.\n"
   ]
  },
  {
   "cell_type": "markdown",
   "id": "ea61a8ab",
   "metadata": {},
   "source": [
    "```python\n",
    "asabeneh@Asabeneh:~$ python\n",
    "Python 3.9.6 (default, Jun 28 2021, 15:26:21)\n",
    "[Clang 11.0.0 (clang-1100.0.33.8)] on darwin\n",
    "Type \"help\", \"copyright\", \"credits\" or \"license\" for more information.\n",
    ">>> import maths\n",
    "Traceback (most recent call last):\n",
    "  File \"<stdin>\", line 1, in <module>\n",
    "ModuleNotFoundError: No module named 'maths'\n",
    ">>> import math\n",
    ">>> math.PI\n",
    "Traceback (most recent call last):\n",
    "  File \"<stdin>\", line 1, in <module>\n",
    "AttributeError: module 'math' has no attribute 'PI'\n",
    ">>>\n",
    "```\n"
   ]
  },
  {
   "cell_type": "markdown",
   "id": "5d5db19a",
   "metadata": {},
   "source": [
    "Como puedes ver, ¡cometí un error otra vez! En lugar de pi, intenté llamar a una función PI desde el módulo de matemáticas. Planteó un error de atributo, es decir, que la función no existe en el módulo. Arreglemoslo cambiando de PI a pi.\n"
   ]
  },
  {
   "cell_type": "code",
   "execution_count": 3,
   "id": "af2b2750",
   "metadata": {},
   "outputs": [
    {
     "name": "stdout",
     "output_type": "stream",
     "text": [
      "3.141592653589793\n"
     ]
    }
   ],
   "source": [
    "print(math.pi)"
   ]
  },
  {
   "cell_type": "markdown",
   "id": "6c0a79e5",
   "metadata": {},
   "source": [
    "### Error clave.\n"
   ]
  },
  {
   "cell_type": "markdown",
   "id": "2a8e409b",
   "metadata": {},
   "source": [
    "```python\n",
    "asabeneh@Asabeneh:~$ python\n",
    "Python 3.9.6 (default, Jun 28 2021, 15:26:21)\n",
    "[Clang 11.0.0 (clang-1100.0.33.8)] on darwin\n",
    "Type \"help\", \"copyright\", \"credits\" or \"license\" for more information.\n",
    ">>> users = {'name':'Asab', 'age':250, 'country':'Finland'}\n",
    ">>> users['name']\n",
    "'Asab'\n",
    ">>> users['county']\n",
    "Traceback (most recent call last):\n",
    "  File \"<stdin>\", line 1, in <module>\n",
    "KeyError: 'county'\n",
    ">>>\n",
    "```\n"
   ]
  },
  {
   "cell_type": "markdown",
   "id": "4a31d536",
   "metadata": {},
   "source": [
    "Como puede ver, hubo un error tipográfico en la clave utilizada para obtener el valor del diccionario. Entonces, este es un error clave y la solución es bastante sencilla.\n"
   ]
  },
  {
   "cell_type": "code",
   "execution_count": 4,
   "id": "63756659",
   "metadata": {},
   "outputs": [
    {
     "name": "stdout",
     "output_type": "stream",
     "text": [
      "Finland\n"
     ]
    }
   ],
   "source": [
    "users = {'name':'Asab', 'age':250, 'country':'Finland'}\n",
    "print(users['country'])"
   ]
  },
  {
   "cell_type": "markdown",
   "id": "c5eed669",
   "metadata": {},
   "source": [
    "### Error de teclado.\n"
   ]
  },
  {
   "cell_type": "markdown",
   "id": "bfd0a8bd",
   "metadata": {},
   "source": [
    "```python\n",
    "asabeneh@Asabeneh:~$ python\n",
    "Python 3.9.6 (default, Jun 28 2021, 15:26:21)\n",
    "[Clang 11.0.0 (clang-1100.0.33.8)] on darwin\n",
    "Type \"help\", \"copyright\", \"credits\" or \"license\" for more information.\n",
    ">>> 4 + '3'\n",
    "Traceback (most recent call last):\n",
    "  File \"<stdin>\", line 1, in <module>\n",
    "TypeError: unsupported operand type(s) for +: 'int' and 'str'\n",
    ">>>\n",
    "```\n"
   ]
  },
  {
   "cell_type": "markdown",
   "id": "f88f150f",
   "metadata": {},
   "source": [
    "En el ejemplo anterior, se genera un TypeError por que no podemos agregar un numero a una cadena. La primera solucion seria convertir la cadena a int o float.Otra solucion seria convertir la cadena a int o float.Otra solucion seria convertir el numero en una cadena (el resultado seria 43).\n"
   ]
  },
  {
   "cell_type": "code",
   "execution_count": 6,
   "id": "6f3a9cac",
   "metadata": {},
   "outputs": [
    {
     "name": "stdout",
     "output_type": "stream",
     "text": [
      "7\n",
      "7.0\n"
     ]
    }
   ],
   "source": [
    "print(4 + int('3'))\n",
    "\n",
    "print(4 + float('3'))"
   ]
  },
  {
   "cell_type": "markdown",
   "id": "a45233a4",
   "metadata": {},
   "source": [
    "### Error de importacion.\n"
   ]
  },
  {
   "cell_type": "markdown",
   "id": "50e617d6",
   "metadata": {},
   "source": [
    "```python\n",
    "asabeneh@Asabeneh:~$ python\n",
    "Python 3.9.6 (default, Jun 28 2021, 15:26:21)\n",
    "[Clang 11.0.0 (clang-1100.0.33.8)] on darwin\n",
    "Type \"help\", \"copyright\", \"credits\" or \"license\" for more information.\n",
    ">>> from math import power\n",
    "Traceback (most recent call last):\n",
    "  File \"<stdin>\", line 1, in <module>\n",
    "ImportError: cannot import name 'power' from 'math'\n",
    ">>>\n",
    "```\n"
   ]
  },
  {
   "cell_type": "markdown",
   "id": "afe319c0",
   "metadata": {},
   "source": [
    "en el ejemplo anterior no hay ningula funcion llamada power en el modulo math, tiene un nombre diferente: **pow**\n"
   ]
  },
  {
   "cell_type": "code",
   "execution_count": 9,
   "id": "46e46719",
   "metadata": {},
   "outputs": [
    {
     "name": "stdout",
     "output_type": "stream",
     "text": [
      "8.0\n"
     ]
    }
   ],
   "source": [
    "from math import pow\n",
    "print(pow(2,3))"
   ]
  },
  {
   "cell_type": "markdown",
   "id": "0163de1c",
   "metadata": {},
   "source": [
    "### Error de valor.\n"
   ]
  },
  {
   "cell_type": "markdown",
   "id": "912ff8ab",
   "metadata": {},
   "source": [
    "```python\n",
    "asabeneh@Asabeneh:~$ python\n",
    "Python 3.9.6 (default, Jun 28 2021, 15:26:21)\n",
    "[Clang 11.0.0 (clang-1100.0.33.8)] on darwin\n",
    "Type \"help\", \"copyright\", \"credits\" or \"license\" for more information.\n",
    ">>> int('12a')\n",
    "Traceback (most recent call last):\n",
    "  File \"<stdin>\", line 1, in <module>\n",
    "ValueError: invalid literal for int() with base 10: '12a'\n",
    ">>>\n",
    "```\n"
   ]
  },
  {
   "cell_type": "markdown",
   "id": "9fa1cbed",
   "metadata": {},
   "source": [
    "En este caso no podemos cambiar la cadena dada a un numero debido a la letra 'a' que contiene\n"
   ]
  },
  {
   "cell_type": "markdown",
   "id": "1032ae6f",
   "metadata": {},
   "source": [
    "### Error de division cero.\n"
   ]
  },
  {
   "cell_type": "markdown",
   "id": "3c9f5709",
   "metadata": {},
   "source": [
    "```python\n",
    "asabeneh@Asabeneh:~$ python\n",
    "Python 3.9.6 (default, Jun 28 2021, 15:26:21)\n",
    "[Clang 11.0.0 (clang-1100.0.33.8)] on darwin\n",
    "Type \"help\", \"copyright\", \"credits\" or \"license\" for more information.\n",
    ">>> 1/0\n",
    "Traceback (most recent call last):\n",
    "  File \"<stdin>\", line 1, in <module>\n",
    "ZeroDivisionError: division by zero\n",
    ">>>\n",
    "```\n"
   ]
  },
  {
   "cell_type": "markdown",
   "id": "4d99803e",
   "metadata": {},
   "source": [
    "**NO SE PUEDE DIVIDIR UN NUMERO POR CERO.**\n"
   ]
  },
  {
   "cell_type": "markdown",
   "id": "14bc6986",
   "metadata": {},
   "source": [
    "## Fecha y hora en python.\n"
   ]
  },
  {
   "cell_type": "markdown",
   "id": "d2e693ed",
   "metadata": {},
   "source": [
    "python tiene un modulo de fecha y hora parra manejar la fecha y la hora.\n"
   ]
  },
  {
   "cell_type": "code",
   "execution_count": 4,
   "id": "ddcb9e22",
   "metadata": {},
   "outputs": [
    {
     "name": "stdout",
     "output_type": "stream",
     "text": [
      "['MAXYEAR', 'MINYEAR', 'UTC', '__all__', '__builtins__', '__cached__', '__doc__', '__file__', '__loader__', '__name__', '__package__', '__spec__', 'date', 'datetime', 'datetime_CAPI', 'sys', 'time', 'timedelta', 'timezone', 'tzinfo']\n"
     ]
    }
   ],
   "source": [
    "import datetime\n",
    "print(dir(datetime))"
   ]
  },
  {
   "cell_type": "markdown",
   "id": "fa6a4eec",
   "metadata": {},
   "source": [
    "Con los comandos integrados dir o help es posible conover las funciones disponibles en un determinado modulo. Como puedes ver, en el modulo de fecha y hora hay muchas funciones, pero nos centraremos en fecha, fecha y hora, hora y timedelta.\n"
   ]
  },
  {
   "cell_type": "markdown",
   "id": "eef01499",
   "metadata": {},
   "source": [
    "### Obtener informacion de fecha y hora\n"
   ]
  },
  {
   "cell_type": "code",
   "execution_count": 5,
   "id": "118ce1d9",
   "metadata": {},
   "outputs": [
    {
     "name": "stdout",
     "output_type": "stream",
     "text": [
      "2024-05-11 11:23:45.832773\n",
      "11 5 2024 11 23\n",
      "timestamp 1715448225.832773\n",
      "11/5/2024, 11:23\n"
     ]
    }
   ],
   "source": [
    "from datetime import datetime\n",
    "now = datetime.now()\n",
    "print(now)                    \n",
    "day = now.day                  \n",
    "month = now.month               \n",
    "year = now.year                \n",
    "hour = now.hour                 \n",
    "minute = now.minute             \n",
    "second = now.second\n",
    "timestamp = now.timestamp()\n",
    "print(day, month, year, hour, minute)\n",
    "print('timestamp', timestamp)\n",
    "print(f'{day}/{month}/{year}, {hour}:{minute}') "
   ]
  },
  {
   "cell_type": "markdown",
   "id": "6075aed3",
   "metadata": {},
   "source": [
    "### Formaear la salida de fecha usando strtime.\n"
   ]
  },
  {
   "cell_type": "code",
   "execution_count": 6,
   "id": "a749ee0a",
   "metadata": {},
   "outputs": [
    {
     "name": "stdout",
     "output_type": "stream",
     "text": [
      "2020-01-01 00:00:00\n",
      "1 1 2020 0 0\n",
      "1/1/2020, 0:0\n"
     ]
    }
   ],
   "source": [
    "from datetime import datetime\n",
    "new_year = datetime(2020, 1, 1)\n",
    "print(new_year)      # 2020-01-01 00:00:00\n",
    "day = new_year.day\n",
    "month = new_year.month\n",
    "year = new_year.year\n",
    "hour = new_year.hour\n",
    "minute = new_year.minute\n",
    "second = new_year.second\n",
    "print(day, month, year, hour, minute) #1 1 2020 0 0\n",
    "print(f'{day}/{month}/{year}, {hour}:{minute}')  # 1/1/2020, 0:0\n"
   ]
  },
  {
   "cell_type": "code",
   "execution_count": 7,
   "id": "4b1e31f3",
   "metadata": {},
   "outputs": [
    {
     "name": "stdout",
     "output_type": "stream",
     "text": [
      "time: 11:31:24\n",
      "time one: 05/11/2024, 11:31:24\n",
      "time two: 11/05/2024, 11:31:24\n"
     ]
    }
   ],
   "source": [
    "from datetime import datetime\n",
    "# current date and time\n",
    "now = datetime.now()\n",
    "t = now.strftime(\"%H:%M:%S\")\n",
    "print(\"time:\", t)\n",
    "time_one = now.strftime(\"%m/%d/%Y, %H:%M:%S\")\n",
    "# mm/dd/YY H:M:S format\n",
    "print(\"time one:\", time_one)\n",
    "time_two = now.strftime(\"%d/%m/%Y, %H:%M:%S\")\n",
    "# dd/mm/YY H:M:S format\n",
    "print(\"time two:\", time_two)"
   ]
  },
  {
   "attachments": {
    "image.png": {
     "image/png": "[encoded data removed]"
    }
   },
   "cell_type": "markdown",
   "id": "414cdba0",
   "metadata": {},
   "source": [
    "![image.png](attachment:image.png)\n"
   ]
  },
  {
   "cell_type": "markdown",
   "id": "3280c4b8",
   "metadata": {},
   "source": [
    "### Cadena a tiempo usando strptime\n"
   ]
  },
  {
   "cell_type": "code",
   "execution_count": 8,
   "id": "11535283",
   "metadata": {},
   "outputs": [
    {
     "name": "stdout",
     "output_type": "stream",
     "text": [
      "date_string = 5 December, 2019\n",
      "date_object = 2019-12-05 00:00:00\n"
     ]
    }
   ],
   "source": [
    "from datetime import datetime\n",
    "date_string = \"5 December, 2019\"\n",
    "print(\"date_string =\", date_string)\n",
    "date_object = datetime.strptime(date_string, \"%d %B, %Y\")\n",
    "print(\"date_object =\", date_object)"
   ]
  },
  {
   "cell_type": "markdown",
   "id": "6b36409b",
   "metadata": {},
   "source": [
    "### Usando fecha desde fecha y hora.\n"
   ]
  },
  {
   "cell_type": "code",
   "execution_count": 9,
   "id": "bde3d88d",
   "metadata": {},
   "outputs": [
    {
     "name": "stdout",
     "output_type": "stream",
     "text": [
      "2020-01-01\n",
      "Current date: 2024-05-11\n",
      "Current year: 2024\n",
      "Current month: 5\n",
      "Current day: 11\n"
     ]
    }
   ],
   "source": [
    "from datetime import date\n",
    "d = date(2020, 1, 1)\n",
    "print(d)\n",
    "print('Current date:', d.today()) \n",
    "# date object of today's date\n",
    "today = date.today()\n",
    "print(\"Current year:\", today.year)  \n",
    "print(\"Current month:\", today.month) \n",
    "print(\"Current day:\", today.day)    "
   ]
  },
  {
   "cell_type": "markdown",
   "id": "022eb9f6",
   "metadata": {},
   "source": [
    "### Objetos de tiempo para representar tiempo.\n"
   ]
  },
  {
   "cell_type": "code",
   "execution_count": 10,
   "id": "72635e7f",
   "metadata": {},
   "outputs": [
    {
     "name": "stdout",
     "output_type": "stream",
     "text": [
      "a = 00:00:00\n",
      "b = 10:30:50\n",
      "c = 10:30:50\n",
      "d = 10:30:50.200555\n"
     ]
    }
   ],
   "source": [
    "from datetime import time\n",
    "# time(hour = 0, minute = 0, second = 0)\n",
    "a = time()\n",
    "print(\"a =\", a)\n",
    "# time(hour, minute and second)\n",
    "b = time(10, 30, 50)\n",
    "print(\"b =\", b)\n",
    "# time(hour, minute and second)\n",
    "c = time(hour=10, minute=30, second=50)\n",
    "print(\"c =\", c)\n",
    "# time(hour, minute, second, microsecond)\n",
    "d = time(10, 30, 50, 200555)\n",
    "print(\"d =\", d)"
   ]
  },
  {
   "cell_type": "markdown",
   "id": "db20432a",
   "metadata": {},
   "source": [
    "#### Diferencia entre dos puntos en el tiempo usando timedelta.\n"
   ]
  },
  {
   "cell_type": "code",
   "execution_count": 11,
   "id": "9579ffe7",
   "metadata": {},
   "outputs": [
    {
     "name": "stdout",
     "output_type": "stream",
     "text": [
      "t3 = 86 days, 22:56:50\n"
     ]
    }
   ],
   "source": [
    "from datetime import timedelta\n",
    "t1 = timedelta(weeks=12, days=10, hours=4, seconds=20)\n",
    "t2 = timedelta(days=7, hours=5, minutes=3, seconds=30)\n",
    "t3 = t1 - t2\n",
    "print(\"t3 =\", t3)"
   ]
  },
  {
   "cell_type": "markdown",
   "id": "a691671e",
   "metadata": {},
   "source": [
    "## Manejo de excepciones.\n"
   ]
  },
  {
   "cell_type": "markdown",
   "id": "bba9167e",
   "metadata": {},
   "source": [
    "python usa **try except** para gestionar los errores de forma elegante. Una salida elegante (o gestion elegante) de errores es un modismo de programacion simple: un programa detecta una condicion de error grave y \"sale elegantemente\" , de forma cotrolada como resultado. A menudo, el programa imprime un mensaje de error descriptivo en una terminal o registro como parte de la salida elegante, esto hace que nuestra aplicacion sea mas robusta. La causa de una excepcion suele ser externa al propio programa. Un ejemplo de excepciones podria ser una entrada incorrecta, un nombre de archivo incorrecto, no poder encontrar un archivo, un dispositivo de E/S que funciona mal. La gestion elegante de errores evita que nuestras aplicaciones se bloqueen,\n"
   ]
  },
  {
   "cell_type": "markdown",
   "id": "2a040e08",
   "metadata": {},
   "source": [
    "**try:**\n",
    "\n",
    "En este bloque se coloca el código que deseas ejecutar y que podría potencialmente generar una excepción (un error en tiempo de ejecución). Si el código se ejecuta sin problemas, el flujo del programa continúa normalmente.\n",
    "\n",
    "**except:**\n",
    "Este bloque se ejecuta si se produce una excepción en el bloque try. Puedes manejar excepciones específicas usando except seguido del tipo de excepción (por ejemplo, except ValueError:). Si no especificas un tipo de excepción, el bloque except capturará cualquier excepción que ocurra. Además, puede tener o no una condición (especificar un tipo de excepción o manejar cualquier excepción).\n",
    "\n",
    "**else:**\n",
    "Este bloque es opcional y se ejecuta si el código dentro del bloque try no genera ninguna excepción. Es útil cuando deseas ejecutar un código solo si no hubo ningún error en el bloque try.\n",
    "\n",
    "**finally:**\n",
    "Este bloque también es opcional y siempre se ejecuta, sin importar si ocurrió o no una excepción. Es útil para liberar recursos o ejecutar código de limpieza, como cerrar archivos o conexiones a bases de datos.\n"
   ]
  },
  {
   "cell_type": "code",
   "execution_count": 7,
   "id": "a638e623",
   "metadata": {},
   "outputs": [
    {
     "name": "stdout",
     "output_type": "stream",
     "text": [
      "No puedes dividir por cero\n",
      "Ejecución finalizada\n"
     ]
    }
   ],
   "source": [
    "try:\n",
    "    # Intenta ejecutar este código\n",
    "    resultado = 10 / 0\n",
    "except ZeroDivisionError:\n",
    "    # Este código se ejecuta si ocurre una excepción de división por cero\n",
    "    print(\"No puedes dividir por cero\")\n",
    "else:\n",
    "    # Este código se ejecuta si no ocurre ninguna excepción\n",
    "    print(\"La división fue exitosa\")\n",
    "finally:\n",
    "    # Este código siempre se ejecuta\n",
    "    print(\"Ejecución finalizada\")\n"
   ]
  },
  {
   "cell_type": "markdown",
   "id": "5220e6b1",
   "metadata": {},
   "source": [
    "## Expresiones regulares\n"
   ]
  },
  {
   "cell_type": "markdown",
   "id": "7fd3933e",
   "metadata": {},
   "source": [
    "Una expresion regular o RegEx es una cadena de texto especial que ayuda a encontar patrones en los datos. Una RegEx se puede utilizar para comprobar si existe algun patron en un tipo de datos diferente, Para utilizar RegEx en pyton primero debemos importar el modulo RegEx que se llama **re**.\n"
   ]
  },
  {
   "cell_type": "markdown",
   "id": "810bd056",
   "metadata": {},
   "source": [
    "### El modulo re.\n"
   ]
  },
  {
   "cell_type": "markdown",
   "id": "e2066148",
   "metadata": {},
   "source": [
    "Despues de importar el modulo podemos usarlo para detectar o encontrar patrones.\n"
   ]
  },
  {
   "cell_type": "markdown",
   "id": "d74f8be8",
   "metadata": {},
   "source": [
    "```python\n",
    "import re\n",
    "```\n"
   ]
  },
  {
   "cell_type": "markdown",
   "id": "2d8eab2f",
   "metadata": {},
   "source": [
    "### Metodos en el modulo re\n"
   ]
  },
  {
   "cell_type": "markdown",
   "id": "3ad60cb6",
   "metadata": {},
   "source": [
    "Para encontrar un patron utilizamos diferentes conjuntos de caracteres que permiten buscar una coincidencia en una cadena.\n"
   ]
  },
  {
   "cell_type": "markdown",
   "id": "0364d9c8",
   "metadata": {},
   "source": [
    "- **re.match():** busca solo al principio de la primera linea de la cadena y devuelve los objetos coincidentes si los encuentra; de lo contrario devuelve **none**.\n",
    "\n",
    "- **re.search:** Devuelve un objeto de coincidencia si hay uno en cualquier parte de la cadena, incluidas cadenas de varias lineas.\n",
    "\n",
    "- **re.findall:** Devuelve una lista que contiene todas las coincidencias.\n",
    "\n",
    "- **re.split:** toma una cadena, la divide en los puntos de coincidencia y devuelve una lista.\n",
    "\n",
    "- **re.sub:** Reemplaza una o varias coincidencias dentro de una cadena.\n"
   ]
  },
  {
   "cell_type": "markdown",
   "id": "878dbc07",
   "metadata": {},
   "source": [
    "#### Match\n"
   ]
  },
  {
   "cell_type": "markdown",
   "id": "736765e5",
   "metadata": {},
   "source": [
    "```python\n",
    "re.match(substring, string, re.I)\n",
    "```\n"
   ]
  },
  {
   "cell_type": "code",
   "execution_count": 16,
   "id": "27beeb29",
   "metadata": {},
   "outputs": [
    {
     "name": "stdout",
     "output_type": "stream",
     "text": [
      "<re.Match object; span=(0, 15), match='I love to teach'>\n",
      "(0, 15)\n",
      "0 15\n",
      "I love to teach\n"
     ]
    }
   ],
   "source": [
    "import re\n",
    "\n",
    "txt = 'I love to teach python and javaScript'\n",
    "match = re.match('I love to teach', txt, re.I)\n",
    "print(match)\n",
    "span = match.span()\n",
    "print(span)\n",
    "start, end = span\n",
    "print(start, end)  \n",
    "substring = txt[start:end]\n",
    "print(substring)"
   ]
  },
  {
   "cell_type": "markdown",
   "id": "e0b3f0fc",
   "metadata": {},
   "source": [
    "Como se puede en el ejemplo anterior, el patron que buscamos (o la subcadena que buscamos) es **i love to teach**. La funcion match devuelve en objeto solo si el texto comienza con el patron.\n"
   ]
  },
  {
   "cell_type": "code",
   "execution_count": 13,
   "id": "0a96bb43",
   "metadata": {},
   "outputs": [
    {
     "name": "stdout",
     "output_type": "stream",
     "text": [
      "None\n"
     ]
    }
   ],
   "source": [
    "import re\n",
    "\n",
    "txt = 'I love to teach python and javaScript'\n",
    "match = re.match('I like to teach', txt, re.I)\n",
    "print(match)"
   ]
  },
  {
   "cell_type": "markdown",
   "id": "89d479d0",
   "metadata": {},
   "source": [
    "La cadena no coincide con **Me gusta enseñar**, Por lo tanto, no hubo coincidencia y el metodo de coincidencia devolvio **None**.\n"
   ]
  },
  {
   "cell_type": "markdown",
   "id": "e7ce62f3",
   "metadata": {},
   "source": [
    "#### Search\n"
   ]
  },
  {
   "cell_type": "markdown",
   "id": "f05cad1c",
   "metadata": {},
   "source": [
    "```python\n",
    "re.match(substring, string, re.I)\n",
    "```\n"
   ]
  },
  {
   "cell_type": "code",
   "execution_count": 2,
   "id": "6d128c62",
   "metadata": {},
   "outputs": [
    {
     "name": "stdout",
     "output_type": "stream",
     "text": [
      "<re.Match object; span=(100, 105), match='first'>\n",
      "(100, 105)\n",
      "100 105\n",
      "first\n"
     ]
    }
   ],
   "source": [
    "import re\n",
    "\n",
    "txt = '''Python is the most beautiful language that a human being has ever created.\n",
    "I recommend python for a first programming language'''\n",
    "match = re.search('first', txt, re.I)\n",
    "print(match)  \n",
    "span = match.span()\n",
    "print(span)\n",
    "start, end = span\n",
    "print(start, end)  \n",
    "substring = txt[start:end]\n",
    "print(substring)      "
   ]
  },
  {
   "cell_type": "markdown",
   "id": "ba914efe",
   "metadata": {},
   "source": [
    "Como se puede ver, la funcion de **search** es mucho mejor que la coincidencia por que puede buscar el patron en todo el texto. La funcion de busqueda devuelve un objeto de coincidencia con la primera coincidencia encontrada; de lo contrario, devuelve **None**. Una funcion de busqueda muccho mejor es **findall**. Esta funcion busca el patron en toda la cadena y devuelve todas las coincidencias como una lista.\n"
   ]
  },
  {
   "cell_type": "markdown",
   "id": "ec38adbb",
   "metadata": {},
   "source": [
    "#### findall\n"
   ]
  },
  {
   "cell_type": "markdown",
   "id": "20a8c976",
   "metadata": {},
   "source": [
    "**findall():** devuelve todas las coincidencias como una lista\n"
   ]
  },
  {
   "cell_type": "markdown",
   "id": "2179a001",
   "metadata": {},
   "source": [
    "```python\n",
    "txt = '''Python is the most beautiful language that a human being has ever created.\n",
    "I recommend python for a first programming language'''\n",
    "\n",
    "matches = re.findall('language', txt, re.I)\n",
    "print(matches)\n",
    "```\n"
   ]
  },
  {
   "cell_type": "code",
   "execution_count": 18,
   "id": "0f23b48c",
   "metadata": {},
   "outputs": [
    {
     "name": "stdout",
     "output_type": "stream",
     "text": [
      "['language', 'language']\n"
     ]
    }
   ],
   "source": [
    "txt = '''Python is the most beautiful language that a human being has ever created.\n",
    "I recommend python for a first programming language'''\n",
    "\n",
    "matches = re.findall('language', txt, re.I)\n",
    "print(matches) "
   ]
  },
  {
   "cell_type": "markdown",
   "id": "fe08b105",
   "metadata": {},
   "source": [
    "Como se puede ver, la palabra **language** se encontro dos veces en la cadena. Practiquemos un poco mas. Ahora buscaremos palabras de python y python en la cadena:\n"
   ]
  },
  {
   "cell_type": "code",
   "execution_count": 3,
   "id": "3dd74b64",
   "metadata": {},
   "outputs": [
    {
     "name": "stdout",
     "output_type": "stream",
     "text": [
      "['Python', 'python']\n"
     ]
    }
   ],
   "source": [
    "txt = '''Python is the most beautiful language that a human being has ever created.\n",
    "I recommend python for a first programming language'''\n",
    "\n",
    "# It returns list\n",
    "matches = re.findall('python', txt, re.I)\n",
    "print(matches)  # ['Python', 'python']\n"
   ]
  },
  {
   "cell_type": "markdown",
   "id": "5893e40f",
   "metadata": {},
   "source": [
    "Dado que utilizamos re.i, se incluyen tanto letras mayusculas como minusculas. Si no tenemos el indicador re.i, tendremos que escribir nuestro patron de otra manera veamoslo:\n"
   ]
  },
  {
   "cell_type": "code",
   "execution_count": 4,
   "id": "c4587a07",
   "metadata": {},
   "outputs": [
    {
     "name": "stdout",
     "output_type": "stream",
     "text": [
      "['Python', 'python']\n",
      "['Python', 'python']\n"
     ]
    }
   ],
   "source": [
    "txt = '''Python is the most beautiful language that a human being has ever created.\n",
    "I recommend python for a first programming language'''\n",
    "\n",
    "matches = re.findall('Python|python', txt)\n",
    "print(matches)  # ['Python', 'python']\n",
    "\n",
    "#\n",
    "matches = re.findall('[Pp]ython', txt)\n",
    "print(matches)  # ['Python', 'python']\n"
   ]
  },
  {
   "cell_type": "markdown",
   "id": "a5fa7aa4",
   "metadata": {},
   "source": [
    "#### Reemplazar una subcadena.\n"
   ]
  },
  {
   "cell_type": "code",
   "execution_count": 3,
   "id": "9b30b57a",
   "metadata": {},
   "outputs": [
    {
     "name": "stdout",
     "output_type": "stream",
     "text": [
      "JavaScript is the most beautiful language that a human being has ever created.\n",
      "I recommend JavaScript for a first programming language\n",
      "JavaScript is the most beautiful language that a human being has ever created.\n",
      "I recommend JavaScript for a first programming language\n"
     ]
    }
   ],
   "source": [
    "txt = '''Python is the most beautiful language that a human being has ever created.\n",
    "I recommend python for a first programming language'''\n",
    "\n",
    "match_replaced = re.sub('Python|python', 'JavaScript', txt, re.I)\n",
    "print(match_replaced)\n",
    "match_replaced = re.sub('[Pp]ython', 'JavaScript', txt, re.I)\n",
    "print(match_replaced)  "
   ]
  },
  {
   "cell_type": "markdown",
   "id": "a7088fea",
   "metadata": {},
   "source": [
    "Agreguemos un ejemplo mas. La siguiente cadena es muy dificil de leer a menos que eliminemos el simbolo % reemplazar el % con una cadena vacia limpiara el texto.\n"
   ]
  },
  {
   "cell_type": "markdown",
   "id": "c2041570",
   "metadata": {},
   "source": []
  },
  {
   "cell_type": "code",
   "execution_count": 4,
   "id": "6355eeba",
   "metadata": {},
   "outputs": [
    {
     "name": "stdout",
     "output_type": "stream",
     "text": [
      "I am teacher and  I love teaching. \n",
      "There is nothing as rewarding as educating and empowering people.\n",
      "I found teaching more interesting than any other jobs. \n",
      "Does this motivate you to be a teacher?\n"
     ]
    }
   ],
   "source": [
    "txt = '''%I a%m te%%a%%che%r% a%n%d %% I l%o%ve te%ach%ing. \n",
    "T%he%re i%s n%o%th%ing as r%ewarding a%s e%duc%at%i%ng a%n%d e%m%p%ow%er%ing p%e%o%ple.\n",
    "I fo%und te%a%ching m%ore i%n%t%er%%es%ting t%h%an any other %jobs. \n",
    "D%o%es thi%s m%ot%iv%a%te %y%o%u to b%e a t%e%a%cher?'''\n",
    "\n",
    "matches = re.sub('%', '', txt)\n",
    "print(matches)"
   ]
  },
  {
   "cell_type": "markdown",
   "id": "38b69351",
   "metadata": {},
   "source": [
    "#### Division de texto mediante RegEx Split.\n"
   ]
  },
  {
   "cell_type": "code",
   "execution_count": 5,
   "id": "de510885",
   "metadata": {},
   "outputs": [
    {
     "name": "stdout",
     "output_type": "stream",
     "text": [
      "['I am teacher and  I love teaching.', 'There is nothing as rewarding as educating and empowering people.', 'I found teaching more interesting than any other jobs.', 'Does this motivate you to be a teacher?']\n"
     ]
    }
   ],
   "source": [
    "txt = '''I am teacher and  I love teaching.\n",
    "There is nothing as rewarding as educating and empowering people.\n",
    "I found teaching more interesting than any other jobs.\n",
    "Does this motivate you to be a teacher?'''\n",
    "print(re.split('\\n', txt)) # splitting using \\n - end of line symbol"
   ]
  },
  {
   "cell_type": "markdown",
   "id": "8b050e8c",
   "metadata": {},
   "source": [
    "#### Como escribir patrones RegEx.\n"
   ]
  },
  {
   "cell_type": "markdown",
   "id": "dba35b91",
   "metadata": {},
   "source": [
    "Para declarar una variable de cadena, usamos comillas simples o dobles. Para declarar la variable RegEx. El siguiente patron solo identifica a apple con minusculas. Para que no distinga entre mayusculas y minusculas, debemos reescribir nuestro patron o agregar una bandera.\n"
   ]
  },
  {
   "cell_type": "code",
   "execution_count": 6,
   "id": "a7fd2a4d",
   "metadata": {},
   "outputs": [
    {
     "name": "stdout",
     "output_type": "stream",
     "text": [
      "['apple']\n",
      "['Apple', 'apple']\n",
      "['Apple', 'apple']\n"
     ]
    }
   ],
   "source": [
    "import re\n",
    "\n",
    "regex_pattern = r'apple'\n",
    "txt = 'Apple and banana are fruits. An old cliche says an apple a day a doctor way has been replaced by a banana a day keeps the doctor far far away. '\n",
    "matches = re.findall(regex_pattern, txt)\n",
    "print(matches)  # ['apple']\n",
    "\n",
    "# To make case insensitive adding flag '\n",
    "matches = re.findall(regex_pattern, txt, re.I)\n",
    "print(matches)  # ['Apple', 'apple']\n",
    "# or we can use a set of characters method\n",
    "regex_pattern = r'[Aa]pple'  # this mean the first letter could be Apple or apple\n",
    "matches = re.findall(regex_pattern, txt)\n",
    "print(matches)  # ['Apple', 'apple']\n"
   ]
  },
  {
   "cell_type": "markdown",
   "id": "429c6ee2",
   "metadata": {},
   "source": [
    "- [ ]: Un conjunto de caracteres\n",
    "    - [ac] significa a o b o c\n",
    "    - [az] significa cualquier letra de la a a la z\n",
    "    - [AZ] significa cualquier carácter de la A a la Z\n",
    "    - [0-3] significa 0 o 1 o 2 o 3\n",
    "    - [0-9] significa cualquier número del 0 al 9\n",
    "    - [A-Za-z0-9] cualquier carácter individual, es decir de la a a la z, de la A a la Z o del 0 al 9\n",
    "- `\\:` se utiliza para escapar caracteres especiales\n",
    "  - \\d significa: coincide con donde la cadena contiene dígitos (números del 0 al 9)\n",
    "  - \\D significa: coincide donde la cadena no contiene dígitos\n",
    "- . : cualquier carácter excepto el carácter de nueva línea (\\n)\n",
    "- ^: comienza con\n",
    "  - r'^substring' p. ej. r'^love', una oración que comienza con la palabra amor\n",
    "  - r'[^abc] significa no a, no b, no c.\n",
    "- $: termina con\n",
    "  - r'substring$' p. ej. r'love$', oración que termina con la palabra amor\n",
    "- *: cero o más veces\n",
    "  - r'[a]_' significa opcional o puede aparecer muchas veces.\n",
    "- +: una o más veces\n",
    "  - r'[a]+' significa al menos una vez (o más)\n",
    "- ?: cero o una vez\n",
    "  - r'[a]?' significa cero veces o una vez\n",
    "- {3}: Exactamente 3 caracteres\n",
    "- {3,}: Al menos 3 caracteres\n",
    "- {3,8}: de 3 a 8 caracteres\n",
    "- |: O bien o bien\n",
    "  - r'apple|banana' significa manzana o plátano\n",
    "- (): Captura y agrupa\n"
   ]
  },
  {
   "attachments": {
    "image.png": {
     "image/png": "[encoded data removed]"
    }
   },
   "cell_type": "markdown",
   "id": "ec35f7d5",
   "metadata": {},
   "source": [
    "![image.png](attachment:image.png)"
   ]
  },
  {
   "cell_type": "markdown",
   "id": "6e59ddbb",
   "metadata": {},
   "source": [
    "#### Corchete cuadrado\n",
    "utilicemos corchetes para incluir mayusculas y minusculas."
   ]
  },
  {
   "cell_type": "code",
   "execution_count": 7,
   "id": "83252a77",
   "metadata": {},
   "outputs": [
    {
     "name": "stdout",
     "output_type": "stream",
     "text": [
      "['Apple', 'apple']\n"
     ]
    }
   ],
   "source": [
    "regex_pattern = r'[Aa]pple' # this square bracket mean either A or a\n",
    "txt = 'Apple and banana are fruits. An old cliche says an apple a day a doctor way has been replaced by a banana a day keeps the doctor far far away.'\n",
    "matches = re.findall(regex_pattern, txt)\n",
    "print(matches)  # ['Apple', 'apple']"
   ]
  },
  {
   "cell_type": "markdown",
   "id": "27a14c83",
   "metadata": {},
   "source": [
    "Si queremos buscar el platano escribiremos el patron de la siguiente manera."
   ]
  },
  {
   "cell_type": "code",
   "execution_count": 8,
   "id": "0d09ace4",
   "metadata": {},
   "outputs": [
    {
     "name": "stdout",
     "output_type": "stream",
     "text": [
      "['Apple', 'banana', 'apple', 'banana']\n"
     ]
    }
   ],
   "source": [
    "regex_pattern = r'[Aa]pple|[Bb]anana' # this square bracket means either A or a\n",
    "txt = 'Apple and banana are fruits. An old cliche says an apple a day a doctor way has been replaced by a banana a day keeps the doctor far far away.'\n",
    "matches = re.findall(regex_pattern, txt)\n",
    "print(matches)"
   ]
  },
  {
   "cell_type": "markdown",
   "id": "5c95ddf6",
   "metadata": {},
   "source": [
    "#### Caracter de escape (\\) en RegEx."
   ]
  },
  {
   "cell_type": "markdown",
   "id": "daf81fb4",
   "metadata": {},
   "source": [
    "## Continuar despues"
   ]
  },
  {
   "cell_type": "markdown",
   "id": "39e7533b",
   "metadata": {},
   "source": [
    "## Manejo de archivos."
   ]
  },
  {
   "cell_type": "markdown",
   "id": "8ec9f243",
   "metadata": {},
   "source": [
    "En python se puede acceder de manera nativa sin instalar nada externo, como lo puede ser: (.txt, .json, .xml, .csv, .tsv, .excel).El manejo de archivos es una parte importante de la programacion que nos permite crear,leer,actualizar y eliminar archivos. En python para manejar datos, usamos la funcion integrada __open( )__."
   ]
  },
  {
   "cell_type": "markdown",
   "id": "f077c050",
   "metadata": {},
   "source": [
    "```python\n",
    "open('filename', mode) # mode(r, a, w, x, t,b)  could be to read, write, update"
   ]
  },
  {
   "cell_type": "markdown",
   "id": "c41a9758",
   "metadata": {},
   "source": [
    "- \"r\" - Lectura - Valor predeterminado. Abre un archivo para leerlo y devuelve un error si el archivo no existe.\n",
    "- \"a\" - Anexar - Abre un archivo para anexarlo, crea el archivo si no existe\n",
    "- \"w\" - Escribir - Abre un archivo para escribir, crea el archivo si no existe\n",
    "- \"x\" - Crear - Crea el archivo especificado, devuelve un error si el archivo existe\n",
    "- \"t\" - Texto - Valor predeterminado. Modo texto\n",
    "- \"b\" - Binario - Modo binario (por ejemplo, imágenes)"
   ]
  },
  {
   "cell_type": "markdown",
   "id": "4b62389e",
   "metadata": {},
   "source": [
    "ensayoooo\n"
   ]
  },
  {
   "cell_type": "markdown",
   "id": "4d463594",
   "metadata": {},
   "source": []
  }
 ],
 "metadata": {
  "kernelspec": {
   "display_name": "Python 3 (ipykernel)",
   "language": "python",
   "name": "python3"
  },
  "language_info": {
   "codemirror_mode": {
    "name": "ipython",
    "version": 3
   },
   "file_extension": ".py",
   "mimetype": "text/x-python",
   "name": "python",
   "nbconvert_exporter": "python",
   "pygments_lexer": "ipython3",
   "version": "3.12.3"
  },
  "toc-autonumbering": true,
  "toc-showmarkdowntxt": false
 },
 "nbformat": 4,
 "nbformat_minor": 5
}
