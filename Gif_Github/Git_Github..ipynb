{
 "cells": [
  {
   "cell_type": "markdown",
   "metadata": {},
   "source": [
    "# COMO USAR GIT Y GITHUB"
   ]
  },
  {
   "cell_type": "markdown",
   "metadata": {},
   "source": [
    "## Que es Git?"
   ]
  },
  {
   "cell_type": "markdown",
   "metadata": {},
   "source": [
    "Git es un sistema de control de versiones distribuido, gratuito y de codigo abierto, diseñado para manjear todo tipo de proyectos, desde los mas pequeños hasta los mas grandes, con velocidad y eficiencia.\n",
    "\n",
    "__Características Principales de Git:__\n",
    "\n",
    "__Distribuido:__\n",
    "Cada clon de un repositorio Git es un repositorio completo con historial completo y capacidades de seguimiento de versiones, no dependiendo de un servidor central.\n",
    "\n",
    "__Rendimiento:__\n",
    "Git está diseñado para ser rápido y eficiente, permitiendo realizar operaciones como commit, branching, y merging rápidamente.\n",
    "\n",
    "__Integridad:__\n",
    "Cada archivo y commit en Git están verificados mediante un algoritmo de hash SHA-1. Esto asegura la integridad del contenido.\n",
    "\n",
    "__Ramas y Fusión (Branching and Merging):__\n",
    "Git permite crear y fusionar ramas fácilmente. Las ramas son ligeras y permiten trabajar en diferentes características o versiones de manera independiente."
   ]
  },
  {
   "cell_type": "markdown",
   "metadata": {},
   "source": [
    "## Qué es GitHub?\n",
    "GitHub es una plataforma de alojamiento de código para el control de versiones y la colaboración. Permite a los desarrolladores trabajar juntos en proyectos de software de manera remota y colaborativa.\n",
    "\n",
    "__Características Principales de GitHub:__\n",
    "\n",
    "__Repositorios:__\n",
    "En GitHub, los proyectos se almacenan en repositorios. Cada repositorio puede contener múltiples ramas, issues, pull requests, y más.\n",
    "\n",
    "__Colaboración:__\n",
    "GitHub facilita la colaboración mediante pull requests, code reviews, y comentarios en el código. Los equipos pueden trabajar juntos de manera eficiente y organizada.\n",
    "\n",
    "__Forks:__\n",
    "Los usuarios pueden hacer un \"fork\" de un repositorio para crear su propia copia y trabajar en ella. Esto es útil para contribuir a proyectos de código abierto.\n",
    "\n",
    "__Integraciones y Automatización:__\n",
    "GitHub se integra con muchas herramientas de CI/CD (Integración Continua/Despliegue Continuo), permitiendo automatizar pruebas, despliegues, y otras tareas.\n",
    "\n",
    "__Issues y Proyectos:__\n",
    "GitHub tiene un sistema de seguimiento de issues que permite a los desarrolladores reportar y rastrear errores, así como gestionar tareas y proyectos.\n",
    "\n",
    "__GitHub Actions:__\n",
    "Una característica para automatizar flujos de trabajo directamente en el repositorio, permitiendo ejecutar pruebas, construir aplicaciones, y desplegar código automáticamente."
   ]
  },
  {
   "cell_type": "markdown",
   "metadata": {},
   "source": [
    "## Configuracion inicial de Git"
   ]
  },
  {
   "cell_type": "markdown",
   "metadata": {},
   "source": [
    "Una vez que ya tenemos instalado __Git__ en la computadora se prodecera con la configuarcion inicial lo cual se tendra que hacer una sola vez y se mantendra.\n",
    "\n",
    "Git cuenta con la herramienta _Git config_, que te permite obtener y establecer variables de configuarcion que controlan el aspecto y funcionamiento de Git. Estas variables pueden almacenarce en 3 sitios."
   ]
  },
  {
   "cell_type": "markdown",
   "metadata": {},
   "source": [
    "## Pasos para subir repositorios a github."
   ]
  },
  {
   "cell_type": "markdown",
   "metadata": {},
   "source": [
    "cd /ruta/a/tu/proyecto: Cambia el directorio actual a la carpeta donde se encuentra tu proyecto.\n",
    "\n",
    "git init: Inicializa un nuevo repositorio Git en el directorio actual, creando una carpeta oculta .git que contiene los archivos necesarios para el control de versiones.\n",
    "\n",
    "git remote add origin https://xxxxx: Añade una URL remota llamada origin que apunta al repositorio en GitHub.\n",
    "\n",
    "git pull origin main: Descarga los cambios de la rama main del repositorio remoto origin y los integra en tu repositorio local.\n",
    "\n",
    "git checkout -b mi-nueva-rama: Crea una nueva rama llamada mi-nueva-rama y cambia a ella.\n",
    "\n",
    "git add .: Añade todos los cambios en el directorio de trabajo al área de preparación (staging area).\n",
    "\n",
    "git commit -m \"un mensaje\": Crea un commit con los cambios que se encuentran en el área de preparación, con el mensaje proporcionado.\n",
    "\n",
    "git merge main: Integra los cambios de la rama main en la rama actual (mi-nueva-rama).\n",
    "\n",
    "git push origin mi-nueva-rama: Envía los cambios de la rama actual (mi-nueva-rama) al repositorio remoto en GitHub. Esto también crea la nueva rama en el repositorio remoto si no existe ya.\n",
    "\n",
    "\n",
    "--- Por si se desea cambiar el nombre de una rama tienes que asegurarte de estar en la rama (Para cambiar de ramas usamos el comando __git checkout \"Nombre de tu rama\"__) y para observar el listado de todas la ramas usamos __git branch__ al igual si se desea ver las ramas remotas usamos __git branch -a__\n",
    "\n"
   ]
  },
  {
   "cell_type": "markdown",
   "metadata": {},
   "source": [
    "## Actualizar datos en repositorios ya existentes."
   ]
  },
  {
   "cell_type": "markdown",
   "metadata": {},
   "source": [
    "git checkout main : Revisamos que estamos en la rama deseada.\n",
    "\n",
    "git add . : Añade todos los cambios en el directorio de trabajo al área de preparación (staging area).\n",
    "\n",
    "git commit -m \"Descripción de los cambios\"\n",
    "\n",
    "git push origin main: Subimos en el repositorio.\n"
   ]
  },
  {
   "cell_type": "markdown",
   "metadata": {},
   "source": []
  }
 ],
 "metadata": {
  "language_info": {
   "name": "python"
  }
 },
 "nbformat": 4,
 "nbformat_minor": 2
}
